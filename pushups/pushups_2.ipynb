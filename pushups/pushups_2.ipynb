{
 "cells": [
  {
   "cell_type": "markdown",
   "id": "f76e2734-fe86-4acc-b211-762fc9fd8430",
   "metadata": {},
   "source": [
    "# Graph Replication Exercise"
   ]
  },
  {
   "cell_type": "markdown",
   "id": "15c30f59-acf3-4065-bc29-60ac9139f1af",
   "metadata": {},
   "source": [
    "[Our World in Data](https://ourworldindata.org/) features tons of very interesting graphs like the following:\n",
    "\n",
    "<img src=\"shares.png\" width=\"500\" height=\"340\">\n",
    "\n",
    "For each graph it is possible to download the corresponding data file as csv:\n",
    "\n",
    "<img src=\"download.png\" width=\"500\" height=\"340\">\n"
   ]
  },
  {
   "cell_type": "markdown",
   "id": "2855aa85-b8c9-46f0-9f07-65b53f559867",
   "metadata": {},
   "source": [
    "## Import Data"
   ]
  },
  {
   "cell_type": "markdown",
   "id": "35a0a185-4c3a-4083-a698-39dc13f08661",
   "metadata": {},
   "source": [
    "__Choose one graph that you find particularly interesting or beautiful. Download it from the website and upload it on nuvolos in the current folder__\n",
    "\n",
    "<img src=\"upload.png\" width=\"500\" height=\"340\">\n"
   ]
  },
  {
   "cell_type": "markdown",
   "id": "0c4fac8e-f73b-4eb7-beb4-a2cfc64d22e6",
   "metadata": {},
   "source": [
    "__Import the csv file using function `pandas.read_csv` and print some rows of the database__"
   ]
  },
  {
   "cell_type": "code",
   "execution_count": null,
   "id": "aa3db194-c17d-4ecb-87eb-6fe927c0b452",
   "metadata": {},
   "outputs": [],
   "source": []
  },
  {
   "cell_type": "markdown",
   "id": "c7d72909-6b9f-4f67-9c87-0d659f733ced",
   "metadata": {},
   "source": [
    "__Try to replicate the graph using matplotlib or altair (it doesn't have to be identical, but the main message must be conveyed).__"
   ]
  },
  {
   "cell_type": "code",
   "execution_count": null,
   "id": "952636fd-4afa-4d3a-a016-e93ac8b57a3d",
   "metadata": {},
   "outputs": [],
   "source": []
  }
 ],
 "metadata": {
  "kernelspec": {
   "display_name": "ESCPython",
   "language": "python",
   "name": "escpython"
  },
  "language_info": {
   "codemirror_mode": {
    "name": "ipython",
    "version": 3
   },
   "file_extension": ".py",
   "mimetype": "text/x-python",
   "name": "python",
   "nbconvert_exporter": "python",
   "pygments_lexer": "ipython3",
   "version": "3.10.9"
  }
 },
 "nbformat": 4,
 "nbformat_minor": 5
}
