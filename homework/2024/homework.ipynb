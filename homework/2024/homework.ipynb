{
 "cells": [
  {
   "cell_type": "markdown",
   "metadata": {},
   "source": [
    "# Data-Based Economics: Coursework\n",
    "\n",
    "Students (up to 3):\n",
    "\n",
    "- \n",
    "- \n",
    "\n",
    "When working on the questions below, don't hesitate to take some initiatives. In particular, if you don't find how to answer a particular question (and you have asked 😉), feel free to propose a workaround.\n",
    "\n",
    "Your work will be evaluated in the following dimensions:\n",
    "\n",
    "1. Whether your notebook is replicable. When grading it, I should be able to run it from start to finish without error.\n",
    "1. Whether it is well written and clear. There should always be legible text to explain what you do, and make it a nice read. Imagine that the document was meant to be published as an online tutorial.\n",
    "2. Whether you have successfully solved the various theoretical and practical problems that are asked below.\n",
    "3. Whether you have shown some sense of initiative in approaching the various problems, in making the plots or in proposing extensions.\n",
    "\n",
    "---"
   ]
  },
  {
   "cell_type": "markdown",
   "metadata": {},
   "source": [
    "This homework is partly based on one of the projects from the excellent [Doing economics](https://www.core-econ.org/doing-economics/book/text/08-01.html#introduction) section of the Core Econ website.\n",
    "\n",
    "Don't hesitate to browse the website to get more context. You can even check the solutions in R to get an idea of what you can do."
   ]
  },
  {
   "cell_type": "markdown",
   "metadata": {},
   "source": [
    "## Import the \n",
    "\n",
    "The data originates from the EVS project (https://search.gesis.org/research_data/ZA4804). \n",
    "It has been used in the article [Employment status and subjective well-being: the role of the social norm to work\n",
    "](https://journals.sagepub.com/doi/10.1177/0950017014564602). \n",
    "\n",
    "Loosely following the spirit of the authors work, our goal will be to investigate one channel through wich unemployement can lead to lower life satisfaction. The general hypothesis is that social norms are key to the subjective disutility of being unemployed. In this notebook we focus on one particular called *work ethic*."
   ]
  },
  {
   "cell_type": "code",
   "execution_count": 115,
   "metadata": {},
   "outputs": [],
   "source": [
    "import pandas as pd"
   ]
  },
  {
   "cell_type": "markdown",
   "metadata": {},
   "source": [
    "__Question 1__\n",
    "\n",
    "Open the `economics.xlsx` workbook with excel. Fill the first sheet using the `ZA4804_EVS_VariableCorrespondence.pdf` file. Upload the resulting file and run the following code to import the data."
   ]
  },
  {
   "cell_type": "code",
   "execution_count": 119,
   "metadata": {},
   "outputs": [],
   "source": [
    "# the following imports the variable correspondances.\n",
    "variables = pd.read_excel(\"economics.xlsx\", sheet_name=0)"
   ]
  },
  {
   "cell_type": "code",
   "execution_count": 120,
   "metadata": {},
   "outputs": [
    {
     "data": {
      "text/html": [
       "<div>\n",
       "<style scoped>\n",
       "    .dataframe tbody tr th:only-of-type {\n",
       "        vertical-align: middle;\n",
       "    }\n",
       "\n",
       "    .dataframe tbody tr th {\n",
       "        vertical-align: top;\n",
       "    }\n",
       "\n",
       "    .dataframe thead th {\n",
       "        text-align: right;\n",
       "    }\n",
       "</style>\n",
       "<table border=\"1\" class=\"dataframe\">\n",
       "  <thead>\n",
       "    <tr style=\"text-align: right;\">\n",
       "      <th></th>\n",
       "      <th>Variable</th>\n",
       "      <th>New name</th>\n",
       "      <th>Variable description</th>\n",
       "    </tr>\n",
       "  </thead>\n",
       "  <tbody>\n",
       "    <tr>\n",
       "      <th>0</th>\n",
       "      <td>S002EVS</td>\n",
       "      <td>NaN</td>\n",
       "      <td>NaN</td>\n",
       "    </tr>\n",
       "    <tr>\n",
       "      <th>1</th>\n",
       "      <td>S003</td>\n",
       "      <td>NaN</td>\n",
       "      <td>NaN</td>\n",
       "    </tr>\n",
       "    <tr>\n",
       "      <th>2</th>\n",
       "      <td>S006</td>\n",
       "      <td>NaN</td>\n",
       "      <td>NaN</td>\n",
       "    </tr>\n",
       "    <tr>\n",
       "      <th>3</th>\n",
       "      <td>S009</td>\n",
       "      <td>NaN</td>\n",
       "      <td>NaN</td>\n",
       "    </tr>\n",
       "    <tr>\n",
       "      <th>4</th>\n",
       "      <td>A009</td>\n",
       "      <td>NaN</td>\n",
       "      <td>NaN</td>\n",
       "    </tr>\n",
       "    <tr>\n",
       "      <th>5</th>\n",
       "      <td>A170</td>\n",
       "      <td>NaN</td>\n",
       "      <td>NaN</td>\n",
       "    </tr>\n",
       "    <tr>\n",
       "      <th>6</th>\n",
       "      <td>C036</td>\n",
       "      <td>NaN</td>\n",
       "      <td>NaN</td>\n",
       "    </tr>\n",
       "    <tr>\n",
       "      <th>7</th>\n",
       "      <td>C037</td>\n",
       "      <td>NaN</td>\n",
       "      <td>NaN</td>\n",
       "    </tr>\n",
       "    <tr>\n",
       "      <th>8</th>\n",
       "      <td>C038</td>\n",
       "      <td>NaN</td>\n",
       "      <td>NaN</td>\n",
       "    </tr>\n",
       "    <tr>\n",
       "      <th>9</th>\n",
       "      <td>C039</td>\n",
       "      <td>NaN</td>\n",
       "      <td>NaN</td>\n",
       "    </tr>\n",
       "    <tr>\n",
       "      <th>10</th>\n",
       "      <td>C041</td>\n",
       "      <td>NaN</td>\n",
       "      <td>NaN</td>\n",
       "    </tr>\n",
       "    <tr>\n",
       "      <th>11</th>\n",
       "      <td>X001</td>\n",
       "      <td>NaN</td>\n",
       "      <td>NaN</td>\n",
       "    </tr>\n",
       "    <tr>\n",
       "      <th>12</th>\n",
       "      <td>X003</td>\n",
       "      <td>NaN</td>\n",
       "      <td>NaN</td>\n",
       "    </tr>\n",
       "    <tr>\n",
       "      <th>13</th>\n",
       "      <td>X007</td>\n",
       "      <td>NaN</td>\n",
       "      <td>NaN</td>\n",
       "    </tr>\n",
       "    <tr>\n",
       "      <th>14</th>\n",
       "      <td>X011_01</td>\n",
       "      <td>NaN</td>\n",
       "      <td>NaN</td>\n",
       "    </tr>\n",
       "    <tr>\n",
       "      <th>15</th>\n",
       "      <td>X025A</td>\n",
       "      <td>NaN</td>\n",
       "      <td>NaN</td>\n",
       "    </tr>\n",
       "    <tr>\n",
       "      <th>16</th>\n",
       "      <td>X028</td>\n",
       "      <td>NaN</td>\n",
       "      <td>NaN</td>\n",
       "    </tr>\n",
       "    <tr>\n",
       "      <th>17</th>\n",
       "      <td>X047D</td>\n",
       "      <td>NaN</td>\n",
       "      <td>NaN</td>\n",
       "    </tr>\n",
       "  </tbody>\n",
       "</table>\n",
       "</div>"
      ],
      "text/plain": [
       "   Variable  New name  Variable description\n",
       "0   S002EVS       NaN                   NaN\n",
       "1      S003       NaN                   NaN\n",
       "2      S006       NaN                   NaN\n",
       "3      S009       NaN                   NaN\n",
       "4      A009       NaN                   NaN\n",
       "5      A170       NaN                   NaN\n",
       "6      C036       NaN                   NaN\n",
       "7      C037       NaN                   NaN\n",
       "8      C038       NaN                   NaN\n",
       "9      C039       NaN                   NaN\n",
       "10     C041       NaN                   NaN\n",
       "11     X001       NaN                   NaN\n",
       "12     X003       NaN                   NaN\n",
       "13     X007       NaN                   NaN\n",
       "14  X011_01       NaN                   NaN\n",
       "15    X025A       NaN                   NaN\n",
       "16     X028       NaN                   NaN\n",
       "17    X047D       NaN                   NaN"
      ]
     },
     "execution_count": 120,
     "metadata": {},
     "output_type": "execute_result"
    }
   ],
   "source": [
    "# check the variable correspondances\n",
    "variables"
   ]
  },
  {
   "cell_type": "code",
   "execution_count": 121,
   "metadata": {},
   "outputs": [],
   "source": [
    "# we now open the datasets corresponding to the various waves of the study\n",
    "sheets = {\n",
    "   '8184': pd.read_excel(\"economics.xlsx\", sheet_name=1), # wave 1\n",
    "   '9093': pd.read_excel(\"economics.xlsx\", sheet_name=2), # wave 2\n",
    "   '9901': pd.read_excel(\"economics.xlsx\", sheet_name=3), # wave 3\n",
    "   '0810': pd.read_excel(\"economics.xlsx\", sheet_name=4) # wave 4\n",
    "}"
   ]
  },
  {
   "cell_type": "code",
   "execution_count": null,
   "metadata": {},
   "outputs": [],
   "source": [
    "# we concatenate all sheets into a single dataframe\n",
    "df = pd.concat(sheets, names=['wave'], ignore_index=True)"
   ]
  },
  {
   "cell_type": "markdown",
   "metadata": {},
   "source": [
    "__Question 2: describe the dataset. Intuitively, which variables would you associate with a higher disutility of unemployment?__"
   ]
  },
  {
   "cell_type": "code",
   "execution_count": null,
   "metadata": {},
   "outputs": [],
   "source": []
  },
  {
   "cell_type": "markdown",
   "metadata": {},
   "source": [
    "## Prepare the data"
   ]
  },
  {
   "cell_type": "markdown",
   "metadata": {},
   "source": [
    "__Optional: Change the colum names of `df` into more meaningful identifiers__\n",
    "\n",
    "This will make the code easier to read.\n",
    "\n",
    "Note that in the rest of the notebook we use indifferently the variable codes or the extended names."
   ]
  },
  {
   "cell_type": "code",
   "execution_count": null,
   "metadata": {},
   "outputs": [],
   "source": []
  },
  {
   "cell_type": "markdown",
   "metadata": {},
   "source": [
    "__Question 3: Perform the following cleaning operations:__\n",
    "\n",
    "\n",
    "- Currently all missing values are coded as \".a\". Replace them by `pd.NA`\n",
    "- Variable A170 (life satisfaction) is currently a mixture of numbers (2 to 9) and words (‘Satisfied’ and ‘Dissatisfied’), but we would like it to be all numbers. Replace the word ‘Dissatisfied’ with the number 1, and the word ‘Satisfied’ with the number 10.\n",
    "- Variable X011_01 (number of children) has recorded no children as a word rather than a number. Replace ‘No children’ with the number 0.\n",
    "- The variables C036 to C041 should be replaced with numbers ranging from 1 (‘Strongly disagree’) to 5 (‘Strongly agree’) so we can take averages of them later. Similarly, variable A009 should be recoded as 1 = ‘Very poor’, 2 = ‘Poor’, 3 = ‘Fair’, 4 = ‘Good’, 5 = ‘Very good’.\n",
    "- __bonus__: Split X025A into two variables, one for the number before the colon, and the other containing the words after the colon."
   ]
  },
  {
   "cell_type": "code",
   "execution_count": 94,
   "metadata": {},
   "outputs": [],
   "source": [
    "df[df==\".a\"] = pd.NA"
   ]
  },
  {
   "cell_type": "code",
   "execution_count": 95,
   "metadata": {},
   "outputs": [],
   "source": [
    "df.loc[df['A170']=='Satisfied','A170'] = 10\n",
    "df.loc[df['A170']=='Dissatisfied','A170'] = 1"
   ]
  },
  {
   "cell_type": "code",
   "execution_count": 96,
   "metadata": {},
   "outputs": [],
   "source": [
    "df.loc[df['X011_01']=='No children','X011_01'] = 0"
   ]
  },
  {
   "cell_type": "code",
   "execution_count": 97,
   "metadata": {},
   "outputs": [],
   "source": [
    "df[df==\"Strongly disagree\"] = 1\n",
    "df[df==\"Disagree\"] = 2\n",
    "df[df==\"Neither agree nor disagree\"] = 3\n",
    "df[df==\"Agree\"] = 4\n",
    "df[df==\"Strongly agree\"] = 5"
   ]
  },
  {
   "cell_type": "code",
   "execution_count": 104,
   "metadata": {},
   "outputs": [],
   "source": [
    "df[df==\"Very poor\"] = 1\n",
    "df[df==\"Poor\"] = 2\n",
    "df[df==\"Fair\"] = 3\n",
    "df[df==\"Good\"] = 4\n",
    "df[df==\"Very good\"] = 5"
   ]
  },
  {
   "cell_type": "code",
   "execution_count": 105,
   "metadata": {},
   "outputs": [
    {
     "data": {
      "text/plain": [
       "array([3, 5, 2, 4, 1, <NA>], dtype=object)"
      ]
     },
     "execution_count": 105,
     "metadata": {},
     "output_type": "execute_result"
    }
   ],
   "source": [
    "df['A009'].unique()"
   ]
  },
  {
   "cell_type": "markdown",
   "metadata": {},
   "source": [
    "__Question 4: Remove missing values__\n",
    "\n",
    "In your dataset, remove all rows in all waves that have missing data for A170. \n",
    "Do the same for:\n",
    "\n",
    "- X003, X028, X007 and X001 in all waves\n",
    "- A009 in Waves 1, 2, and 4 only\n",
    "- C036, C037, C038, C039, C041 and X047D in Waves 3 and 4 only\n",
    "- X011_01 and X025A, in Wave 4."
   ]
  },
  {
   "cell_type": "code",
   "execution_count": null,
   "metadata": {},
   "outputs": [],
   "source": []
  },
  {
   "cell_type": "markdown",
   "metadata": {},
   "source": [
    "__Question 5: Create a new variable `work_ethic` as the average of columns C036 to C041.__"
   ]
  },
  {
   "cell_type": "code",
   "execution_count": null,
   "metadata": {},
   "outputs": [],
   "source": []
  },
  {
   "cell_type": "markdown",
   "metadata": {},
   "source": [
    "__Bonus: Create a variable `relative_income` which contains income divided by the average income from the relevant country. Why is that a better variable than raw income?__"
   ]
  },
  {
   "cell_type": "code",
   "execution_count": null,
   "metadata": {},
   "outputs": [],
   "source": []
  },
  {
   "cell_type": "markdown",
   "metadata": {},
   "source": [
    "## Summary statistics"
   ]
  },
  {
   "cell_type": "markdown",
   "metadata": {},
   "source": [
    "__Question 6: First cross-country comparison.__\n",
    "\n",
    "\n",
    "Create a table showing the breakdown of each country’s population according to employment status, with country (S003) as the row variable, and employment status (X028) as the column variable. Express the values as percentages of the row total rather than as frequencies. Discuss any differences or similarities between countries that you find interesting.\n"
   ]
  },
  {
   "cell_type": "markdown",
   "metadata": {},
   "source": []
  },
  {
   "cell_type": "markdown",
   "metadata": {},
   "source": [
    "__Question 7: Create a table with descriptive statistics aranged after the following layout. Comment.__\n",
    "\n",
    "![](summary_table.png)"
   ]
  },
  {
   "cell_type": "code",
   "execution_count": null,
   "metadata": {},
   "outputs": [],
   "source": []
  },
  {
   "cell_type": "markdown",
   "metadata": {},
   "source": [
    "## Visualizing the Data"
   ]
  },
  {
   "cell_type": "markdown",
   "metadata": {},
   "source": [
    "__Question 8: the evolution of work ethic.__\n",
    "\n",
    "Use the data from Wave 3 and Wave 4 only, for one country of your choice:\n",
    "- For this country create a frequency table that contains the frequency of each unique value of the work ethic scores. Also include the percentage of individuals at each value, grouped by Wave 3 and Wave 4 separately.\n",
    "- Plot a column chart showing the distribution of work ethic scores in Wave 3, with the percentage of individuals on the vertical axis and the range of work ethic scores on the horizontal axis. Plot the distribution of scores in Wave 4 on top of the Wave 3 distribution.\n",
    "- Based on your chart does it appear that the attitudes towards work in each country of your choice have changed over time? \n",
    "\n",
    "__Bonus__: do the same for another country of your choice and compare."
   ]
  },
  {
   "cell_type": "code",
   "execution_count": null,
   "metadata": {},
   "outputs": [],
   "source": []
  },
  {
   "cell_type": "markdown",
   "metadata": {},
   "source": [
    "__Question 9: Replicate the same analysis for life satisfaction.__"
   ]
  },
  {
   "cell_type": "markdown",
   "metadata": {},
   "source": []
  },
  {
   "cell_type": "markdown",
   "metadata": {},
   "source": [
    "__Question 10: for Wave 4 only, compute the correlations of the main variables with life satisfaction and work ethic.__\n",
    "It should correspond to the following pattern:\n",
    "\n",
    "![](correlations.png)\n",
    "\n",
    "For employment status and gender, you will need to create new variables: full-time employment should be equal to 1 if full-time employed and 0 if unemployed, and treated as missing data (left as a blank cell) otherwise. Gender should be 0 if male and 1 if female.\n",
    "\n",
    "Interpret the coefficients.\n"
   ]
  },
  {
   "cell_type": "code",
   "execution_count": null,
   "metadata": {},
   "outputs": [],
   "source": []
  },
  {
   "cell_type": "markdown",
   "metadata": {},
   "source": [
    "__Question 11 Using the data from Wave 4, carry out the following__\n",
    "\n",
    "- Create a table showing the average life satisfaction according to employment status (showing the full-time employed, retired, and unemployed categories only) with country (S003) as the row variable, and employment status (X028) as the column variable. Comment on any differences in average life satisfaction between these three groups, and whether social norms is a plausible explanation for these differences.\n",
    "- Use the table from Question 4(a) to calculate the difference in average life satisfaction (full-time employed minus unemployed, and full-time employed minus retired).\n",
    "- Make a separate scatterplot for each of these differences in life satisfaction, with average work ethic on the horizontal axis and difference in life satisfaction on the vertical axis.\n",
    "- For each difference (employed vs unemployed, employed vs retired), calculate and interpret the correlation coefficient between average work ethic and difference in life satisfaction."
   ]
  },
  {
   "cell_type": "markdown",
   "metadata": {},
   "source": []
  },
  {
   "cell_type": "markdown",
   "metadata": {},
   "source": [
    "## Measuring the non-monetary cost of unemployment"
   ]
  },
  {
   "cell_type": "markdown",
   "metadata": {},
   "source": [
    "__Question 12: using only wave 4, we consider first the following linear regression__\n",
    "\n",
    "$\\text{life satisfaction}_n =  \\alpha + \\beta \\text{unemployment}_n + \\gamma \\text{work ethic}_n$\n",
    "\n",
    "Run this regression without any other regressor. Comment on the result."
   ]
  },
  {
   "cell_type": "markdown",
   "metadata": {},
   "source": []
  },
  {
   "cell_type": "markdown",
   "metadata": {},
   "source": [
    "__Question 13: we consider now the regression__\n",
    "\n",
    "$\\text{life satisfaction}_n =  \\alpha + \\beta \\text{unemployment}_n + \\gamma \\text{work ethic}_n +  \\text{other regressors}$\n",
    "\n",
    "Which regressors would you choose? Can you find the combination that maximizes the predictive power of the regression?"
   ]
  },
  {
   "cell_type": "code",
   "execution_count": null,
   "metadata": {},
   "outputs": [],
   "source": []
  },
  {
   "cell_type": "markdown",
   "metadata": {},
   "source": [
    "__Question 14: the effect of work ethics__\n",
    "\n",
    "From the preceding regression can we cannot conclude about the interaction between work ethics and unemployment.\n",
    "\n",
    "Try to answer that question by running the following steps\n",
    "- create one variable `high_work_ethic`, equal to 1, if work ethic is above average\n",
    "- run the regression from before for two different dataset, one where `high_work_ethic` is equal to 1, and another where it is equal to 0\n",
    "- compare the values obtained for $\\beta$ in both cases\n",
    "- interpret\n",
    "- __bonus__: make a graphical representation"
   ]
  },
  {
   "cell_type": "code",
   "execution_count": null,
   "metadata": {},
   "outputs": [],
   "source": []
  },
  {
   "cell_type": "markdown",
   "metadata": {},
   "source": [
    "__Question 15: interaction term__\n",
    "\n",
    "Another common approach consists in running a regression with an interacion term, that is\n",
    "\n",
    "$\\text{life satisfaction}_n =  \\alpha + \\beta \\text{unemployment}_n + \\gamma \\text{work ethic}_n +\\delta  \\text{unemployment}_n \\times \\text{work ethic}_n+  \\text{other regressors}$\n",
    "\n",
    "Then if $\\delta$ is negative, higher work ethic implies a stronger effect of unemployment.\n",
    "\n",
    "Run that regression and comment.\n",
    "\n",
    "(hint: for statsmodels formula, `a*b` where `a` and `b` are regressors is interpreted as a regression part $c_1 a+ c_2 b+ c_3 a b$ where $c_1,c_2,c_3$ are unknown coefficients)"
   ]
  },
  {
   "cell_type": "code",
   "execution_count": null,
   "metadata": {},
   "outputs": [],
   "source": []
  },
  {
   "cell_type": "markdown",
   "metadata": {},
   "source": [
    "## Open question"
   ]
  },
  {
   "cell_type": "markdown",
   "metadata": {},
   "source": [
    "__Question 16: propose *any* another data work using the same dataframe that you find interesting (graph, econometric analysis, machine learning)__"
   ]
  },
  {
   "cell_type": "markdown",
   "metadata": {},
   "source": []
  }
 ],
 "metadata": {
  "kernelspec": {
   "display_name": "Python 3",
   "language": "python",
   "name": "python3"
  },
  "language_info": {
   "codemirror_mode": {
    "name": "ipython",
    "version": 3
   },
   "file_extension": ".py",
   "mimetype": "text/x-python",
   "name": "python",
   "nbconvert_exporter": "python",
   "pygments_lexer": "ipython3",
   "version": "3.12.1"
  }
 },
 "nbformat": 4,
 "nbformat_minor": 2
}
