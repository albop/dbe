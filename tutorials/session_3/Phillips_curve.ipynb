{
 "cells": [
  {
   "cell_type": "markdown",
   "id": "e029615f-1fa3-47c0-a291-916d1843db2f",
   "metadata": {},
   "source": [
    "# Visualizing the Philips Curve"
   ]
  },
  {
   "cell_type": "markdown",
   "id": "4c0b1caa-67d5-4e35-8b38-209813a74e5d",
   "metadata": {},
   "source": [
    "The Philips Curve was initially discovered as a statistical relationship between unemployment and inflation. The original version used historical US data.\n",
    "\n",
    "![Philips Curve](philips_curve.png \"Original Philips Curve\")"
   ]
  },
  {
   "cell_type": "markdown",
   "id": "35c6da9f-1015-479c-96dd-5416241599a5",
   "metadata": {},
   "source": [
    "Our goal here is to visually inspect the Philips curve using recent data, for several countries.\n",
    "\n",
    "In the process we will learn to:\n",
    "- import dataframes, inspect them, merge them, clean the resulting data\n",
    "- use matplotlib to create graphs\n",
    "- bonus: experiment with other plotting libraries"
   ]
  },
  {
   "cell_type": "markdown",
   "id": "de707ecf-5885-4308-8265-e1ea064fab91",
   "metadata": {},
   "source": [
    "## Importing the Data"
   ]
  },
  {
   "cell_type": "markdown",
   "id": "0d6ab4d4-4194-416b-8648-6cc77071c81a",
   "metadata": {},
   "source": [
    "We start by loading library dbnomics which contains all the data we want. It is installed already on the nuvolos server."
   ]
  },
  {
   "cell_type": "code",
   "execution_count": 1,
   "id": "7c46a4fe-72f3-4e4c-9f39-927df1fe4efc",
   "metadata": {},
   "outputs": [],
   "source": [
    "import dbnomics"
   ]
  },
  {
   "cell_type": "markdown",
   "id": "9fd74f83-bc37-4c9d-8c76-eb2000c5a23c",
   "metadata": {},
   "source": [
    "The following code imports data for from dbnomics for a few countries."
   ]
  },
  {
   "cell_type": "code",
   "execution_count": 2,
   "id": "37dda6de-0c53-4f46-8cd5-88fbc73bf42c",
   "metadata": {},
   "outputs": [],
   "source": [
    "table_1 = dbnomics.fetch_series([\n",
    "    \"OECD/DP_LIVE/FRA.CPI.TOT.AGRWTH.Q\",\n",
    "    \"OECD/DP_LIVE/GBR.CPI.TOT.AGRWTH.Q\",\n",
    "    \"OECD/DP_LIVE/USA.CPI.TOT.AGRWTH.Q\",\n",
    "    \"OECD/DP_LIVE/DEU.CPI.TOT.AGRWTH.Q\"\n",
    "])"
   ]
  },
  {
   "cell_type": "code",
   "execution_count": 3,
   "id": "e1d826d8-0b82-44a3-8621-c755fe295501",
   "metadata": {},
   "outputs": [],
   "source": [
    "table_2 = dbnomics.fetch_series([\n",
    "    \"OECD/MEI/DEU.LRUNTTTT.STSA.Q\",\n",
    "    \"OECD/MEI/FRA.LRUNTTTT.STSA.Q\",\n",
    "    \"OECD/MEI/USA.LRUNTTTT.STSA.Q\",\n",
    "    \"OECD/MEI/GBR.LRUNTTTT.STSA.Q\"\n",
    "])"
   ]
  },
  {
   "cell_type": "markdown",
   "id": "0de7abd2-bfcf-45f0-bfff-3cd41429ad0c",
   "metadata": {},
   "source": [
    "__Describe concisely the data that has been imported (periodicity, type of measure, ...). You can either check dbnomics website or look at the databases.__"
   ]
  },
  {
   "cell_type": "markdown",
   "id": "c21c7ae0-4d49-4551-9449-2a92560819e9",
   "metadata": {},
   "source": [
    " table_1 contains quarterly data about growth rate of CPI inflation for several countries (FRA, GBR, USA, DEU).\n",
    " There 1084 observations from 1956 to 2023."
   ]
  },
  {
   "cell_type": "code",
   "execution_count": 9,
   "id": "0d186ba1-5203-470f-bc19-ef6cc0a74af3",
   "metadata": {},
   "outputs": [
    {
     "data": {
      "text/html": [
       "<div>\n",
       "<style scoped>\n",
       "    .dataframe tbody tr th:only-of-type {\n",
       "        vertical-align: middle;\n",
       "    }\n",
       "\n",
       "    .dataframe tbody tr th {\n",
       "        vertical-align: top;\n",
       "    }\n",
       "\n",
       "    .dataframe thead th {\n",
       "        text-align: right;\n",
       "    }\n",
       "</style>\n",
       "<table border=\"1\" class=\"dataframe\">\n",
       "  <thead>\n",
       "    <tr style=\"text-align: right;\">\n",
       "      <th></th>\n",
       "      <th>period</th>\n",
       "      <th>value</th>\n",
       "    </tr>\n",
       "  </thead>\n",
       "  <tbody>\n",
       "    <tr>\n",
       "      <th>count</th>\n",
       "      <td>1084</td>\n",
       "      <td>1083.000000</td>\n",
       "    </tr>\n",
       "    <tr>\n",
       "      <th>mean</th>\n",
       "      <td>1989-09-30 18:46:29.667896704</td>\n",
       "      <td>3.891054</td>\n",
       "    </tr>\n",
       "    <tr>\n",
       "      <th>min</th>\n",
       "      <td>1956-01-01 00:00:00</td>\n",
       "      <td>-1.623360</td>\n",
       "    </tr>\n",
       "    <tr>\n",
       "      <th>25%</th>\n",
       "      <td>1972-10-01 00:00:00</td>\n",
       "      <td>1.680341</td>\n",
       "    </tr>\n",
       "    <tr>\n",
       "      <th>50%</th>\n",
       "      <td>1989-10-01 00:00:00</td>\n",
       "      <td>2.724924</td>\n",
       "    </tr>\n",
       "    <tr>\n",
       "      <th>75%</th>\n",
       "      <td>2006-10-01 00:00:00</td>\n",
       "      <td>5.002851</td>\n",
       "    </tr>\n",
       "    <tr>\n",
       "      <th>max</th>\n",
       "      <td>2023-07-01 00:00:00</td>\n",
       "      <td>26.565810</td>\n",
       "    </tr>\n",
       "    <tr>\n",
       "      <th>std</th>\n",
       "      <td>NaN</td>\n",
       "      <td>3.591647</td>\n",
       "    </tr>\n",
       "  </tbody>\n",
       "</table>\n",
       "</div>"
      ],
      "text/plain": [
       "                              period        value\n",
       "count                           1084  1083.000000\n",
       "mean   1989-09-30 18:46:29.667896704     3.891054\n",
       "min              1956-01-01 00:00:00    -1.623360\n",
       "25%              1972-10-01 00:00:00     1.680341\n",
       "50%              1989-10-01 00:00:00     2.724924\n",
       "75%              2006-10-01 00:00:00     5.002851\n",
       "max              2023-07-01 00:00:00    26.565810\n",
       "std                              NaN     3.591647"
      ]
     },
     "execution_count": 9,
     "metadata": {},
     "output_type": "execute_result"
    }
   ],
   "source": [
    "table_1.describe()"
   ]
  },
  {
   "cell_type": "markdown",
   "id": "d17d0ad0-25f7-465f-a980-93da2f9591e6",
   "metadata": {},
   "source": [
    " table_2 contains quarterly data about unemployment rate from the Labour Force Survey for the same countries from 1956 to 2023."
   ]
  },
  {
   "cell_type": "code",
   "execution_count": 12,
   "id": "9084cda0-5ddf-41f8-9686-4169e3faad22",
   "metadata": {},
   "outputs": [
    {
     "data": {
      "text/plain": [
       "array(['Germany – Labour Force Survey - quarterly rates > Unemployment rate > Aged 15 and over > All persons – Level, rate or national currency, s.a. – Quarterly',\n",
       "       'France – Labour Force Survey - quarterly rates > Unemployment rate > Aged 15 and over > All persons – Level, rate or national currency, s.a. – Quarterly',\n",
       "       'United States – Labour Force Survey - quarterly rates > Unemployment rate > Aged 15 and over > All persons – Level, rate or national currency, s.a. – Quarterly',\n",
       "       'United Kingdom – Labour Force Survey - quarterly rates > Unemployment rate > Aged 15 and over > All persons – Level, rate or national currency, s.a. – Quarterly'],\n",
       "      dtype=object)"
      ]
     },
     "execution_count": 12,
     "metadata": {},
     "output_type": "execute_result"
    }
   ],
   "source": [
    "table_2['series_name'].unique()"
   ]
  },
  {
   "cell_type": "code",
   "execution_count": 10,
   "id": "74c9e6db-d125-41d7-88f5-7812b1a225b8",
   "metadata": {},
   "outputs": [
    {
     "data": {
      "text/html": [
       "<div>\n",
       "<style scoped>\n",
       "    .dataframe tbody tr th:only-of-type {\n",
       "        vertical-align: middle;\n",
       "    }\n",
       "\n",
       "    .dataframe tbody tr th {\n",
       "        vertical-align: top;\n",
       "    }\n",
       "\n",
       "    .dataframe thead th {\n",
       "        text-align: right;\n",
       "    }\n",
       "</style>\n",
       "<table border=\"1\" class=\"dataframe\">\n",
       "  <thead>\n",
       "    <tr style=\"text-align: right;\">\n",
       "      <th></th>\n",
       "      <th>period</th>\n",
       "      <th>original_value</th>\n",
       "      <th>value</th>\n",
       "    </tr>\n",
       "  </thead>\n",
       "  <tbody>\n",
       "    <tr>\n",
       "      <th>count</th>\n",
       "      <td>817</td>\n",
       "      <td>817.000000</td>\n",
       "      <td>817.000000</td>\n",
       "    </tr>\n",
       "    <tr>\n",
       "      <th>mean</th>\n",
       "      <td>1994-11-08 05:59:33.561811584</td>\n",
       "      <td>6.098550</td>\n",
       "      <td>6.098550</td>\n",
       "    </tr>\n",
       "    <tr>\n",
       "      <th>min</th>\n",
       "      <td>1955-01-01 00:00:00</td>\n",
       "      <td>0.373774</td>\n",
       "      <td>0.373774</td>\n",
       "    </tr>\n",
       "    <tr>\n",
       "      <th>25%</th>\n",
       "      <td>1979-07-01 00:00:00</td>\n",
       "      <td>4.366667</td>\n",
       "      <td>4.366667</td>\n",
       "    </tr>\n",
       "    <tr>\n",
       "      <th>50%</th>\n",
       "      <td>1996-07-01 00:00:00</td>\n",
       "      <td>5.833333</td>\n",
       "      <td>5.833333</td>\n",
       "    </tr>\n",
       "    <tr>\n",
       "      <th>75%</th>\n",
       "      <td>2011-01-01 00:00:00</td>\n",
       "      <td>7.996948</td>\n",
       "      <td>7.996948</td>\n",
       "    </tr>\n",
       "    <tr>\n",
       "      <th>max</th>\n",
       "      <td>2023-10-01 00:00:00</td>\n",
       "      <td>13.000000</td>\n",
       "      <td>13.000000</td>\n",
       "    </tr>\n",
       "    <tr>\n",
       "      <th>std</th>\n",
       "      <td>NaN</td>\n",
       "      <td>2.550613</td>\n",
       "      <td>2.550613</td>\n",
       "    </tr>\n",
       "  </tbody>\n",
       "</table>\n",
       "</div>"
      ],
      "text/plain": [
       "                              period  original_value       value\n",
       "count                            817      817.000000  817.000000\n",
       "mean   1994-11-08 05:59:33.561811584        6.098550    6.098550\n",
       "min              1955-01-01 00:00:00        0.373774    0.373774\n",
       "25%              1979-07-01 00:00:00        4.366667    4.366667\n",
       "50%              1996-07-01 00:00:00        5.833333    5.833333\n",
       "75%              2011-01-01 00:00:00        7.996948    7.996948\n",
       "max              2023-10-01 00:00:00       13.000000   13.000000\n",
       "std                              NaN        2.550613    2.550613"
      ]
     },
     "execution_count": 10,
     "metadata": {},
     "output_type": "execute_result"
    }
   ],
   "source": [
    "table_2.describe()"
   ]
  },
  {
   "cell_type": "code",
   "execution_count": 8,
   "id": "bae7434e-bde2-45cc-9f7f-9a7dbe40d260",
   "metadata": {},
   "outputs": [
    {
     "data": {
      "text/html": [
       "<div>\n",
       "<style scoped>\n",
       "    .dataframe tbody tr th:only-of-type {\n",
       "        vertical-align: middle;\n",
       "    }\n",
       "\n",
       "    .dataframe tbody tr th {\n",
       "        vertical-align: top;\n",
       "    }\n",
       "\n",
       "    .dataframe thead th {\n",
       "        text-align: right;\n",
       "    }\n",
       "</style>\n",
       "<table border=\"1\" class=\"dataframe\">\n",
       "  <thead>\n",
       "    <tr style=\"text-align: right;\">\n",
       "      <th></th>\n",
       "      <th>@frequency</th>\n",
       "      <th>provider_code</th>\n",
       "      <th>dataset_code</th>\n",
       "      <th>dataset_name</th>\n",
       "      <th>series_code</th>\n",
       "      <th>series_name</th>\n",
       "      <th>original_period</th>\n",
       "      <th>period</th>\n",
       "      <th>original_value</th>\n",
       "      <th>value</th>\n",
       "      <th>LOCATION</th>\n",
       "      <th>SUBJECT</th>\n",
       "      <th>MEASURE</th>\n",
       "      <th>FREQUENCY</th>\n",
       "      <th>Country</th>\n",
       "      <th>Subject</th>\n",
       "      <th>Measure</th>\n",
       "      <th>Frequency</th>\n",
       "    </tr>\n",
       "  </thead>\n",
       "  <tbody>\n",
       "    <tr>\n",
       "      <th>0</th>\n",
       "      <td>quarterly</td>\n",
       "      <td>OECD</td>\n",
       "      <td>MEI</td>\n",
       "      <td>Main Economic Indicators Publication</td>\n",
       "      <td>DEU.LRUNTTTT.STSA.Q</td>\n",
       "      <td>Germany – Labour Force Survey - quarterly rate...</td>\n",
       "      <td>1962-Q1</td>\n",
       "      <td>1962-01-01</td>\n",
       "      <td>0.442249</td>\n",
       "      <td>0.442249</td>\n",
       "      <td>DEU</td>\n",
       "      <td>LRUNTTTT</td>\n",
       "      <td>STSA</td>\n",
       "      <td>Q</td>\n",
       "      <td>Germany</td>\n",
       "      <td>Labour Force Survey - quarterly rates &gt; Unempl...</td>\n",
       "      <td>Level, rate or national currency, s.a.</td>\n",
       "      <td>Quarterly</td>\n",
       "    </tr>\n",
       "    <tr>\n",
       "      <th>1</th>\n",
       "      <td>quarterly</td>\n",
       "      <td>OECD</td>\n",
       "      <td>MEI</td>\n",
       "      <td>Main Economic Indicators Publication</td>\n",
       "      <td>DEU.LRUNTTTT.STSA.Q</td>\n",
       "      <td>Germany – Labour Force Survey - quarterly rate...</td>\n",
       "      <td>1962-Q2</td>\n",
       "      <td>1962-04-01</td>\n",
       "      <td>0.444882</td>\n",
       "      <td>0.444882</td>\n",
       "      <td>DEU</td>\n",
       "      <td>LRUNTTTT</td>\n",
       "      <td>STSA</td>\n",
       "      <td>Q</td>\n",
       "      <td>Germany</td>\n",
       "      <td>Labour Force Survey - quarterly rates &gt; Unempl...</td>\n",
       "      <td>Level, rate or national currency, s.a.</td>\n",
       "      <td>Quarterly</td>\n",
       "    </tr>\n",
       "  </tbody>\n",
       "</table>\n",
       "</div>"
      ],
      "text/plain": [
       "  @frequency provider_code dataset_code                          dataset_name  \\\n",
       "0  quarterly          OECD          MEI  Main Economic Indicators Publication   \n",
       "1  quarterly          OECD          MEI  Main Economic Indicators Publication   \n",
       "\n",
       "           series_code                                        series_name  \\\n",
       "0  DEU.LRUNTTTT.STSA.Q  Germany – Labour Force Survey - quarterly rate...   \n",
       "1  DEU.LRUNTTTT.STSA.Q  Germany – Labour Force Survey - quarterly rate...   \n",
       "\n",
       "  original_period     period  original_value     value LOCATION   SUBJECT  \\\n",
       "0         1962-Q1 1962-01-01        0.442249  0.442249      DEU  LRUNTTTT   \n",
       "1         1962-Q2 1962-04-01        0.444882  0.444882      DEU  LRUNTTTT   \n",
       "\n",
       "  MEASURE FREQUENCY  Country  \\\n",
       "0    STSA         Q  Germany   \n",
       "1    STSA         Q  Germany   \n",
       "\n",
       "                                             Subject  \\\n",
       "0  Labour Force Survey - quarterly rates > Unempl...   \n",
       "1  Labour Force Survey - quarterly rates > Unempl...   \n",
       "\n",
       "                                  Measure  Frequency  \n",
       "0  Level, rate or national currency, s.a.  Quarterly  \n",
       "1  Level, rate or national currency, s.a.  Quarterly  "
      ]
     },
     "execution_count": 8,
     "metadata": {},
     "output_type": "execute_result"
    }
   ],
   "source": [
    "# show onlye the few firs lines:\n",
    "table_2.head(2)"
   ]
  },
  {
   "cell_type": "markdown",
   "id": "e3040098-08d5-43ac-8dce-6cba2db8c71a",
   "metadata": {},
   "source": []
  },
  {
   "cell_type": "markdown",
   "id": "8b92405a-14b4-46e8-9f4e-a0bd2b4489cd",
   "metadata": {},
   "source": [
    "__Show the first rows of each database. Make a list of all columns.__"
   ]
  },
  {
   "cell_type": "code",
   "execution_count": 13,
   "id": "8f805e91-5080-40f6-9e08-29d80c09b7c3",
   "metadata": {},
   "outputs": [
    {
     "data": {
      "text/html": [
       "<div>\n",
       "<style scoped>\n",
       "    .dataframe tbody tr th:only-of-type {\n",
       "        vertical-align: middle;\n",
       "    }\n",
       "\n",
       "    .dataframe tbody tr th {\n",
       "        vertical-align: top;\n",
       "    }\n",
       "\n",
       "    .dataframe thead th {\n",
       "        text-align: right;\n",
       "    }\n",
       "</style>\n",
       "<table border=\"1\" class=\"dataframe\">\n",
       "  <thead>\n",
       "    <tr style=\"text-align: right;\">\n",
       "      <th></th>\n",
       "      <th>@frequency</th>\n",
       "      <th>provider_code</th>\n",
       "      <th>dataset_code</th>\n",
       "      <th>dataset_name</th>\n",
       "      <th>series_code</th>\n",
       "      <th>series_name</th>\n",
       "      <th>original_period</th>\n",
       "      <th>period</th>\n",
       "      <th>original_value</th>\n",
       "      <th>value</th>\n",
       "      <th>LOCATION</th>\n",
       "      <th>INDICATOR</th>\n",
       "      <th>SUBJECT</th>\n",
       "      <th>MEASURE</th>\n",
       "      <th>FREQUENCY</th>\n",
       "      <th>Country</th>\n",
       "      <th>Indicator</th>\n",
       "      <th>Subject</th>\n",
       "      <th>Measure</th>\n",
       "      <th>Frequency</th>\n",
       "    </tr>\n",
       "  </thead>\n",
       "  <tbody>\n",
       "    <tr>\n",
       "      <th>0</th>\n",
       "      <td>quarterly</td>\n",
       "      <td>OECD</td>\n",
       "      <td>DP_LIVE</td>\n",
       "      <td>OECD Data Live dataset</td>\n",
       "      <td>FRA.CPI.TOT.AGRWTH.Q</td>\n",
       "      <td>France – Inflation (CPI) – Total – Annual grow...</td>\n",
       "      <td>1956-Q1</td>\n",
       "      <td>1956-01-01</td>\n",
       "      <td>1.746324</td>\n",
       "      <td>1.746324</td>\n",
       "      <td>FRA</td>\n",
       "      <td>CPI</td>\n",
       "      <td>TOT</td>\n",
       "      <td>AGRWTH</td>\n",
       "      <td>Q</td>\n",
       "      <td>France</td>\n",
       "      <td>Inflation (CPI)</td>\n",
       "      <td>Total</td>\n",
       "      <td>Annual growth rate (%)</td>\n",
       "      <td>Quarterly</td>\n",
       "    </tr>\n",
       "  </tbody>\n",
       "</table>\n",
       "</div>"
      ],
      "text/plain": [
       "  @frequency provider_code dataset_code            dataset_name  \\\n",
       "0  quarterly          OECD      DP_LIVE  OECD Data Live dataset   \n",
       "\n",
       "            series_code                                        series_name  \\\n",
       "0  FRA.CPI.TOT.AGRWTH.Q  France – Inflation (CPI) – Total – Annual grow...   \n",
       "\n",
       "  original_period     period original_value     value LOCATION INDICATOR  \\\n",
       "0         1956-Q1 1956-01-01       1.746324  1.746324      FRA       CPI   \n",
       "\n",
       "  SUBJECT MEASURE FREQUENCY Country        Indicator Subject  \\\n",
       "0     TOT  AGRWTH         Q  France  Inflation (CPI)   Total   \n",
       "\n",
       "                  Measure  Frequency  \n",
       "0  Annual growth rate (%)  Quarterly  "
      ]
     },
     "execution_count": 13,
     "metadata": {},
     "output_type": "execute_result"
    }
   ],
   "source": [
    "table_1.head(1)"
   ]
  },
  {
   "cell_type": "markdown",
   "id": "0d28e8ea-cf60-41fd-bffd-45edaa2fb632",
   "metadata": {},
   "source": [
    "__Compute standard statistics for all variables__"
   ]
  },
  {
   "cell_type": "code",
   "execution_count": 15,
   "id": "b83dc96b-bbd4-4e1c-81f0-e3444cec3419",
   "metadata": {},
   "outputs": [
    {
     "data": {
      "text/html": [
       "<div>\n",
       "<style scoped>\n",
       "    .dataframe tbody tr th:only-of-type {\n",
       "        vertical-align: middle;\n",
       "    }\n",
       "\n",
       "    .dataframe tbody tr th {\n",
       "        vertical-align: top;\n",
       "    }\n",
       "\n",
       "    .dataframe thead th {\n",
       "        text-align: right;\n",
       "    }\n",
       "</style>\n",
       "<table border=\"1\" class=\"dataframe\">\n",
       "  <thead>\n",
       "    <tr style=\"text-align: right;\">\n",
       "      <th></th>\n",
       "      <th>period</th>\n",
       "      <th>value</th>\n",
       "    </tr>\n",
       "  </thead>\n",
       "  <tbody>\n",
       "    <tr>\n",
       "      <th>count</th>\n",
       "      <td>1084</td>\n",
       "      <td>1083.000000</td>\n",
       "    </tr>\n",
       "    <tr>\n",
       "      <th>mean</th>\n",
       "      <td>1989-09-30 18:46:29.667896704</td>\n",
       "      <td>3.891054</td>\n",
       "    </tr>\n",
       "    <tr>\n",
       "      <th>min</th>\n",
       "      <td>1956-01-01 00:00:00</td>\n",
       "      <td>-1.623360</td>\n",
       "    </tr>\n",
       "    <tr>\n",
       "      <th>25%</th>\n",
       "      <td>1972-10-01 00:00:00</td>\n",
       "      <td>1.680341</td>\n",
       "    </tr>\n",
       "    <tr>\n",
       "      <th>50%</th>\n",
       "      <td>1989-10-01 00:00:00</td>\n",
       "      <td>2.724924</td>\n",
       "    </tr>\n",
       "    <tr>\n",
       "      <th>75%</th>\n",
       "      <td>2006-10-01 00:00:00</td>\n",
       "      <td>5.002851</td>\n",
       "    </tr>\n",
       "    <tr>\n",
       "      <th>max</th>\n",
       "      <td>2023-07-01 00:00:00</td>\n",
       "      <td>26.565810</td>\n",
       "    </tr>\n",
       "    <tr>\n",
       "      <th>std</th>\n",
       "      <td>NaN</td>\n",
       "      <td>3.591647</td>\n",
       "    </tr>\n",
       "  </tbody>\n",
       "</table>\n",
       "</div>"
      ],
      "text/plain": [
       "                              period        value\n",
       "count                           1084  1083.000000\n",
       "mean   1989-09-30 18:46:29.667896704     3.891054\n",
       "min              1956-01-01 00:00:00    -1.623360\n",
       "25%              1972-10-01 00:00:00     1.680341\n",
       "50%              1989-10-01 00:00:00     2.724924\n",
       "75%              2006-10-01 00:00:00     5.002851\n",
       "max              2023-07-01 00:00:00    26.565810\n",
       "std                              NaN     3.591647"
      ]
     },
     "execution_count": 15,
     "metadata": {},
     "output_type": "execute_result"
    }
   ],
   "source": [
    "table_1.describe()"
   ]
  },
  {
   "cell_type": "markdown",
   "id": "18891ef6-62f4-42c7-9670-bdf040818ce0",
   "metadata": {},
   "source": [
    "__Compute averages and standard deviations for unemployment and inflation, per country.__"
   ]
  },
  {
   "cell_type": "code",
   "execution_count": 30,
   "id": "c02406ad-f56b-4875-b86b-d69c84412a2e",
   "metadata": {},
   "outputs": [
    {
     "name": "stdout",
     "output_type": "stream",
     "text": [
      " The mean inflation for France is 4.218004559985239. The standard deviation is 3.85319032016491\n",
      " The mean inflation for United Kingdom is 5.003996036162361. The standard deviation is 4.768592756710978\n",
      " The mean inflation for United States is 3.678550917822878. The standard deviation is 2.7795046092217035\n",
      " The mean inflation for Germany is 2.659118566666667. The standard deviation is 1.8661314171203747\n"
     ]
    }
   ],
   "source": [
    "# option 1: by using pandas boolean selection \n",
    "\n",
    "\n",
    "# extract sub dataframe for  France\n",
    "# table_1.query(\"Country=='France'\")\n",
    "\n",
    "# this is a vector with True on rows containing France, False otherwise\n",
    "\n",
    "for country in ['France', 'United Kingdom', 'United States', 'Germany']:\n",
    "\n",
    "    sel = table_1[\"Country\"]==country\n",
    "    sdf = table_1[sel]\n",
    "    m = sdf['value'].mean()\n",
    "    s = sdf['value'].std()\n",
    "\n",
    "    print(f\" The mean inflation for {country} is {m}. The standard deviation is {s}\")\n"
   ]
  },
  {
   "cell_type": "code",
   "execution_count": 27,
   "id": "5a26af5a-6b23-4967-92a8-c024dc6628a4",
   "metadata": {},
   "outputs": [
    {
     "data": {
      "text/plain": [
       "array(['France', 'United Kingdom', 'United States', 'Germany'],\n",
       "      dtype=object)"
      ]
     },
     "execution_count": 27,
     "metadata": {},
     "output_type": "execute_result"
    }
   ],
   "source": [
    "table_1['Country'].unique()"
   ]
  },
  {
   "cell_type": "code",
   "execution_count": 34,
   "id": "500da292-3f57-4a15-a8fd-661f144a7724",
   "metadata": {},
   "outputs": [
    {
     "name": "stdout",
     "output_type": "stream",
     "text": [
      "Here are the means\n"
     ]
    },
    {
     "data": {
      "text/plain": [
       "Country\n",
       "France            4.218005\n",
       "Germany           2.659119\n",
       "United Kingdom    5.003996\n",
       "United States     3.678551\n",
       "Name: value, dtype: float64"
      ]
     },
     "execution_count": 34,
     "metadata": {},
     "output_type": "execute_result"
    }
   ],
   "source": [
    "# option 2: by using groupby\n",
    "\n",
    "print(\"Here are the means\")\n",
    "table_1.groupby('Country')['value'].mean()\n",
    "\n"
   ]
  },
  {
   "cell_type": "code",
   "execution_count": 36,
   "id": "d5384133-9200-4767-8b9f-89f98d7874c6",
   "metadata": {},
   "outputs": [
    {
     "name": "stdout",
     "output_type": "stream",
     "text": [
      "Here are the standard deviations\n"
     ]
    },
    {
     "data": {
      "text/plain": [
       "Country\n",
       "France            3.853190\n",
       "Germany           1.866131\n",
       "United Kingdom    4.768593\n",
       "United States     2.779505\n",
       "Name: value, dtype: float64"
      ]
     },
     "execution_count": 36,
     "metadata": {},
     "output_type": "execute_result"
    }
   ],
   "source": [
    "print(\"Here are the standard deviations\")\n",
    "table_1.groupby('Country')['value'].std()\n"
   ]
  },
  {
   "cell_type": "code",
   "execution_count": 38,
   "id": "9070197d-c06b-4ebf-91db-537092a5dd87",
   "metadata": {},
   "outputs": [
    {
     "data": {
      "text/html": [
       "<div>\n",
       "<style scoped>\n",
       "    .dataframe tbody tr th:only-of-type {\n",
       "        vertical-align: middle;\n",
       "    }\n",
       "\n",
       "    .dataframe tbody tr th {\n",
       "        vertical-align: top;\n",
       "    }\n",
       "\n",
       "    .dataframe thead th {\n",
       "        text-align: right;\n",
       "    }\n",
       "</style>\n",
       "<table border=\"1\" class=\"dataframe\">\n",
       "  <thead>\n",
       "    <tr style=\"text-align: right;\">\n",
       "      <th></th>\n",
       "      <th>mean</th>\n",
       "      <th>std</th>\n",
       "    </tr>\n",
       "    <tr>\n",
       "      <th>Country</th>\n",
       "      <th></th>\n",
       "      <th></th>\n",
       "    </tr>\n",
       "  </thead>\n",
       "  <tbody>\n",
       "    <tr>\n",
       "      <th>France</th>\n",
       "      <td>4.218005</td>\n",
       "      <td>3.853190</td>\n",
       "    </tr>\n",
       "    <tr>\n",
       "      <th>Germany</th>\n",
       "      <td>2.659119</td>\n",
       "      <td>1.866131</td>\n",
       "    </tr>\n",
       "    <tr>\n",
       "      <th>United Kingdom</th>\n",
       "      <td>5.003996</td>\n",
       "      <td>4.768593</td>\n",
       "    </tr>\n",
       "    <tr>\n",
       "      <th>United States</th>\n",
       "      <td>3.678551</td>\n",
       "      <td>2.779505</td>\n",
       "    </tr>\n",
       "  </tbody>\n",
       "</table>\n",
       "</div>"
      ],
      "text/plain": [
       "                    mean       std\n",
       "Country                           \n",
       "France          4.218005  3.853190\n",
       "Germany         2.659119  1.866131\n",
       "United Kingdom  5.003996  4.768593\n",
       "United States   3.678551  2.779505"
      ]
     },
     "execution_count": 38,
     "metadata": {},
     "output_type": "execute_result"
    }
   ],
   "source": [
    "# To get both mean and std:\n",
    "table_1.groupby('Country')['value'].agg( ['mean', 'std'] )"
   ]
  },
  {
   "cell_type": "code",
   "execution_count": 33,
   "id": "6325252e-3fa4-43e4-8c53-415d9fc837f3",
   "metadata": {},
   "outputs": [
    {
     "data": {
      "text/plain": [
       "Country\n",
       "France            8.680560\n",
       "Germany           4.989272\n",
       "United Kingdom    6.705114\n",
       "United States     5.851087\n",
       "Name: value, dtype: float64"
      ]
     },
     "execution_count": 33,
     "metadata": {},
     "output_type": "execute_result"
    }
   ],
   "source": [
    "table_2.groupby('Country')['value'].mean()\n"
   ]
  },
  {
   "cell_type": "markdown",
   "id": "c763a950-e53d-4edc-870d-c007154e0098",
   "metadata": {},
   "source": [
    "__The following command merges the two databases together. Explain the role of argument `on`. What happened to the column names?__"
   ]
  },
  {
   "cell_type": "code",
   "execution_count": 40,
   "id": "fa89416f-2022-4413-b253-8f3f77c54c5f",
   "metadata": {},
   "outputs": [
    {
     "data": {
      "text/html": [
       "<div>\n",
       "<style scoped>\n",
       "    .dataframe tbody tr th:only-of-type {\n",
       "        vertical-align: middle;\n",
       "    }\n",
       "\n",
       "    .dataframe tbody tr th {\n",
       "        vertical-align: top;\n",
       "    }\n",
       "\n",
       "    .dataframe thead th {\n",
       "        text-align: right;\n",
       "    }\n",
       "</style>\n",
       "<table border=\"1\" class=\"dataframe\">\n",
       "  <thead>\n",
       "    <tr style=\"text-align: right;\">\n",
       "      <th></th>\n",
       "      <th>@frequency</th>\n",
       "      <th>provider_code</th>\n",
       "      <th>dataset_code</th>\n",
       "      <th>dataset_name</th>\n",
       "      <th>series_code</th>\n",
       "      <th>series_name</th>\n",
       "      <th>original_period</th>\n",
       "      <th>period</th>\n",
       "      <th>original_value</th>\n",
       "      <th>value</th>\n",
       "      <th>LOCATION</th>\n",
       "      <th>SUBJECT</th>\n",
       "      <th>MEASURE</th>\n",
       "      <th>FREQUENCY</th>\n",
       "      <th>Country</th>\n",
       "      <th>Subject</th>\n",
       "      <th>Measure</th>\n",
       "      <th>Frequency</th>\n",
       "    </tr>\n",
       "  </thead>\n",
       "  <tbody>\n",
       "    <tr>\n",
       "      <th>0</th>\n",
       "      <td>quarterly</td>\n",
       "      <td>OECD</td>\n",
       "      <td>MEI</td>\n",
       "      <td>Main Economic Indicators Publication</td>\n",
       "      <td>DEU.LRUNTTTT.STSA.Q</td>\n",
       "      <td>Germany – Labour Force Survey - quarterly rate...</td>\n",
       "      <td>1962-Q1</td>\n",
       "      <td>1962-01-01</td>\n",
       "      <td>0.442249</td>\n",
       "      <td>0.442249</td>\n",
       "      <td>DEU</td>\n",
       "      <td>LRUNTTTT</td>\n",
       "      <td>STSA</td>\n",
       "      <td>Q</td>\n",
       "      <td>Germany</td>\n",
       "      <td>Labour Force Survey - quarterly rates &gt; Unempl...</td>\n",
       "      <td>Level, rate or national currency, s.a.</td>\n",
       "      <td>Quarterly</td>\n",
       "    </tr>\n",
       "  </tbody>\n",
       "</table>\n",
       "</div>"
      ],
      "text/plain": [
       "  @frequency provider_code dataset_code                          dataset_name  \\\n",
       "0  quarterly          OECD          MEI  Main Economic Indicators Publication   \n",
       "\n",
       "           series_code                                        series_name  \\\n",
       "0  DEU.LRUNTTTT.STSA.Q  Germany – Labour Force Survey - quarterly rate...   \n",
       "\n",
       "  original_period     period  original_value     value LOCATION   SUBJECT  \\\n",
       "0         1962-Q1 1962-01-01        0.442249  0.442249      DEU  LRUNTTTT   \n",
       "\n",
       "  MEASURE FREQUENCY  Country  \\\n",
       "0    STSA         Q  Germany   \n",
       "\n",
       "                                             Subject  \\\n",
       "0  Labour Force Survey - quarterly rates > Unempl...   \n",
       "\n",
       "                                  Measure  Frequency  \n",
       "0  Level, rate or national currency, s.a.  Quarterly  "
      ]
     },
     "execution_count": 40,
     "metadata": {},
     "output_type": "execute_result"
    }
   ],
   "source": [
    "table_2.head(1)"
   ]
  },
  {
   "cell_type": "code",
   "execution_count": 41,
   "id": "1c89f008-8758-46e2-88f6-2697950bfa3b",
   "metadata": {},
   "outputs": [],
   "source": [
    "table = table_1.merge(table_2, on=[\"period\", 'Country']) "
   ]
  },
  {
   "cell_type": "markdown",
   "id": "700abb33-cefd-4f75-9eb8-1b5479aa28ea",
   "metadata": {},
   "source": [
    "We rename the new names for the sake of clarity and normalize everything with lower cases."
   ]
  },
  {
   "cell_type": "code",
   "execution_count": 47,
   "id": "568c41ca-c2cd-4a29-a58c-238fbbd02754",
   "metadata": {},
   "outputs": [],
   "source": [
    "table = table.rename(\n",
    "    columns={\n",
    "    'period': 'date',         # because it sounds more natural\n",
    "    'Country': 'country',\n",
    "    'value_x': 'inflation',\n",
    "    'value_y': 'unemployment'\n",
    "    }\n",
    ")"
   ]
  },
  {
   "cell_type": "markdown",
   "id": "bc1622a1-da1f-4d62-a449-52b958fc8958",
   "metadata": {},
   "source": [
    "__On the merged table, compute at once all the statistics computed before (use `groupby` and `agg`).__"
   ]
  },
  {
   "cell_type": "code",
   "execution_count": 50,
   "id": "eea6a1a9-25d9-486c-9f10-11680fc07c87",
   "metadata": {},
   "outputs": [
    {
     "data": {
      "text/html": [
       "<div>\n",
       "<style scoped>\n",
       "    .dataframe tbody tr th:only-of-type {\n",
       "        vertical-align: middle;\n",
       "    }\n",
       "\n",
       "    .dataframe tbody tr th {\n",
       "        vertical-align: top;\n",
       "    }\n",
       "\n",
       "    .dataframe thead tr th {\n",
       "        text-align: left;\n",
       "    }\n",
       "\n",
       "    .dataframe thead tr:last-of-type th {\n",
       "        text-align: right;\n",
       "    }\n",
       "</style>\n",
       "<table border=\"1\" class=\"dataframe\">\n",
       "  <thead>\n",
       "    <tr>\n",
       "      <th></th>\n",
       "      <th colspan=\"2\" halign=\"left\">inflation</th>\n",
       "      <th colspan=\"2\" halign=\"left\">unemployment</th>\n",
       "    </tr>\n",
       "    <tr>\n",
       "      <th></th>\n",
       "      <th>mean</th>\n",
       "      <th>std</th>\n",
       "      <th>mean</th>\n",
       "      <th>std</th>\n",
       "    </tr>\n",
       "    <tr>\n",
       "      <th>country</th>\n",
       "      <th></th>\n",
       "      <th></th>\n",
       "      <th></th>\n",
       "      <th></th>\n",
       "    </tr>\n",
       "  </thead>\n",
       "  <tbody>\n",
       "    <tr>\n",
       "      <th>France</th>\n",
       "      <td>1.664349</td>\n",
       "      <td>1.381470</td>\n",
       "      <td>8.680560</td>\n",
       "      <td>0.984035</td>\n",
       "    </tr>\n",
       "    <tr>\n",
       "      <th>Germany</th>\n",
       "      <td>2.730136</td>\n",
       "      <td>1.918303</td>\n",
       "      <td>4.989272</td>\n",
       "      <td>3.067199</td>\n",
       "    </tr>\n",
       "    <tr>\n",
       "      <th>United Kingdom</th>\n",
       "      <td>5.404707</td>\n",
       "      <td>5.253143</td>\n",
       "      <td>6.705114</td>\n",
       "      <td>2.388539</td>\n",
       "    </tr>\n",
       "    <tr>\n",
       "      <th>United States</th>\n",
       "      <td>3.678551</td>\n",
       "      <td>2.779505</td>\n",
       "      <td>5.880812</td>\n",
       "      <td>1.668049</td>\n",
       "    </tr>\n",
       "  </tbody>\n",
       "</table>\n",
       "</div>"
      ],
      "text/plain": [
       "               inflation           unemployment          \n",
       "                    mean       std         mean       std\n",
       "country                                                  \n",
       "France          1.664349  1.381470     8.680560  0.984035\n",
       "Germany         2.730136  1.918303     4.989272  3.067199\n",
       "United Kingdom  5.404707  5.253143     6.705114  2.388539\n",
       "United States   3.678551  2.779505     5.880812  1.668049"
      ]
     },
     "execution_count": 50,
     "metadata": {},
     "output_type": "execute_result"
    }
   ],
   "source": [
    "table.groupby('country')[ ['inflation','unemployment'] ].agg(['mean','std'])"
   ]
  },
  {
   "cell_type": "markdown",
   "id": "0c8d87c4-06a3-4592-aa57-f2dc498bded1",
   "metadata": {},
   "source": [
    "Before we process further, we should tidy the dataframe by keeping only what we need.\n",
    "- Keep only the columns `date`, `country`, `inflation` and `unemployment`\n",
    "- Drop all na values\n",
    "- Make a copy of the result"
   ]
  },
  {
   "cell_type": "code",
   "execution_count": 52,
   "id": "865b1588-e0e8-4c8d-9b10-4f40dd20e377",
   "metadata": {},
   "outputs": [],
   "source": [
    "df = table[['date', 'country', 'inflation', 'unemployment']].dropna()"
   ]
  },
  {
   "cell_type": "code",
   "execution_count": 53,
   "id": "7ee2bca0-4b19-429e-b0bb-c174ad384a10",
   "metadata": {},
   "outputs": [],
   "source": [
    "df = df.copy()\n",
    "# note: the copy() function is here to avoid keeping references to the original database"
   ]
  },
  {
   "cell_type": "code",
   "execution_count": 54,
   "id": "3190831c-b120-43a6-b1f3-ea0077d19053",
   "metadata": {},
   "outputs": [
    {
     "data": {
      "text/html": [
       "<div>\n",
       "<style scoped>\n",
       "    .dataframe tbody tr th:only-of-type {\n",
       "        vertical-align: middle;\n",
       "    }\n",
       "\n",
       "    .dataframe tbody tr th {\n",
       "        vertical-align: top;\n",
       "    }\n",
       "\n",
       "    .dataframe thead th {\n",
       "        text-align: right;\n",
       "    }\n",
       "</style>\n",
       "<table border=\"1\" class=\"dataframe\">\n",
       "  <thead>\n",
       "    <tr style=\"text-align: right;\">\n",
       "      <th></th>\n",
       "      <th>date</th>\n",
       "      <th>country</th>\n",
       "      <th>inflation</th>\n",
       "      <th>unemployment</th>\n",
       "    </tr>\n",
       "  </thead>\n",
       "  <tbody>\n",
       "    <tr>\n",
       "      <th>0</th>\n",
       "      <td>2003-01-01</td>\n",
       "      <td>France</td>\n",
       "      <td>2.366263</td>\n",
       "      <td>7.922234</td>\n",
       "    </tr>\n",
       "    <tr>\n",
       "      <th>1</th>\n",
       "      <td>2003-04-01</td>\n",
       "      <td>France</td>\n",
       "      <td>1.912854</td>\n",
       "      <td>8.089598</td>\n",
       "    </tr>\n",
       "    <tr>\n",
       "      <th>2</th>\n",
       "      <td>2003-07-01</td>\n",
       "      <td>France</td>\n",
       "      <td>1.932270</td>\n",
       "      <td>8.036090</td>\n",
       "    </tr>\n",
       "    <tr>\n",
       "      <th>3</th>\n",
       "      <td>2003-10-01</td>\n",
       "      <td>France</td>\n",
       "      <td>2.184437</td>\n",
       "      <td>8.349410</td>\n",
       "    </tr>\n",
       "    <tr>\n",
       "      <th>4</th>\n",
       "      <td>2004-01-01</td>\n",
       "      <td>France</td>\n",
       "      <td>1.800087</td>\n",
       "      <td>8.518631</td>\n",
       "    </tr>\n",
       "    <tr>\n",
       "      <th>...</th>\n",
       "      <td>...</td>\n",
       "      <td>...</td>\n",
       "      <td>...</td>\n",
       "      <td>...</td>\n",
       "    </tr>\n",
       "    <tr>\n",
       "      <th>807</th>\n",
       "      <td>2022-07-01</td>\n",
       "      <td>Germany</td>\n",
       "      <td>7.402639</td>\n",
       "      <td>3.181081</td>\n",
       "    </tr>\n",
       "    <tr>\n",
       "      <th>808</th>\n",
       "      <td>2022-10-01</td>\n",
       "      <td>Germany</td>\n",
       "      <td>8.580543</td>\n",
       "      <td>3.059473</td>\n",
       "    </tr>\n",
       "    <tr>\n",
       "      <th>809</th>\n",
       "      <td>2023-01-01</td>\n",
       "      <td>Germany</td>\n",
       "      <td>8.236768</td>\n",
       "      <td>2.961556</td>\n",
       "    </tr>\n",
       "    <tr>\n",
       "      <th>810</th>\n",
       "      <td>2023-04-01</td>\n",
       "      <td>Germany</td>\n",
       "      <td>6.546894</td>\n",
       "      <td>2.963810</td>\n",
       "    </tr>\n",
       "    <tr>\n",
       "      <th>811</th>\n",
       "      <td>2023-07-01</td>\n",
       "      <td>Germany</td>\n",
       "      <td>5.603836</td>\n",
       "      <td>2.970260</td>\n",
       "    </tr>\n",
       "  </tbody>\n",
       "</table>\n",
       "<p>811 rows × 4 columns</p>\n",
       "</div>"
      ],
      "text/plain": [
       "          date  country  inflation  unemployment\n",
       "0   2003-01-01   France   2.366263      7.922234\n",
       "1   2003-04-01   France   1.912854      8.089598\n",
       "2   2003-07-01   France   1.932270      8.036090\n",
       "3   2003-10-01   France   2.184437      8.349410\n",
       "4   2004-01-01   France   1.800087      8.518631\n",
       "..         ...      ...        ...           ...\n",
       "807 2022-07-01  Germany   7.402639      3.181081\n",
       "808 2022-10-01  Germany   8.580543      3.059473\n",
       "809 2023-01-01  Germany   8.236768      2.961556\n",
       "810 2023-04-01  Germany   6.546894      2.963810\n",
       "811 2023-07-01  Germany   5.603836      2.970260\n",
       "\n",
       "[811 rows x 4 columns]"
      ]
     },
     "execution_count": 54,
     "metadata": {},
     "output_type": "execute_result"
    }
   ],
   "source": [
    "df"
   ]
  },
  {
   "cell_type": "markdown",
   "id": "5ece52f1-245f-47aa-96e0-fc63e973c7d0",
   "metadata": {},
   "source": [
    "__What is the maximum available interval for each country? How would you proceed to keep only those dates where all datas are available? In the following we keep the resulting \"cylindric\" database.__"
   ]
  },
  {
   "cell_type": "code",
   "execution_count": null,
   "id": "9b2edf64-575e-467e-9198-44eb8b6c5de3",
   "metadata": {},
   "outputs": [],
   "source": []
  },
  {
   "cell_type": "markdown",
   "id": "bee5f1b3-5d2b-45a1-9dd6-946be26a7a16",
   "metadata": {},
   "source": [
    "Our DataFrame is now ready for further analysis !"
   ]
  },
  {
   "cell_type": "markdown",
   "id": "2640463f-99c5-4865-82a0-516e44192f56",
   "metadata": {},
   "source": [
    "\n",
    "## Plotting using matplotlib"
   ]
  },
  {
   "cell_type": "markdown",
   "id": "99423997-eec9-4ece-878c-bb38ee69b4a6",
   "metadata": {},
   "source": [
    "Our goal now consists in plotting inflation against unemployment to see whether a pattern emerges. We will first work on France."
   ]
  },
  {
   "cell_type": "code",
   "execution_count": null,
   "id": "d793e0ab-b887-4cce-b708-745158049ddc",
   "metadata": {},
   "outputs": [],
   "source": [
    "from matplotlib import pyplot as plt"
   ]
  },
  {
   "cell_type": "markdown",
   "id": "c756d7d6-bc55-4097-b995-3defd4a13e0b",
   "metadata": {},
   "source": [
    "__Create a database `df_fr` which contains only the data for France.__"
   ]
  },
  {
   "cell_type": "code",
   "execution_count": null,
   "id": "f75e3238-5202-4120-bc1d-afa08e67aa01",
   "metadata": {},
   "outputs": [],
   "source": []
  },
  {
   "cell_type": "markdown",
   "id": "960eae6b-5ad0-462a-8284-10609aa711fb",
   "metadata": {},
   "source": [
    "__The following command create a line plot for `inflation` against `unemployment`. Can you transform it into a scatterplot ?__"
   ]
  },
  {
   "cell_type": "code",
   "execution_count": null,
   "id": "3768d3b0-72ca-4915-94dd-fdd7518fa5af",
   "metadata": {},
   "outputs": [],
   "source": [
    "plt.plot(df_fr['unemployment'], df_fr['inflation']) # missing 'o'"
   ]
  },
  {
   "cell_type": "markdown",
   "id": "51710958-307f-4716-bfc5-e42d0c6b273c",
   "metadata": {},
   "source": [
    "__Expand the above command to make the plot nicer (label, title, grid, ...)__"
   ]
  },
  {
   "cell_type": "code",
   "execution_count": null,
   "id": "846d0edd-0aa5-4661-8928-b3e678a10adc",
   "metadata": {},
   "outputs": [],
   "source": []
  },
  {
   "cell_type": "markdown",
   "id": "41234cfa-acff-4e65-8ad5-7c678a9440e1",
   "metadata": {},
   "source": [
    "## Visualizing the regression\n",
    "\n",
    "The following piece of code regresses `inflation` on `unemployment`."
   ]
  },
  {
   "cell_type": "code",
   "execution_count": null,
   "id": "669844ee-7870-477e-bf79-7ddf932b1ffa",
   "metadata": {
    "scrolled": true
   },
   "outputs": [],
   "source": [
    "from statsmodels.formula import api as sm\n",
    "model = sm.ols(formula='inflation ~ unemployment', data=df_fr)\n",
    "result = model.fit()"
   ]
  },
  {
   "cell_type": "markdown",
   "id": "cd3b9aa2-eb71-43e2-a2e1-97d7ec524d76",
   "metadata": {},
   "source": [
    "We can use the resulting model to \"predict\" inflation from unemployment."
   ]
  },
  {
   "cell_type": "code",
   "execution_count": null,
   "id": "a8bbd0a7-289f-4727-89a9-b62f5e7258aa",
   "metadata": {},
   "outputs": [],
   "source": [
    "result.predict(df_fr['unemployment'])"
   ]
  },
  {
   "cell_type": "markdown",
   "id": "f4f6aca0-1639-4f5e-b1ce-3ead55b96323",
   "metadata": {},
   "source": [
    "__Store the result in df_fr as a new column `reg_unemployment`__"
   ]
  },
  {
   "cell_type": "code",
   "execution_count": null,
   "id": "203b1777-aef2-434c-87b1-8ce89759bfb1",
   "metadata": {},
   "outputs": [],
   "source": []
  },
  {
   "cell_type": "markdown",
   "id": "6dd05004-512e-4e8c-a551-c5da8deb36aa",
   "metadata": {},
   "source": [
    "__Add the regression line to the scatter plot.__"
   ]
  },
  {
   "cell_type": "code",
   "execution_count": null,
   "id": "fe4d155f-0fe2-4638-8a7d-f60740ad14e7",
   "metadata": {},
   "outputs": [],
   "source": []
  },
  {
   "cell_type": "markdown",
   "id": "88a26f57-86a7-4533-b5c8-ed7f197dcf72",
   "metadata": {},
   "source": [
    "__Now we would like to compare all countries. Can you find a way to represent the data for all of them (all on one graph, using subplots...) ?__"
   ]
  },
  {
   "cell_type": "code",
   "execution_count": null,
   "id": "f1996114-7b46-4f36-bb00-82f71bf9c5c0",
   "metadata": {},
   "outputs": [],
   "source": []
  },
  {
   "cell_type": "markdown",
   "id": "d13ee500-45ba-4a3a-b53f-3066244b0e88",
   "metadata": {},
   "source": [
    "__Any comment on these results?__"
   ]
  },
  {
   "cell_type": "code",
   "execution_count": null,
   "id": "97473253-0d74-4048-b784-5c1ccf263701",
   "metadata": {},
   "outputs": [],
   "source": []
  },
  {
   "cell_type": "markdown",
   "id": "6af63ab2-7979-4727-a407-1b3807ed7e17",
   "metadata": {},
   "source": [
    "## Bonus: Visualizing data using altair"
   ]
  },
  {
   "cell_type": "markdown",
   "id": "62e465b8-8731-4e86-93b8-dc18404682ff",
   "metadata": {},
   "source": [
    "Altair is a visualization library (based on [Vega-lite](https://vega.github.io/vega-lite/)) which offers a different syntax to make plots.\n",
    "\n",
    "It is well adapted to the exploration phase, as it can operate on a full database (without splitting it like we did for matplotlib). It also provides some data transformation tools like regressions, and ways to add some interactivity."
   ]
  },
  {
   "cell_type": "code",
   "execution_count": null,
   "id": "d4f5bef7-c14f-40c3-a286-820aac0530bb",
   "metadata": {},
   "outputs": [],
   "source": [
    "import altair as alt"
   ]
  },
  {
   "cell_type": "markdown",
   "id": "449d2c87-040a-46af-8340-8c80430c6406",
   "metadata": {},
   "source": [
    "__The following command makes a basic plot from the dataframe `df` which contains all the countries. Can you enhance it by providing a title and encoding information to distinguish the various countries (for instance colors)?__"
   ]
  },
  {
   "cell_type": "code",
   "execution_count": null,
   "id": "9e119bb7-69d9-46d6-af90-81144b20885a",
   "metadata": {},
   "outputs": [],
   "source": [
    "chart = alt.Chart(df).mark_point().encode(\n",
    "    x='unemployment',\n",
    "    y='inflation',\n",
    "    # add something here\n",
    ")\n",
    "chart"
   ]
  },
  {
   "cell_type": "markdown",
   "id": "676d9953-220f-466e-aaf4-9dc0ab61d37f",
   "metadata": {},
   "source": [
    "__The following graph plots a regression line, but for all countries, it is rather meaningless. Can you restrict the data to France only?__"
   ]
  },
  {
   "cell_type": "code",
   "execution_count": null,
   "id": "e6b74f78-4744-49d8-8951-c27a361aadfd",
   "metadata": {},
   "outputs": [],
   "source": [
    "# modify the following code\n",
    "chart = alt.Chart(df).mark_point().encode(\n",
    "    x='unemployment',\n",
    "    y='inflation',\n",
    ")\n",
    "chart + chart.transform_regression('unemployment', 'inflation').mark_line()"
   ]
  },
  {
   "cell_type": "markdown",
   "id": "e7df9f26-ff62-44e1-abef-03c6edbce4df",
   "metadata": {},
   "source": [
    "__One way to visualize data consists in adding some interactivity. Add some title and click on the legend__"
   ]
  },
  {
   "cell_type": "code",
   "execution_count": null,
   "id": "6817f605-957a-49f3-bedd-94b951d9c10d",
   "metadata": {},
   "outputs": [],
   "source": [
    "#run first then modify the following code\n",
    "\n",
    "multi = alt.selection_multi(fields=[\"country\"])\n",
    "\n",
    "legend = alt.Chart(df).mark_point().encode(\n",
    "    y=alt.Y('country:N', axis=alt.Axis(orient='right')),\n",
    "    color=alt.condition(multi, 'country:N', alt.value('lightgray'), legend=None)\n",
    ").add_selection(multi)\n",
    "\n",
    "chart_2 = alt.Chart(df).mark_point().encode(\n",
    "    x='unemployment',\n",
    "    y='inflation',\n",
    "    color=alt.condition(multi, 'country:N', alt.value('lightgray')),\n",
    "    # find a way to separate on the graph data from France and US\n",
    ")\n",
    "\n",
    "chart_2 | legend"
   ]
  },
  {
   "cell_type": "markdown",
   "id": "82ea4c0a-72b4-4ea1-90e8-429fbb4b4156",
   "metadata": {},
   "source": [
    "__Bonus question: in the following graph you can select an interval in the left panel to select some subsample. Can you add the regression line(s) corresponding to the selected data to the last graph?__"
   ]
  },
  {
   "cell_type": "code",
   "execution_count": null,
   "id": "8afe10c1-51b5-43c6-b675-da2094917533",
   "metadata": {},
   "outputs": [],
   "source": [
    "brush = alt.selection_interval(encodings=['x'],)\n",
    "\n",
    "historical_chart_1 = alt.Chart(df).mark_line().encode(\n",
    "    x='date',\n",
    "    y='unemployment',\n",
    "    color='country'\n",
    ").add_selection(\n",
    "    brush\n",
    ")\n",
    "historical_chart_2 = alt.Chart(df).mark_line().encode(\n",
    "    x='date',\n",
    "    y='inflation',\n",
    "    color='country'\n",
    ")\n",
    "chart = alt.Chart(df).mark_point().encode(\n",
    "    x='unemployment',\n",
    "    y='inflation',\n",
    "    # find a way to separate on the graph data from France and US\n",
    "    color=alt.condition(brush, 'country:N', alt.value('lightgray'))\n",
    ")\n",
    "alt.hconcat(historical_chart_1, historical_chart_2, chart,)"
   ]
  },
  {
   "cell_type": "markdown",
   "id": "b8cf197f-9c9a-4dd7-8aa8-9bea9a699bbc",
   "metadata": {},
   "source": [
    "## Bonus 2: Plotly Express\n",
    "\n",
    "Another popular option is the plotly library for nice-looking interactive plots. Combined with dash or shiny, it can be used to build very powerful interactive interfaces."
   ]
  },
  {
   "cell_type": "code",
   "execution_count": null,
   "id": "5d301585-6655-4ca2-8fbd-b13134bfd30e",
   "metadata": {},
   "outputs": [],
   "source": [
    "import plotly.express as px"
   ]
  },
  {
   "cell_type": "code",
   "execution_count": null,
   "id": "97abda50-9551-4f79-9129-762caddd7aa0",
   "metadata": {},
   "outputs": [],
   "source": [
    "fig = px.scatter(df, x='unemployment', y='inflation', color='country', title=\"Philips Curves\")\n",
    "fig"
   ]
  },
  {
   "cell_type": "markdown",
   "id": "be299182-e71e-47b1-9bb9-071ea3f0aa5e",
   "metadata": {},
   "source": [
    "__Improve the graph above in any way you like__"
   ]
  },
  {
   "cell_type": "code",
   "execution_count": null,
   "id": "1aa9360a-fb81-4c6e-9e5c-2f29365b6398",
   "metadata": {},
   "outputs": [],
   "source": []
  }
 ],
 "metadata": {
  "kernelspec": {
   "display_name": "Python 3 (ipykernel)",
   "language": "python",
   "name": "python3"
  },
  "language_info": {
   "codemirror_mode": {
    "name": "ipython",
    "version": 3
   },
   "file_extension": ".py",
   "mimetype": "text/x-python",
   "name": "python",
   "nbconvert_exporter": "python",
   "pygments_lexer": "ipython3",
   "version": "3.12.8"
  }
 },
 "nbformat": 4,
 "nbformat_minor": 5
}
