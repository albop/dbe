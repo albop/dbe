{
 "cells": [
  {
   "cell_type": "markdown",
   "id": "e029615f-1fa3-47c0-a291-916d1843db2f",
   "metadata": {},
   "source": [
    "# Visualizing the Philips Curve"
   ]
  },
  {
   "cell_type": "markdown",
   "id": "4c0b1caa-67d5-4e35-8b38-209813a74e5d",
   "metadata": {},
   "source": [
    "The Philips Curve was initially discovered as a statistical relationship between unemployment and inflation. The original version used historical US data.\n",
    "\n",
    "![Philips Curve](philips_curve.png \"Original Philips Curve\")"
   ]
  },
  {
   "cell_type": "markdown",
   "id": "35c6da9f-1015-479c-96dd-5416241599a5",
   "metadata": {},
   "source": [
    "Our goal here is to visually inspect the Philips curve using recent data, for several countries.\n",
    "\n",
    "In the process we will learn to:\n",
    "- import dataframes, inspect them, merge them, clean the resulting data\n",
    "- use matplotlib to create graphs\n",
    "- bonus: experiment with other plotting libraries"
   ]
  },
  {
   "cell_type": "markdown",
   "id": "de707ecf-5885-4308-8265-e1ea064fab91",
   "metadata": {},
   "source": [
    "## Importing the Data"
   ]
  },
  {
   "cell_type": "markdown",
   "id": "0d6ab4d4-4194-416b-8648-6cc77071c81a",
   "metadata": {},
   "source": [
    "We start by loading library dbnomics which contains all the data we want. It is installed already on the nuvolos server."
   ]
  },
  {
   "cell_type": "code",
   "execution_count": null,
   "id": "7c46a4fe-72f3-4e4c-9f39-927df1fe4efc",
   "metadata": {},
   "outputs": [],
   "source": [
    "import dbnomics"
   ]
  },
  {
   "cell_type": "markdown",
   "id": "9fd74f83-bc37-4c9d-8c76-eb2000c5a23c",
   "metadata": {},
   "source": [
    "The following code imports data for from dbnomics for a few countries."
   ]
  },
  {
   "cell_type": "code",
   "execution_count": null,
   "id": "37dda6de-0c53-4f46-8cd5-88fbc73bf42c",
   "metadata": {},
   "outputs": [],
   "source": [
    "table_1 = dbnomics.fetch_series([\n",
    "    \"OECD/DP_LIVE/FRA.CPI.TOT.AGRWTH.Q\",\n",
    "    \"OECD/DP_LIVE/GBR.CPI.TOT.AGRWTH.Q\",\n",
    "    \"OECD/DP_LIVE/USA.CPI.TOT.AGRWTH.Q\",\n",
    "    \"OECD/DP_LIVE/DEU.CPI.TOT.AGRWTH.Q\"\n",
    "])"
   ]
  },
  {
   "cell_type": "code",
   "execution_count": null,
   "id": "e1d826d8-0b82-44a3-8621-c755fe295501",
   "metadata": {},
   "outputs": [],
   "source": [
    "table_2 = dbnomics.fetch_series([\n",
    "    \"OECD/MEI/DEU.LRUNTTTT.STSA.Q\",\n",
    "    \"OECD/MEI/FRA.LRUNTTTT.STSA.Q\",\n",
    "    \"OECD/MEI/USA.LRUNTTTT.STSA.Q\",\n",
    "    \"OECD/MEI/GBR.LRUNTTTT.STSA.Q\"\n",
    "])"
   ]
  },
  {
   "cell_type": "markdown",
   "id": "0de7abd2-bfcf-45f0-bfff-3cd41429ad0c",
   "metadata": {},
   "source": [
    "__Describe concisely the data that has been imported (periodicity, type of measure, ...). You can either check dbnomics website or look at the databases.__"
   ]
  },
  {
   "cell_type": "markdown",
   "id": "e3040098-08d5-43ac-8dce-6cba2db8c71a",
   "metadata": {},
   "source": []
  },
  {
   "cell_type": "markdown",
   "id": "8b92405a-14b4-46e8-9f4e-a0bd2b4489cd",
   "metadata": {},
   "source": [
    "__Show the first rows of each database. Make a list of all columns.__"
   ]
  },
  {
   "cell_type": "code",
   "execution_count": null,
   "id": "8f805e91-5080-40f6-9e08-29d80c09b7c3",
   "metadata": {},
   "outputs": [],
   "source": []
  },
  {
   "cell_type": "markdown",
   "id": "0d28e8ea-cf60-41fd-bffd-45edaa2fb632",
   "metadata": {},
   "source": [
    "__Compute standard statistics for all variables__"
   ]
  },
  {
   "cell_type": "code",
   "execution_count": null,
   "id": "b83dc96b-bbd4-4e1c-81f0-e3444cec3419",
   "metadata": {},
   "outputs": [],
   "source": []
  },
  {
   "cell_type": "markdown",
   "id": "18891ef6-62f4-42c7-9670-bdf040818ce0",
   "metadata": {},
   "source": [
    "__Compute averages and standard deviations for unemployment and inflation, per country.__"
   ]
  },
  {
   "cell_type": "code",
   "execution_count": null,
   "id": "c02406ad-f56b-4875-b86b-d69c84412a2e",
   "metadata": {},
   "outputs": [],
   "source": [
    "# option 1: by using pandas boolean selection \n",
    "\n",
    "# table_1.query(\"Country=='France'\")"
   ]
  },
  {
   "cell_type": "code",
   "execution_count": null,
   "id": "500da292-3f57-4a15-a8fd-661f144a7724",
   "metadata": {},
   "outputs": [],
   "source": [
    "# option 2: by using groupby\n"
   ]
  },
  {
   "cell_type": "markdown",
   "id": "c763a950-e53d-4edc-870d-c007154e0098",
   "metadata": {},
   "source": [
    "__The following command merges the two databases together. Explain the role of argument `on`. What happened to the column names?__"
   ]
  },
  {
   "cell_type": "code",
   "execution_count": null,
   "id": "1c89f008-8758-46e2-88f6-2697950bfa3b",
   "metadata": {},
   "outputs": [],
   "source": [
    "table = table_1.merge(table_2, on=[\"period\", 'Country']) "
   ]
  },
  {
   "cell_type": "code",
   "execution_count": null,
   "id": "f0cfa26b-6e14-43bd-aa41-55ddee427f6b",
   "metadata": {},
   "outputs": [],
   "source": []
  },
  {
   "cell_type": "markdown",
   "id": "700abb33-cefd-4f75-9eb8-1b5479aa28ea",
   "metadata": {},
   "source": [
    "We rename the new names for the sake of clarity and normalize everything with lower cases."
   ]
  },
  {
   "cell_type": "code",
   "execution_count": null,
   "id": "568c41ca-c2cd-4a29-a58c-238fbbd02754",
   "metadata": {},
   "outputs": [],
   "source": [
    "table = table.rename(columns={\n",
    "    'period': 'date',         # because it sounds more natural\n",
    "    'Country': 'country',\n",
    "    'value_x': 'inflation',\n",
    "    'value_y': 'unemployment'\n",
    "})"
   ]
  },
  {
   "cell_type": "markdown",
   "id": "bc1622a1-da1f-4d62-a449-52b958fc8958",
   "metadata": {},
   "source": [
    "__On the merged table, compute at once all the statistics computed before (use `groupby` and `agg`).__"
   ]
  },
  {
   "cell_type": "code",
   "execution_count": null,
   "id": "eea6a1a9-25d9-486c-9f10-11680fc07c87",
   "metadata": {},
   "outputs": [],
   "source": []
  },
  {
   "cell_type": "markdown",
   "id": "0c8d87c4-06a3-4592-aa57-f2dc498bded1",
   "metadata": {},
   "source": [
    "Before we process further, we should tidy the dataframe by keeping only what we need.\n",
    "- Keep only the columns `date`, `country`, `inflation` and `unemployment`\n",
    "- Drop all na values\n",
    "- Make a copy of the result"
   ]
  },
  {
   "cell_type": "code",
   "execution_count": null,
   "id": "865b1588-e0e8-4c8d-9b10-4f40dd20e377",
   "metadata": {},
   "outputs": [],
   "source": [
    "df = table[['date', 'country', 'inflation', 'unemployment']].dropna()"
   ]
  },
  {
   "cell_type": "code",
   "execution_count": null,
   "id": "7ee2bca0-4b19-429e-b0bb-c174ad384a10",
   "metadata": {},
   "outputs": [],
   "source": [
    "df = df.copy()\n",
    "# note: the copy() function is here to avoid keeping references to the original database"
   ]
  },
  {
   "cell_type": "markdown",
   "id": "5ece52f1-245f-47aa-96e0-fc63e973c7d0",
   "metadata": {},
   "source": [
    "__What is the maximum available interval for each country? How would you proceed to keep only those dates where all datas are available? In the following we keep the resulting \"cylindric\" database.__"
   ]
  },
  {
   "cell_type": "code",
   "execution_count": null,
   "id": "9b2edf64-575e-467e-9198-44eb8b6c5de3",
   "metadata": {},
   "outputs": [],
   "source": []
  },
  {
   "cell_type": "markdown",
   "id": "bee5f1b3-5d2b-45a1-9dd6-946be26a7a16",
   "metadata": {},
   "source": [
    "Our DataFrame is now ready for further analysis !"
   ]
  },
  {
   "cell_type": "markdown",
   "id": "2640463f-99c5-4865-82a0-516e44192f56",
   "metadata": {},
   "source": [
    "\n",
    "## Plotting using matplotlib"
   ]
  },
  {
   "cell_type": "markdown",
   "id": "99423997-eec9-4ece-878c-bb38ee69b4a6",
   "metadata": {},
   "source": [
    "Our goal now consists in plotting inflation against unemployment to see whether a pattern emerges. We will first work on France."
   ]
  },
  {
   "cell_type": "code",
   "execution_count": null,
   "id": "d793e0ab-b887-4cce-b708-745158049ddc",
   "metadata": {},
   "outputs": [],
   "source": [
    "from matplotlib import pyplot as plt"
   ]
  },
  {
   "cell_type": "markdown",
   "id": "c756d7d6-bc55-4097-b995-3defd4a13e0b",
   "metadata": {},
   "source": [
    "__Create a database `df_fr` which contains only the data for France.__"
   ]
  },
  {
   "cell_type": "code",
   "execution_count": null,
   "id": "f75e3238-5202-4120-bc1d-afa08e67aa01",
   "metadata": {},
   "outputs": [],
   "source": []
  },
  {
   "cell_type": "markdown",
   "id": "960eae6b-5ad0-462a-8284-10609aa711fb",
   "metadata": {},
   "source": [
    "__The following command create a line plot for `inflation` against `unemployment`. Can you transform it into a scatterplot ?__"
   ]
  },
  {
   "cell_type": "code",
   "execution_count": null,
   "id": "3768d3b0-72ca-4915-94dd-fdd7518fa5af",
   "metadata": {},
   "outputs": [],
   "source": [
    "plt.plot(df_fr['unemployment'], df_fr['inflation']) # missing 'o'"
   ]
  },
  {
   "cell_type": "markdown",
   "id": "51710958-307f-4716-bfc5-e42d0c6b273c",
   "metadata": {},
   "source": [
    "__Expand the above command to make the plot nicer (label, title, grid, ...)__"
   ]
  },
  {
   "cell_type": "code",
   "execution_count": null,
   "id": "846d0edd-0aa5-4661-8928-b3e678a10adc",
   "metadata": {},
   "outputs": [],
   "source": []
  },
  {
   "cell_type": "markdown",
   "id": "41234cfa-acff-4e65-8ad5-7c678a9440e1",
   "metadata": {},
   "source": [
    "## Visualizing the regression\n",
    "\n",
    "The following piece of code regresses `inflation` on `unemployment`."
   ]
  },
  {
   "cell_type": "code",
   "execution_count": null,
   "id": "669844ee-7870-477e-bf79-7ddf932b1ffa",
   "metadata": {
    "scrolled": true
   },
   "outputs": [],
   "source": [
    "from statsmodels.formula import api as sm\n",
    "model = sm.ols(formula='inflation ~ unemployment', data=df_fr)\n",
    "result = model.fit()"
   ]
  },
  {
   "cell_type": "markdown",
   "id": "cd3b9aa2-eb71-43e2-a2e1-97d7ec524d76",
   "metadata": {},
   "source": [
    "We can use the resulting model to \"predict\" inflation from unemployment."
   ]
  },
  {
   "cell_type": "code",
   "execution_count": null,
   "id": "a8bbd0a7-289f-4727-89a9-b62f5e7258aa",
   "metadata": {},
   "outputs": [],
   "source": [
    "result.predict(df_fr['unemployment'])"
   ]
  },
  {
   "cell_type": "markdown",
   "id": "f4f6aca0-1639-4f5e-b1ce-3ead55b96323",
   "metadata": {},
   "source": [
    "__Store the result in df_fr as a new column `reg_unemployment`__"
   ]
  },
  {
   "cell_type": "code",
   "execution_count": null,
   "id": "203b1777-aef2-434c-87b1-8ce89759bfb1",
   "metadata": {},
   "outputs": [],
   "source": []
  },
  {
   "cell_type": "markdown",
   "id": "6dd05004-512e-4e8c-a551-c5da8deb36aa",
   "metadata": {},
   "source": [
    "__Add the regression line to the scatter plot.__"
   ]
  },
  {
   "cell_type": "code",
   "execution_count": null,
   "id": "fe4d155f-0fe2-4638-8a7d-f60740ad14e7",
   "metadata": {},
   "outputs": [],
   "source": []
  },
  {
   "cell_type": "markdown",
   "id": "88a26f57-86a7-4533-b5c8-ed7f197dcf72",
   "metadata": {},
   "source": [
    "__Now we would like to compare all countries. Can you find a way to represent the data for all of them (all on one graph, using subplots...) ?__"
   ]
  },
  {
   "cell_type": "code",
   "execution_count": null,
   "id": "f1996114-7b46-4f36-bb00-82f71bf9c5c0",
   "metadata": {},
   "outputs": [],
   "source": []
  },
  {
   "cell_type": "markdown",
   "id": "d13ee500-45ba-4a3a-b53f-3066244b0e88",
   "metadata": {},
   "source": [
    "__Any comment on these results?__"
   ]
  },
  {
   "cell_type": "code",
   "execution_count": null,
   "id": "97473253-0d74-4048-b784-5c1ccf263701",
   "metadata": {},
   "outputs": [],
   "source": []
  },
  {
   "cell_type": "markdown",
   "id": "6af63ab2-7979-4727-a407-1b3807ed7e17",
   "metadata": {},
   "source": [
    "## Bonus: Visualizing data using altair"
   ]
  },
  {
   "cell_type": "markdown",
   "id": "62e465b8-8731-4e86-93b8-dc18404682ff",
   "metadata": {},
   "source": [
    "Altair is a visualization library (based on [Vega-lite](https://vega.github.io/vega-lite/)) which offers a different syntax to make plots.\n",
    "\n",
    "It is well adapted to the exploration phase, as it can operate on a full database (without splitting it like we did for matplotlib). It also provides some data transformation tools like regressions, and ways to add some interactivity."
   ]
  },
  {
   "cell_type": "code",
   "execution_count": null,
   "id": "d4f5bef7-c14f-40c3-a286-820aac0530bb",
   "metadata": {},
   "outputs": [],
   "source": [
    "import altair as alt"
   ]
  },
  {
   "cell_type": "markdown",
   "id": "449d2c87-040a-46af-8340-8c80430c6406",
   "metadata": {},
   "source": [
    "__The following command makes a basic plot from the dataframe `df` which contains all the countries. Can you enhance it by providing a title and encoding information to distinguish the various countries (for instance colors)?__"
   ]
  },
  {
   "cell_type": "code",
   "execution_count": null,
   "id": "9e119bb7-69d9-46d6-af90-81144b20885a",
   "metadata": {},
   "outputs": [],
   "source": [
    "chart = alt.Chart(df).mark_point().encode(\n",
    "    x='unemployment',\n",
    "    y='inflation',\n",
    "    # add something here\n",
    ")\n",
    "chart"
   ]
  },
  {
   "cell_type": "markdown",
   "id": "676d9953-220f-466e-aaf4-9dc0ab61d37f",
   "metadata": {},
   "source": [
    "__The following graph plots a regression line, but for all countries, it is rather meaningless. Can you restrict the data to France only?__"
   ]
  },
  {
   "cell_type": "code",
   "execution_count": null,
   "id": "e6b74f78-4744-49d8-8951-c27a361aadfd",
   "metadata": {},
   "outputs": [],
   "source": [
    "# modify the following code\n",
    "chart = alt.Chart(df).mark_point().encode(\n",
    "    x='unemployment',\n",
    "    y='inflation',\n",
    ")\n",
    "chart + chart.transform_regression('unemployment', 'inflation').mark_line()"
   ]
  },
  {
   "cell_type": "markdown",
   "id": "e7df9f26-ff62-44e1-abef-03c6edbce4df",
   "metadata": {},
   "source": [
    "__One way to visualize data consists in adding some interactivity. Add some title and click on the legend__"
   ]
  },
  {
   "cell_type": "code",
   "execution_count": null,
   "id": "6817f605-957a-49f3-bedd-94b951d9c10d",
   "metadata": {},
   "outputs": [],
   "source": [
    "#run first then modify the following code\n",
    "\n",
    "multi = alt.selection_multi(fields=[\"country\"])\n",
    "\n",
    "legend = alt.Chart(df).mark_point().encode(\n",
    "    y=alt.Y('country:N', axis=alt.Axis(orient='right')),\n",
    "    color=alt.condition(multi, 'country:N', alt.value('lightgray'), legend=None)\n",
    ").add_selection(multi)\n",
    "\n",
    "chart_2 = alt.Chart(df).mark_point().encode(\n",
    "    x='unemployment',\n",
    "    y='inflation',\n",
    "    color=alt.condition(multi, 'country:N', alt.value('lightgray')),\n",
    "    # find a way to separate on the graph data from France and US\n",
    ")\n",
    "\n",
    "chart_2 | legend"
   ]
  },
  {
   "cell_type": "markdown",
   "id": "82ea4c0a-72b4-4ea1-90e8-429fbb4b4156",
   "metadata": {},
   "source": [
    "__Bonus question: in the following graph you can select an interval in the left panel to select some subsample. Can you add the regression line(s) corresponding to the selected data to the last graph?__"
   ]
  },
  {
   "cell_type": "code",
   "execution_count": null,
   "id": "8afe10c1-51b5-43c6-b675-da2094917533",
   "metadata": {},
   "outputs": [],
   "source": [
    "brush = alt.selection_interval(encodings=['x'],)\n",
    "\n",
    "historical_chart_1 = alt.Chart(df).mark_line().encode(\n",
    "    x='date',\n",
    "    y='unemployment',\n",
    "    color='country'\n",
    ").add_selection(\n",
    "    brush\n",
    ")\n",
    "historical_chart_2 = alt.Chart(df).mark_line().encode(\n",
    "    x='date',\n",
    "    y='inflation',\n",
    "    color='country'\n",
    ")\n",
    "chart = alt.Chart(df).mark_point().encode(\n",
    "    x='unemployment',\n",
    "    y='inflation',\n",
    "    # find a way to separate on the graph data from France and US\n",
    "    color=alt.condition(brush, 'country:N', alt.value('lightgray'))\n",
    ")\n",
    "alt.hconcat(historical_chart_1, historical_chart_2, chart,)"
   ]
  },
  {
   "cell_type": "markdown",
   "id": "b8cf197f-9c9a-4dd7-8aa8-9bea9a699bbc",
   "metadata": {},
   "source": [
    "## Bonus 2: Plotly Express\n",
    "\n",
    "Another popular option is the plotly library for nice-looking interactive plots. Combined with dash or shiny, it can be used to build very powerful interactive interfaces."
   ]
  },
  {
   "cell_type": "code",
   "execution_count": null,
   "id": "5d301585-6655-4ca2-8fbd-b13134bfd30e",
   "metadata": {},
   "outputs": [],
   "source": [
    "import plotly.express as px"
   ]
  },
  {
   "cell_type": "code",
   "execution_count": null,
   "id": "97abda50-9551-4f79-9129-762caddd7aa0",
   "metadata": {},
   "outputs": [],
   "source": [
    "fig = px.scatter(df, x='unemployment', y='inflation', color='country', title=\"Philips Curves\")\n",
    "fig"
   ]
  },
  {
   "cell_type": "markdown",
   "id": "be299182-e71e-47b1-9bb9-071ea3f0aa5e",
   "metadata": {},
   "source": [
    "__Improve the graph above in any way you like__"
   ]
  },
  {
   "cell_type": "code",
   "execution_count": null,
   "id": "1aa9360a-fb81-4c6e-9e5c-2f29365b6398",
   "metadata": {},
   "outputs": [],
   "source": []
  }
 ],
 "metadata": {
  "kernelspec": {
   "display_name": "Python 3 (ipykernel)",
   "language": "python",
   "name": "python3"
  },
  "language_info": {
   "codemirror_mode": {
    "name": "ipython",
    "version": 3
   },
   "file_extension": ".py",
   "mimetype": "text/x-python",
   "name": "python",
   "nbconvert_exporter": "python",
   "pygments_lexer": "ipython3",
   "version": "3.12.1"
  }
 },
 "nbformat": 4,
 "nbformat_minor": 5
}
