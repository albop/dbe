{
 "cells": [
  {
   "cell_type": "markdown",
   "id": "b9c4fcbd-807e-457f-bdd9-71532bcf5cf2",
   "metadata": {},
   "source": [
    "# Classification and clustering"
   ]
  },
  {
   "cell_type": "markdown",
   "id": "dad6e71b-d80a-4064-af23-3de402aa2485",
   "metadata": {},
   "source": [
    "## Predicting the credit Score\n",
    "\n",
    "The two csv files (origin: [kaggle](https://www.kaggle.com/datasets/clkmuhammed/creditscoreclassification?select=train.csv)) contain the training set (resp the validation set) about the clients from a \"global finance company\".\n",
    "\n",
    "Your goal is to use all available information to build a model to accurately predict the probability of default which is coded up as a qualitative variable with three values.\n",
    "\n",
    "Update: the `test.csv` file now contains the score that should be predicted."
   ]
  },
  {
   "cell_type": "markdown",
   "id": "0ddbeca8-bb60-453f-a360-b5d3999f13ee",
   "metadata": {},
   "source": [
    "__Import training set and validation sets__"
   ]
  },
  {
   "cell_type": "markdown",
   "id": "d48e577f-27e2-4ccf-a974-4683b2fd0733",
   "metadata": {},
   "source": [
    "We follow a three sets approach and define the following sets:\n",
    "- data used for the developing the model (`dataset` from `train.csv`) will be split into:\n",
    "    - training dataset (variable called `train`)\n",
    "    - test data set (variable called tes\n",
    "- data use\n",
    "    "
   ]
  },
  {
   "cell_type": "code",
   "execution_count": 78,
   "id": "faa7cbf2-cf68-4650-85da-578463b4e6ab",
   "metadata": {},
   "outputs": [],
   "source": [
    "import pandas\n",
    "dataset = pandas.read_csv(\"train.csv\")\n",
    "validation = pandas.read_csv(\"test.csv\")"
   ]
  },
  {
   "cell_type": "markdown",
   "id": "f82b861e-32d3-4411-94ab-6f5b8bbb604a",
   "metadata": {},
   "source": [
    "__Describe the dataset.__"
   ]
  },
  {
   "cell_type": "code",
   "execution_count": null,
   "id": "84c670cd",
   "metadata": {},
   "outputs": [],
   "source": []
  },
  {
   "cell_type": "markdown",
   "id": "9bd4bcaf",
   "metadata": {},
   "source": [
    "__How is the credit category encoded? Create a new variable representing it with values 0,1,2.__"
   ]
  },
  {
   "cell_type": "code",
   "execution_count": null,
   "id": "c18ec8fd",
   "metadata": {},
   "outputs": [],
   "source": []
  },
  {
   "cell_type": "markdown",
   "id": "db284983",
   "metadata": {},
   "source": [
    "__Reencode all categorical variables as dummy variables. Remove variables that are not useful for the analysis.__"
   ]
  },
  {
   "cell_type": "code",
   "execution_count": null,
   "id": "3f54199c",
   "metadata": {},
   "outputs": [],
   "source": []
  },
  {
   "cell_type": "markdown",
   "id": "1c34a53a-54c3-482f-bd3b-c24d2c4d1055",
   "metadata": {},
   "source": [
    "__Make several plots about the dataset (histograms, correlation plots, ...)__\n",
    "\n",
    "Tip: there are cool ideas [here](https://www.kaggle.com/code/mohammadsohal/analyzing-credit-score-data)"
   ]
  },
  {
   "cell_type": "code",
   "execution_count": null,
   "id": "ddd5857c",
   "metadata": {},
   "outputs": [],
   "source": []
  },
  {
   "cell_type": "markdown",
   "id": "fa2cc2f5-a670-4d97-9320-301a13942fb3",
   "metadata": {},
   "source": [
    "__Split the train dataset into a `df_train` and a `df_test` dataset.__"
   ]
  },
  {
   "cell_type": "code",
   "execution_count": null,
   "id": "4514a6b6",
   "metadata": {},
   "outputs": [],
   "source": []
  },
  {
   "cell_type": "markdown",
   "id": "7af78c59-4794-4cc1-831d-eaeb7ef1bd0e",
   "metadata": {},
   "source": [
    "__Implement a logistic regression.__"
   ]
  },
  {
   "cell_type": "code",
   "execution_count": null,
   "id": "9d1cf3eb",
   "metadata": {},
   "outputs": [],
   "source": []
  },
  {
   "cell_type": "markdown",
   "id": "ee794bae-fabd-44ee-b142-fa39468ab179",
   "metadata": {},
   "source": [
    "__Compute the confusion matrix using the test set. Comment__"
   ]
  },
  {
   "cell_type": "code",
   "execution_count": null,
   "id": "681bf4aa",
   "metadata": {},
   "outputs": [],
   "source": []
  },
  {
   "cell_type": "markdown",
   "id": "ee7173e1-24d5-4e5c-9e70-af7e097a3747",
   "metadata": {},
   "source": [
    "__Perform the same analysis with other classification methods and compare their performance using the test set.__"
   ]
  },
  {
   "cell_type": "code",
   "execution_count": null,
   "id": "89293774",
   "metadata": {},
   "outputs": [],
   "source": []
  },
  {
   "cell_type": "markdown",
   "id": "5807e113-3008-4670-a31e-3376187b43e0",
   "metadata": {},
   "source": [
    "__Which one would you choose? Test its performance on the validation set__"
   ]
  },
  {
   "cell_type": "code",
   "execution_count": null,
   "id": "b0201473",
   "metadata": {},
   "outputs": [],
   "source": []
  },
  {
   "cell_type": "markdown",
   "id": "5b757e19-57aa-454e-b3e4-bc5681d63f84",
   "metadata": {},
   "source": [
    "## Segmenting the bank clients\n",
    "\n",
    "__With the same database, without using the credit score, implement a k-means clustering algorithm.__"
   ]
  },
  {
   "cell_type": "code",
   "execution_count": null,
   "id": "c0767e54",
   "metadata": {},
   "outputs": [],
   "source": []
  },
  {
   "cell_type": "markdown",
   "id": "389e10e7-f580-42ba-8d07-066e690968ad",
   "metadata": {},
   "source": [
    "__Are the clusters related to the credit score?__"
   ]
  },
  {
   "cell_type": "code",
   "execution_count": null,
   "id": "2a23f589",
   "metadata": {},
   "outputs": [],
   "source": []
  }
 ],
 "metadata": {
  "kernelspec": {
   "display_name": "Python 3",
   "language": "python",
   "name": "python3"
  },
  "language_info": {
   "codemirror_mode": {
    "name": "ipython",
    "version": 3
   },
   "file_extension": ".py",
   "mimetype": "text/x-python",
   "name": "python",
   "nbconvert_exporter": "python",
   "pygments_lexer": "ipython3",
   "version": "3.12.2"
  }
 },
 "nbformat": 4,
 "nbformat_minor": 5
}
