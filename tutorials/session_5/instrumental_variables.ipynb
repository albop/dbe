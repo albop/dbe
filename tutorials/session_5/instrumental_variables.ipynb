{
 "cells": [
  {
   "cell_type": "markdown",
   "id": "d578e49d",
   "metadata": {},
   "source": [
    "# Instrumental variables"
   ]
  },
  {
   "cell_type": "markdown",
   "id": "160126b4",
   "metadata": {},
   "source": [
    "## IV example on mock dataset"
   ]
  },
  {
   "cell_type": "markdown",
   "id": "5e4e1bb7",
   "metadata": {},
   "source": [
    "### Constructing the dataset\n",
    "\n",
    "Create four random series of length $N=1000$\n",
    "\n",
    "- $x$: education\n",
    "- $y$: salary\n",
    "- $z$: ambition\n",
    "- $q$: early smoking \n",
    "\n",
    "such that:\n",
    "\n",
    "1. $x$ and $z$ cause $y$\n",
    "2. $z$ causes $x$\n",
    "3. $q$ is correlated with $x$, not with $z$\n",
    "\n",
    "\n",
    "A problem arises when the confounding factor $z$ is not observed. In that case, we can estimate the direct effect of $x$ on $y$ by using $q$ as an instrument.\n",
    "\n",
    "Run the follwing code to create a mock dataset."
   ]
  },
  {
   "cell_type": "code",
   "execution_count": 40,
   "id": "c68b9b9d",
   "metadata": {},
   "outputs": [],
   "source": [
    "import numpy as np\n",
    "import pandas as pd"
   ]
  },
  {
   "cell_type": "code",
   "execution_count": 41,
   "id": "77df8dbb",
   "metadata": {},
   "outputs": [],
   "source": [
    "N = 100000\n",
    "ϵ_z = np.random.randn(N)*0.1\n",
    "ϵ_x = np.random.randn(N)*0.1\n",
    "ϵ_q = np.random.randn(N)*0.01\n",
    "ϵ_y = np.random.randn(N)*0.01"
   ]
  },
  {
   "cell_type": "code",
   "execution_count": 54,
   "id": "d069ef85",
   "metadata": {},
   "outputs": [],
   "source": [
    "z = 0.1 + ϵ_z\n",
    "x = 0.1 + z + ϵ_x\n",
    "q = 0.5 + 0.1234*ϵ_x + ϵ_q\n",
    "y  = 1.0 + 0.9*x + 0.4*z + ϵ_y"
   ]
  },
  {
   "cell_type": "code",
   "execution_count": 55,
   "id": "6907c0e7",
   "metadata": {},
   "outputs": [],
   "source": [
    "df = pd.DataFrame({\n",
    "    \"x\": x,\n",
    "    \"y\": y,\n",
    "    \"z\": z,\n",
    "    \"q\": q\n",
    "})"
   ]
  },
  {
   "cell_type": "markdown",
   "id": "1dd653da",
   "metadata": {},
   "source": [
    "__Describe the dataframe. Compute the correlations between the variables. Are they compatible with the hypotheses for IV?__"
   ]
  },
  {
   "cell_type": "code",
   "execution_count": null,
   "id": "5ef812b7",
   "metadata": {},
   "outputs": [],
   "source": []
  },
  {
   "cell_type": "markdown",
   "id": "b47692a7",
   "metadata": {},
   "source": [
    "### OLS Regression\n",
    "\n",
    "Use `linearmodels` to  run a regression estimating the effect of $x$ on $y$ (note the slight API change w.r.t. `statsmodels`). Comment."
   ]
  },
  {
   "cell_type": "code",
   "execution_count": 58,
   "id": "b1d35704",
   "metadata": {},
   "outputs": [],
   "source": [
    "from linearmodels import OLS"
   ]
  },
  {
   "cell_type": "code",
   "execution_count": 59,
   "id": "7e081a25",
   "metadata": {},
   "outputs": [
    {
     "data": {
      "text/html": [
       "<table class=\"simpletable\">\n",
       "<caption>OLS Estimation Summary</caption>\n",
       "<tr>\n",
       "  <th>Dep. Variable:</th>            <td>y</td>        <th>  R-squared:         </th>  <td>0.9643</td>  \n",
       "</tr>\n",
       "<tr>\n",
       "  <th>Estimator:</th>               <td>OLS</td>       <th>  Adj. R-squared:    </th>  <td>0.9643</td>  \n",
       "</tr>\n",
       "<tr>\n",
       "  <th>No. Observations:</th>      <td>100000</td>      <th>  F-statistic:       </th> <td>2.677e+06</td>\n",
       "</tr>\n",
       "<tr>\n",
       "  <th>Date:</th>             <td>Tue, Feb 13 2024</td> <th>  P-value (F-stat)   </th>  <td>0.0000</td>  \n",
       "</tr>\n",
       "<tr>\n",
       "  <th>Time:</th>                 <td>22:35:15</td>     <th>  Distribution:      </th>  <td>chi2(1)</td> \n",
       "</tr>\n",
       "<tr>\n",
       "  <th>Cov. Estimator:</th>        <td>robust</td>      <th>                     </th>     <td></td>     \n",
       "</tr>\n",
       "<tr>\n",
       "  <th></th>                          <td></td>         <th>                     </th>     <td></td>     \n",
       "</tr>\n",
       "</table>\n",
       "<table class=\"simpletable\">\n",
       "<caption>Parameter Estimates</caption>\n",
       "<tr>\n",
       "      <td></td>      <th>Parameter</th> <th>Std. Err.</th> <th>T-stat</th> <th>P-value</th> <th>Lower CI</th> <th>Upper CI</th>\n",
       "</tr>\n",
       "<tr>\n",
       "  <th>Intercept</th>  <td>0.9998</td>    <td>0.0002</td>   <td>6088.5</td> <td>0.0000</td>   <td>0.9995</td>   <td>1.0001</td> \n",
       "</tr>\n",
       "<tr>\n",
       "  <th>x</th>          <td>1.1003</td>    <td>0.0007</td>   <td>1636.2</td> <td>0.0000</td>   <td>1.0990</td>   <td>1.1016</td> \n",
       "</tr>\n",
       "</table>"
      ],
      "text/latex": [
       "\\begin{center}\n",
       "\\begin{tabular}{lclc}\n",
       "\\toprule\n",
       "\\textbf{Dep. Variable:}    &         y          & \\textbf{  R-squared:         } &      0.9643      \\\\\n",
       "\\textbf{Estimator:}        &        OLS         & \\textbf{  Adj. R-squared:    } &      0.9643      \\\\\n",
       "\\textbf{No. Observations:} &       100000       & \\textbf{  F-statistic:       } &    2.677e+06     \\\\\n",
       "\\textbf{Date:}             &  Tue, Feb 13 2024  & \\textbf{  P-value (F-stat)   } &      0.0000      \\\\\n",
       "\\textbf{Time:}             &      22:35:15      & \\textbf{  Distribution:      } &     chi2(1)      \\\\\n",
       "\\textbf{Cov. Estimator:}   &       robust       & \\textbf{                     } &                  \\\\\n",
       "\\textbf{}                  &                    & \\textbf{                     } &                  \\\\\n",
       "\\bottomrule\n",
       "\\end{tabular}\n",
       "\\begin{tabular}{lcccccc}\n",
       "                   & \\textbf{Parameter} & \\textbf{Std. Err.} & \\textbf{T-stat} & \\textbf{P-value} & \\textbf{Lower CI} & \\textbf{Upper CI}  \\\\\n",
       "\\midrule\n",
       "\\textbf{Intercept} &       0.9998       &       0.0002       &      6088.5     &      0.0000      &       0.9995      &       1.0001       \\\\\n",
       "\\textbf{x}         &       1.1003       &       0.0007       &      1636.2     &      0.0000      &       1.0990      &       1.1016       \\\\\n",
       "\\bottomrule\n",
       "\\end{tabular}\n",
       "%\\caption{OLS Estimation Summary}\n",
       "\\end{center}"
      ],
      "text/plain": [
       "<class 'linearmodels.compat.statsmodels.Summary'>\n",
       "\"\"\"\n",
       "                            OLS Estimation Summary                            \n",
       "==============================================================================\n",
       "Dep. Variable:                      y   R-squared:                      0.9643\n",
       "Estimator:                        OLS   Adj. R-squared:                 0.9643\n",
       "No. Observations:              100000   F-statistic:                 2.677e+06\n",
       "Date:                Tue, Feb 13 2024   P-value (F-stat)                0.0000\n",
       "Time:                        22:35:15   Distribution:                  chi2(1)\n",
       "Cov. Estimator:                robust                                         \n",
       "                                                                              \n",
       "                             Parameter Estimates                              \n",
       "==============================================================================\n",
       "            Parameter  Std. Err.     T-stat    P-value    Lower CI    Upper CI\n",
       "------------------------------------------------------------------------------\n",
       "Intercept      0.9998     0.0002     6088.5     0.0000      0.9995      1.0001\n",
       "x              1.1003     0.0007     1636.2     0.0000      1.0990      1.1016\n",
       "==============================================================================\n",
       "\"\"\""
      ]
     },
     "execution_count": 59,
     "metadata": {},
     "output_type": "execute_result"
    }
   ],
   "source": [
    "model = OLS.from_formula(\"y ~ x\", df)\n",
    "res = model.fit()\n",
    "res.summary"
   ]
  },
  {
   "cell_type": "markdown",
   "id": "794790b0",
   "metadata": {},
   "source": [
    "> your comment"
   ]
  },
  {
   "cell_type": "markdown",
   "id": "714ba065",
   "metadata": {},
   "source": [
    "__Assume briefly that `z` is known and control the regression by `z`. What happens?__"
   ]
  },
  {
   "cell_type": "code",
   "execution_count": 8,
   "id": "1519fb03",
   "metadata": {},
   "outputs": [],
   "source": [
    "# your code"
   ]
  },
  {
   "cell_type": "markdown",
   "id": "b4150345",
   "metadata": {},
   "source": [
    "### Regress again $y$ on $x$, this time controling for missing variable $z$.\n",
    "\n"
   ]
  },
  {
   "cell_type": "code",
   "execution_count": null,
   "id": "94d9248b",
   "metadata": {},
   "outputs": [
    {
     "data": {
      "text/html": [
       "<table class=\"simpletable\">\n",
       "<caption>OLS Estimation Summary</caption>\n",
       "<tr>\n",
       "  <th>Dep. Variable:</th>            <td>y</td>        <th>  R-squared:         </th>  <td>0.6068</td>  \n",
       "</tr>\n",
       "<tr>\n",
       "  <th>Estimator:</th>               <td>OLS</td>       <th>  Adj. R-squared:    </th>  <td>0.6067</td>  \n",
       "</tr>\n",
       "<tr>\n",
       "  <th>No. Observations:</th>      <td>100000</td>      <th>  F-statistic:       </th> <td>1.518e+05</td>\n",
       "</tr>\n",
       "<tr>\n",
       "  <th>Date:</th>             <td>Mon, Mar 27 2023</td> <th>  P-value (F-stat)   </th>  <td>0.0000</td>  \n",
       "</tr>\n",
       "<tr>\n",
       "  <th>Time:</th>                 <td>21:54:44</td>     <th>  Distribution:      </th>  <td>chi2(2)</td> \n",
       "</tr>\n",
       "<tr>\n",
       "  <th>Cov. Estimator:</th>        <td>robust</td>      <th>                     </th>     <td></td>     \n",
       "</tr>\n",
       "<tr>\n",
       "  <th></th>                          <td></td>         <th>                     </th>     <td></td>     \n",
       "</tr>\n",
       "</table>\n",
       "<table class=\"simpletable\">\n",
       "<caption>Parameter Estimates</caption>\n",
       "<tr>\n",
       "      <td></td>      <th>Parameter</th> <th>Std. Err.</th> <th>T-stat</th> <th>P-value</th> <th>Lower CI</th> <th>Upper CI</th>\n",
       "</tr>\n",
       "<tr>\n",
       "  <th>Intercept</th>  <td>0.9997</td>    <td>0.0005</td>   <td>1818.9</td> <td>0.0000</td>   <td>0.9987</td>   <td>1.0008</td> \n",
       "</tr>\n",
       "<tr>\n",
       "  <th>x</th>          <td>0.9007</td>    <td>0.0032</td>   <td>283.90</td> <td>0.0000</td>   <td>0.8945</td>   <td>0.9069</td> \n",
       "</tr>\n",
       "<tr>\n",
       "  <th>z</th>          <td>0.3993</td>    <td>0.0035</td>   <td>113.00</td> <td>0.0000</td>   <td>0.3924</td>   <td>0.4062</td> \n",
       "</tr>\n",
       "</table><br/>id: 0x7f5788c9ea10"
      ],
      "text/plain": [
       "                            OLS Estimation Summary                            \n",
       "==============================================================================\n",
       "Dep. Variable:                      y   R-squared:                      0.6068\n",
       "Estimator:                        OLS   Adj. R-squared:                 0.6067\n",
       "No. Observations:              100000   F-statistic:                 1.518e+05\n",
       "Date:                Mon, Mar 27 2023   P-value (F-stat)                0.0000\n",
       "Time:                        21:54:44   Distribution:                  chi2(2)\n",
       "Cov. Estimator:                robust                                         \n",
       "                                                                              \n",
       "                             Parameter Estimates                              \n",
       "==============================================================================\n",
       "            Parameter  Std. Err.     T-stat    P-value    Lower CI    Upper CI\n",
       "------------------------------------------------------------------------------\n",
       "Intercept      0.9997     0.0005     1818.9     0.0000      0.9987      1.0008\n",
       "x              0.9007     0.0032     283.90     0.0000      0.8945      0.9069\n",
       "z              0.3993     0.0035     113.00     0.0000      0.3924      0.4062\n",
       "==============================================================================\n",
       "OLSResults, id: 0x7f5788c9ea10"
      ]
     },
     "metadata": {},
     "output_type": "display_data"
    }
   ],
   "source": [
    "from linearmodels import IV2SLS\n",
    "formula = (\n",
    "    # your formula\n",
    ")\n",
    "mod = IV2SLS.from_formula(formula, df)\n",
    "res = mod.fit()\n",
    "res"
   ]
  },
  {
   "cell_type": "code",
   "execution_count": 60,
   "id": "141a2dc3",
   "metadata": {},
   "outputs": [],
   "source": [
    "# Comment"
   ]
  },
  {
   "cell_type": "markdown",
   "id": "751b7c06",
   "metadata": {},
   "source": [
    "### Instrumental variable\n",
    "\n",
    "Make a causality graph, summarizing what you know from the equations.\n",
    "\n",
    "Use $q$ to instrument the effect of x on y. Comment."
   ]
  },
  {
   "cell_type": "code",
   "execution_count": null,
   "id": "adb6c80f",
   "metadata": {},
   "outputs": [],
   "source": [
    "from linearmodels import IV2SLS\n",
    "formula = (\n",
    "    # your formula\n",
    ")\n",
    "mod = IV2SLS.from_formula(formula, df)\n",
    "res = mod.fit()\n",
    "res"
   ]
  },
  {
   "cell_type": "markdown",
   "id": "d6e2b074",
   "metadata": {},
   "source": [
    "> comment"
   ]
  },
  {
   "cell_type": "markdown",
   "id": "71c81798",
   "metadata": {},
   "source": [
    "## Return on Education"
   ]
  },
  {
   "cell_type": "markdown",
   "id": "a2dbc829",
   "metadata": {},
   "source": [
    "We follow the excellent R [tutorial](https://www.econometrics-with-r.org/12-6-exercises-10.html) from the (excellent) *Econometrics with R* book.\n",
    "\n",
    "The goal is to measure the effect of schooling on earnings, while correcting the endogeneity bias by using distance to college as an instrument."
   ]
  },
  {
   "cell_type": "markdown",
   "id": "f172361f",
   "metadata": {},
   "source": [
    "__Download the college distance dataset with `statsmodels`. Describe the dataset and extract the dataframe.__\n",
    "\n",
    "https://vincentarelbundock.github.io/Rdatasets/datasets.html"
   ]
  },
  {
   "cell_type": "code",
   "execution_count": 64,
   "id": "0f2d34a5",
   "metadata": {},
   "outputs": [],
   "source": [
    "import statsmodels.api as sm\n",
    "ds = sm.datasets.get_rdataset(\"CollegeDistance\", \"AER\")"
   ]
  },
  {
   "cell_type": "code",
   "execution_count": 65,
   "id": "81f66644",
   "metadata": {},
   "outputs": [],
   "source": [
    "# describe dataset"
   ]
  },
  {
   "cell_type": "code",
   "execution_count": 66,
   "id": "8f22ccba",
   "metadata": {},
   "outputs": [],
   "source": [
    "df = ds.data"
   ]
  },
  {
   "cell_type": "code",
   "execution_count": 14,
   "id": "5555df62",
   "metadata": {},
   "outputs": [],
   "source": [
    "# describe dataframe"
   ]
  },
  {
   "cell_type": "markdown",
   "id": "937a29e4",
   "metadata": {},
   "source": [
    "__How is `education` encoded? Create a binary variable `education_binary` to replace it.__"
   ]
  },
  {
   "cell_type": "code",
   "execution_count": null,
   "id": "4ebfd1da",
   "metadata": {},
   "outputs": [],
   "source": []
  },
  {
   "cell_type": "markdown",
   "id": "143e3fbb",
   "metadata": {},
   "source": [
    "__Plot an histogram of distance to college.__"
   ]
  },
  {
   "cell_type": "code",
   "execution_count": null,
   "id": "29926567",
   "metadata": {},
   "outputs": [],
   "source": []
  },
  {
   "cell_type": "markdown",
   "id": "ca8ec743",
   "metadata": {},
   "source": [
    "__Run the naive regression $income_{binary}=\\beta_0 + \\beta_1 \\text{education} + u$.__\n",
    "\n"
   ]
  },
  {
   "cell_type": "code",
   "execution_count": null,
   "id": "7c51f0b4",
   "metadata": {},
   "outputs": [],
   "source": []
  },
  {
   "cell_type": "markdown",
   "id": "bf7a87cd",
   "metadata": {},
   "source": [
    "__Augment the regression with `unemp`, `hispanic`, `af-am`, `female` and `urban`. Notice that categorical variables are encoded automatically. What are the treatment values? Change it using the syntax (`C(var,Treatment='ref')`)__"
   ]
  },
  {
   "cell_type": "code",
   "execution_count": null,
   "id": "8621b397",
   "metadata": {},
   "outputs": [],
   "source": []
  },
  {
   "cell_type": "markdown",
   "id": "2fbb99cb",
   "metadata": {},
   "source": [
    "__Comment the results and explain the selection problem__"
   ]
  },
  {
   "cell_type": "markdown",
   "id": "ced8d847",
   "metadata": {},
   "source": []
  },
  {
   "cell_type": "markdown",
   "id": "7ef245e7",
   "metadata": {},
   "source": [
    "__Explain why distance to college might be used to instrument the effect of schooling.__"
   ]
  },
  {
   "cell_type": "markdown",
   "id": "b032b1a3",
   "metadata": {},
   "source": []
  },
  {
   "cell_type": "markdown",
   "id": "1f08a5b4",
   "metadata": {},
   "source": [
    "__Run an IV regression, where `distance` is used to instrument schooling.__"
   ]
  },
  {
   "cell_type": "markdown",
   "id": "7ee16e5c",
   "metadata": {},
   "source": [
    "look at: \n",
    "    https://bashtage.github.io/linearmodels/\n",
    "   (two-stage least squares)"
   ]
  },
  {
   "cell_type": "code",
   "execution_count": null,
   "id": "c813c2cc",
   "metadata": {},
   "outputs": [],
   "source": []
  },
  {
   "cell_type": "markdown",
   "id": "e10cebf1",
   "metadata": {},
   "source": [
    "__Comment the results. Compare with the R tutorials.__"
   ]
  },
  {
   "cell_type": "code",
   "execution_count": null,
   "id": "ec56caf9",
   "metadata": {},
   "outputs": [],
   "source": []
  }
 ],
 "metadata": {
  "kernelspec": {
   "display_name": "Python 3",
   "language": "python",
   "name": "python3"
  },
  "language_info": {
   "codemirror_mode": {
    "name": "ipython",
    "version": 3
   },
   "file_extension": ".py",
   "mimetype": "text/x-python",
   "name": "python",
   "nbconvert_exporter": "python",
   "pygments_lexer": "ipython3",
   "version": "3.12.1"
  }
 },
 "nbformat": 4,
 "nbformat_minor": 5
}
