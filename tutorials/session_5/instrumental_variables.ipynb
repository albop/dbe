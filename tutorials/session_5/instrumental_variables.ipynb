{
 "cells": [
  {
   "cell_type": "markdown",
   "id": "d578e49d",
   "metadata": {},
   "source": [
    "# Instrumental variables"
   ]
  },
  {
   "cell_type": "markdown",
   "id": "160126b4",
   "metadata": {},
   "source": [
    "## IV example on mock dataset"
   ]
  },
  {
   "cell_type": "markdown",
   "id": "5e4e1bb7",
   "metadata": {},
   "source": [
    "### Constructing the dataset\n",
    "\n",
    "Create four random series of length $N=1000$\n",
    "\n",
    "- $x$: education\n",
    "- $y$: salary\n",
    "- $z$: ambition\n",
    "- $q$: early smoking \n",
    "\n",
    "such that:\n",
    "\n",
    "1. $x$ and $z$ cause $y$\n",
    "2. $z$ causes $x$\n",
    "3. $q$ is correlated with $x$, not with $z$\n",
    "\n",
    "\n",
    "A problem arises when the confounding factor $z$ is not observed. In that case, we can estimate the direct effect of $x$ on $y$ by using $q$ as an instrument.\n",
    "\n",
    "Create a dataset `df`\n"
   ]
  },
  {
   "cell_type": "code",
   "execution_count": 57,
   "id": "c68b9b9d",
   "metadata": {},
   "outputs": [],
   "source": [
    "import numpy as np\n",
    "import pandas as pd"
   ]
  },
  {
   "cell_type": "code",
   "execution_count": 58,
   "id": "25865e29",
   "metadata": {},
   "outputs": [],
   "source": [
    "N = 100000"
   ]
  },
  {
   "cell_type": "code",
   "execution_count": 59,
   "id": "77df8dbb",
   "metadata": {},
   "outputs": [],
   "source": [
    "ϵ_z = np.random.randn(N)*0.1\n",
    "ϵ_x = np.random.randn(N)*0.1\n",
    "ϵ_q = np.random.randn(N)*0.01\n",
    "ϵ_y = np.random.randn(N)*0.01"
   ]
  },
  {
   "cell_type": "code",
   "execution_count": 60,
   "id": "d069ef85",
   "metadata": {},
   "outputs": [],
   "source": [
    "z = 1 + ϵ_z\n",
    "x = 0.1 + z + ϵ_x\n",
    "q = 0.5 + 0.1234*ϵ_x + ϵ_q\n",
    "y  = 1.0 + 0.9*x + 0.4*z + ϵ_y"
   ]
  },
  {
   "cell_type": "code",
   "execution_count": 61,
   "id": "6907c0e7",
   "metadata": {},
   "outputs": [],
   "source": [
    "df = pd.DataFrame({\n",
    "    \"x\": x,\n",
    "    \"y\": y,\n",
    "    \"z\": z,\n",
    "    \"q\": q\n",
    "})"
   ]
  },
  {
   "cell_type": "code",
   "execution_count": 62,
   "id": "a33f8608",
   "metadata": {},
   "outputs": [
    {
     "data": {
      "text/html": [
       "<div>\n",
       "<style scoped>\n",
       "    .dataframe tbody tr th:only-of-type {\n",
       "        vertical-align: middle;\n",
       "    }\n",
       "\n",
       "    .dataframe tbody tr th {\n",
       "        vertical-align: top;\n",
       "    }\n",
       "\n",
       "    .dataframe thead th {\n",
       "        text-align: right;\n",
       "    }\n",
       "</style>\n",
       "<table border=\"1\" class=\"dataframe\">\n",
       "  <thead>\n",
       "    <tr style=\"text-align: right;\">\n",
       "      <th></th>\n",
       "      <th>x</th>\n",
       "      <th>y</th>\n",
       "      <th>z</th>\n",
       "      <th>q</th>\n",
       "    </tr>\n",
       "  </thead>\n",
       "  <tbody>\n",
       "    <tr>\n",
       "      <th>x</th>\n",
       "      <td>1.000000</td>\n",
       "      <td>0.981870</td>\n",
       "      <td>0.705850</td>\n",
       "      <td>0.552115</td>\n",
       "    </tr>\n",
       "    <tr>\n",
       "      <th>y</th>\n",
       "      <td>0.981870</td>\n",
       "      <td>1.000000</td>\n",
       "      <td>0.819707</td>\n",
       "      <td>0.443706</td>\n",
       "    </tr>\n",
       "    <tr>\n",
       "      <th>z</th>\n",
       "      <td>0.705850</td>\n",
       "      <td>0.819707</td>\n",
       "      <td>1.000000</td>\n",
       "      <td>-0.000030</td>\n",
       "    </tr>\n",
       "    <tr>\n",
       "      <th>q</th>\n",
       "      <td>0.552115</td>\n",
       "      <td>0.443706</td>\n",
       "      <td>-0.000030</td>\n",
       "      <td>1.000000</td>\n",
       "    </tr>\n",
       "  </tbody>\n",
       "</table>\n",
       "</div>"
      ],
      "text/plain": [
       "          x         y         z         q\n",
       "x  1.000000  0.981870  0.705850  0.552115\n",
       "y  0.981870  1.000000  0.819707  0.443706\n",
       "z  0.705850  0.819707  1.000000 -0.000030\n",
       "q  0.552115  0.443706 -0.000030  1.000000"
      ]
     },
     "execution_count": 62,
     "metadata": {},
     "output_type": "execute_result"
    }
   ],
   "source": [
    "df.corr()\n"
   ]
  },
  {
   "cell_type": "markdown",
   "id": "b47692a7",
   "metadata": {},
   "source": [
    "### Naive approach\n",
    "\n",
    "Use `linearmodels` to  run a regression estimating the effect of $x$ on $y$ (not the slight API change w.r.t. `statsmodels`). Comment."
   ]
  },
  {
   "cell_type": "code",
   "execution_count": 69,
   "id": "b1d35704",
   "metadata": {},
   "outputs": [],
   "source": [
    "from linearmodels import OLS"
   ]
  },
  {
   "cell_type": "code",
   "execution_count": 70,
   "id": "7e081a25",
   "metadata": {},
   "outputs": [
    {
     "data": {
      "text/html": [
       "<table class=\"simpletable\">\n",
       "<caption>OLS Estimation Summary</caption>\n",
       "<tr>\n",
       "  <th>Dep. Variable:</th>            <td>y</td>        <th>  R-squared:         </th>  <td>0.9641</td>  \n",
       "</tr>\n",
       "<tr>\n",
       "  <th>Estimator:</th>               <td>OLS</td>       <th>  Adj. R-squared:    </th>  <td>0.9641</td>  \n",
       "</tr>\n",
       "<tr>\n",
       "  <th>No. Observations:</th>      <td>100000</td>      <th>  F-statistic:       </th> <td>2.687e+06</td>\n",
       "</tr>\n",
       "<tr>\n",
       "  <th>Date:</th>             <td>Tue, Feb 13 2024</td> <th>  P-value (F-stat)   </th>  <td>0.0000</td>  \n",
       "</tr>\n",
       "<tr>\n",
       "  <th>Time:</th>                 <td>19:51:40</td>     <th>  Distribution:      </th>  <td>chi2(1)</td> \n",
       "</tr>\n",
       "<tr>\n",
       "  <th>Cov. Estimator:</th>        <td>robust</td>      <th>                     </th>     <td></td>     \n",
       "</tr>\n",
       "<tr>\n",
       "  <th></th>                          <td></td>         <th>                     </th>     <td></td>     \n",
       "</tr>\n",
       "</table>\n",
       "<table class=\"simpletable\">\n",
       "<caption>Parameter Estimates</caption>\n",
       "<tr>\n",
       "      <td></td>      <th>Parameter</th> <th>Std. Err.</th> <th>T-stat</th> <th>P-value</th> <th>Lower CI</th> <th>Upper CI</th>\n",
       "</tr>\n",
       "<tr>\n",
       "  <th>Intercept</th>  <td>1.1803</td>    <td>0.0007</td>   <td>1586.7</td> <td>0.0000</td>   <td>1.1788</td>   <td>1.1817</td> \n",
       "</tr>\n",
       "<tr>\n",
       "  <th>x</th>          <td>1.0997</td>    <td>0.0007</td>   <td>1639.2</td> <td>0.0000</td>   <td>1.0984</td>   <td>1.1010</td> \n",
       "</tr>\n",
       "</table>"
      ],
      "text/latex": [
       "\\begin{center}\n",
       "\\begin{tabular}{lclc}\n",
       "\\toprule\n",
       "\\textbf{Dep. Variable:}    &         y          & \\textbf{  R-squared:         } &      0.9641      \\\\\n",
       "\\textbf{Estimator:}        &        OLS         & \\textbf{  Adj. R-squared:    } &      0.9641      \\\\\n",
       "\\textbf{No. Observations:} &       100000       & \\textbf{  F-statistic:       } &    2.687e+06     \\\\\n",
       "\\textbf{Date:}             &  Tue, Feb 13 2024  & \\textbf{  P-value (F-stat)   } &      0.0000      \\\\\n",
       "\\textbf{Time:}             &      19:51:40      & \\textbf{  Distribution:      } &     chi2(1)      \\\\\n",
       "\\textbf{Cov. Estimator:}   &       robust       & \\textbf{                     } &                  \\\\\n",
       "\\textbf{}                  &                    & \\textbf{                     } &                  \\\\\n",
       "\\bottomrule\n",
       "\\end{tabular}\n",
       "\\begin{tabular}{lcccccc}\n",
       "                   & \\textbf{Parameter} & \\textbf{Std. Err.} & \\textbf{T-stat} & \\textbf{P-value} & \\textbf{Lower CI} & \\textbf{Upper CI}  \\\\\n",
       "\\midrule\n",
       "\\textbf{Intercept} &       1.1803       &       0.0007       &      1586.7     &      0.0000      &       1.1788      &       1.1817       \\\\\n",
       "\\textbf{x}         &       1.0997       &       0.0007       &      1639.2     &      0.0000      &       1.0984      &       1.1010       \\\\\n",
       "\\bottomrule\n",
       "\\end{tabular}\n",
       "%\\caption{OLS Estimation Summary}\n",
       "\\end{center}"
      ],
      "text/plain": [
       "<class 'linearmodels.compat.statsmodels.Summary'>\n",
       "\"\"\"\n",
       "                            OLS Estimation Summary                            \n",
       "==============================================================================\n",
       "Dep. Variable:                      y   R-squared:                      0.9641\n",
       "Estimator:                        OLS   Adj. R-squared:                 0.9641\n",
       "No. Observations:              100000   F-statistic:                 2.687e+06\n",
       "Date:                Tue, Feb 13 2024   P-value (F-stat)                0.0000\n",
       "Time:                        19:51:40   Distribution:                  chi2(1)\n",
       "Cov. Estimator:                robust                                         \n",
       "                                                                              \n",
       "                             Parameter Estimates                              \n",
       "==============================================================================\n",
       "            Parameter  Std. Err.     T-stat    P-value    Lower CI    Upper CI\n",
       "------------------------------------------------------------------------------\n",
       "Intercept      1.1803     0.0007     1586.7     0.0000      1.1788      1.1817\n",
       "x              1.0997     0.0007     1639.2     0.0000      1.0984      1.1010\n",
       "==============================================================================\n",
       "\"\"\""
      ]
     },
     "execution_count": 70,
     "metadata": {},
     "output_type": "execute_result"
    }
   ],
   "source": [
    "model = OLS.from_formula(\"y ~ x\", df)\n",
    "res = model.fit()\n",
    "res.summary"
   ]
  },
  {
   "cell_type": "markdown",
   "id": "794790b0",
   "metadata": {},
   "source": [
    "> your comment"
   ]
  },
  {
   "cell_type": "markdown",
   "id": "714ba065",
   "metadata": {},
   "source": [
    "__Assume briefly that `z` is known and control the regression by `z`. What happens?__"
   ]
  },
  {
   "cell_type": "code",
   "execution_count": 71,
   "id": "1519fb03",
   "metadata": {},
   "outputs": [],
   "source": [
    "# your code"
   ]
  },
  {
   "cell_type": "markdown",
   "id": "751b7c06",
   "metadata": {},
   "source": [
    "### Instrumental variable\n",
    "\n",
    "Use $q$ to instrument the effect of x on y. Comment."
   ]
  },
  {
   "cell_type": "code",
   "execution_count": 74,
   "id": "94e431e8",
   "metadata": {},
   "outputs": [],
   "source": [
    "# difference between linearmodels and statsmodels:\n",
    "# linearmodels does not include the constant by defulat"
   ]
  },
  {
   "cell_type": "code",
   "execution_count": 77,
   "id": "adb6c80f",
   "metadata": {},
   "outputs": [
    {
     "ename": "AttributeError",
     "evalue": "'tuple' object has no attribute 'strip'",
     "output_type": "error",
     "traceback": [
      "\u001b[0;31m---------------------------------------------------------------------------\u001b[0m",
      "\u001b[0;31mAttributeError\u001b[0m                            Traceback (most recent call last)",
      "Cell \u001b[0;32mIn[77], line 5\u001b[0m\n\u001b[1;32m      1\u001b[0m \u001b[38;5;28;01mfrom\u001b[39;00m \u001b[38;5;21;01mlinearmodels\u001b[39;00m \u001b[38;5;28;01mimport\u001b[39;00m IV2SLS\n\u001b[1;32m      2\u001b[0m formula \u001b[38;5;241m=\u001b[39m (\n\u001b[1;32m      3\u001b[0m     \u001b[38;5;66;03m# your formula\u001b[39;00m\n\u001b[1;32m      4\u001b[0m )\n\u001b[0;32m----> 5\u001b[0m mod \u001b[38;5;241m=\u001b[39m \u001b[43mIV2SLS\u001b[49m\u001b[38;5;241;43m.\u001b[39;49m\u001b[43mfrom_formula\u001b[49m\u001b[43m(\u001b[49m\u001b[43mformula\u001b[49m\u001b[43m,\u001b[49m\u001b[43m \u001b[49m\u001b[43mdf\u001b[49m\u001b[43m)\u001b[49m\n\u001b[1;32m      6\u001b[0m res \u001b[38;5;241m=\u001b[39m mod\u001b[38;5;241m.\u001b[39mfit()\n\u001b[1;32m      7\u001b[0m res\n",
      "File \u001b[0;32m~/.local/opt/micromamba/envs/escp/lib/python3.12/site-packages/linearmodels/iv/model.py:930\u001b[0m, in \u001b[0;36mIV2SLS.from_formula\u001b[0;34m(formula, data, weights)\u001b[0m\n\u001b[1;32m    889\u001b[0m \u001b[38;5;129m@staticmethod\u001b[39m\n\u001b[1;32m    890\u001b[0m \u001b[38;5;28;01mdef\u001b[39;00m \u001b[38;5;21mfrom_formula\u001b[39m(\n\u001b[1;32m    891\u001b[0m     formula: \u001b[38;5;28mstr\u001b[39m, data: DataFrame, \u001b[38;5;241m*\u001b[39m, weights: IVDataLike \u001b[38;5;241m|\u001b[39m \u001b[38;5;28;01mNone\u001b[39;00m \u001b[38;5;241m=\u001b[39m \u001b[38;5;28;01mNone\u001b[39;00m\n\u001b[1;32m    892\u001b[0m ) \u001b[38;5;241m-\u001b[39m\u001b[38;5;241m>\u001b[39m IV2SLS:\n\u001b[1;32m    893\u001b[0m \u001b[38;5;250m    \u001b[39m\u001b[38;5;124;03m\"\"\"\u001b[39;00m\n\u001b[1;32m    894\u001b[0m \u001b[38;5;124;03m    Parameters\u001b[39;00m\n\u001b[1;32m    895\u001b[0m \u001b[38;5;124;03m    ----------\u001b[39;00m\n\u001b[0;32m   (...)\u001b[0m\n\u001b[1;32m    928\u001b[0m \u001b[38;5;124;03m    >>> mod = IV2SLS.from_formula(formula, data)\u001b[39;00m\n\u001b[1;32m    929\u001b[0m \u001b[38;5;124;03m    \"\"\"\u001b[39;00m\n\u001b[0;32m--> 930\u001b[0m     parser \u001b[38;5;241m=\u001b[39m \u001b[43mIVFormulaParser\u001b[49m\u001b[43m(\u001b[49m\u001b[43mformula\u001b[49m\u001b[43m,\u001b[49m\u001b[43m \u001b[49m\u001b[43mdata\u001b[49m\u001b[43m)\u001b[49m\n\u001b[1;32m    931\u001b[0m     dep, exog, endog, instr \u001b[38;5;241m=\u001b[39m parser\u001b[38;5;241m.\u001b[39mdata\n\u001b[1;32m    932\u001b[0m     mod \u001b[38;5;241m=\u001b[39m IV2SLS(dep, exog, endog, instr, weights\u001b[38;5;241m=\u001b[39mweights)\n",
      "File \u001b[0;32m~/.local/opt/micromamba/envs/escp/lib/python3.12/site-packages/linearmodels/iv/_utility.py:101\u001b[0m, in \u001b[0;36mIVFormulaParser.__init__\u001b[0;34m(self, formula, data, eval_env, context)\u001b[0m\n\u001b[1;32m     99\u001b[0m     \u001b[38;5;28mself\u001b[39m\u001b[38;5;241m.\u001b[39m_context \u001b[38;5;241m=\u001b[39m context\n\u001b[1;32m    100\u001b[0m \u001b[38;5;28mself\u001b[39m\u001b[38;5;241m.\u001b[39m_components: \u001b[38;5;28mdict\u001b[39m[\u001b[38;5;28mstr\u001b[39m, \u001b[38;5;28mstr\u001b[39m] \u001b[38;5;241m=\u001b[39m {}\n\u001b[0;32m--> 101\u001b[0m \u001b[38;5;28;43mself\u001b[39;49m\u001b[38;5;241;43m.\u001b[39;49m\u001b[43m_parse\u001b[49m\u001b[43m(\u001b[49m\u001b[43m)\u001b[49m\n",
      "File \u001b[0;32m~/.local/opt/micromamba/envs/escp/lib/python3.12/site-packages/linearmodels/iv/_utility.py:104\u001b[0m, in \u001b[0;36mIVFormulaParser._parse\u001b[0;34m(self)\u001b[0m\n\u001b[1;32m    103\u001b[0m \u001b[38;5;28;01mdef\u001b[39;00m \u001b[38;5;21m_parse\u001b[39m(\u001b[38;5;28mself\u001b[39m) \u001b[38;5;241m-\u001b[39m\u001b[38;5;241m>\u001b[39m \u001b[38;5;28;01mNone\u001b[39;00m:\n\u001b[0;32m--> 104\u001b[0m     blocks \u001b[38;5;241m=\u001b[39m \u001b[38;5;28;43mself\u001b[39;49m\u001b[38;5;241;43m.\u001b[39;49m\u001b[43m_formula\u001b[49m\u001b[38;5;241;43m.\u001b[39;49m\u001b[43mstrip\u001b[49m()\u001b[38;5;241m.\u001b[39msplit(\u001b[38;5;124m\"\u001b[39m\u001b[38;5;124m~\u001b[39m\u001b[38;5;124m\"\u001b[39m)\n\u001b[1;32m    105\u001b[0m     \u001b[38;5;28;01mif\u001b[39;00m \u001b[38;5;28mlen\u001b[39m(blocks) \u001b[38;5;241m==\u001b[39m \u001b[38;5;241m2\u001b[39m:\n\u001b[1;32m    106\u001b[0m         dep \u001b[38;5;241m=\u001b[39m blocks[\u001b[38;5;241m0\u001b[39m]\u001b[38;5;241m.\u001b[39mstrip()\n",
      "\u001b[0;31mAttributeError\u001b[0m: 'tuple' object has no attribute 'strip'"
     ]
    }
   ],
   "source": [
    "from linearmodels import IV2SLS\n",
    "formula = (\n",
    "    # your formula\n",
    ")\n",
    "mod = IV2SLS.from_formula(formula, df)\n",
    "res = mod.fit()\n",
    "res"
   ]
  },
  {
   "cell_type": "markdown",
   "id": "71c81798",
   "metadata": {},
   "source": [
    "## Return on Education"
   ]
  },
  {
   "cell_type": "markdown",
   "id": "a2dbc829",
   "metadata": {},
   "source": [
    "We follow the excellent R [tutorial](https://www.econometrics-with-r.org/12-6-exercises-10.html) from the (excellent) *Econometrics with R* book.\n",
    "\n",
    "The goal is to measure the effect of schooling on earnings, while correcting the endogeneity bias by using distance to college as an instrument."
   ]
  },
  {
   "cell_type": "markdown",
   "id": "f172361f",
   "metadata": {},
   "source": [
    "__Download the college distance dataset with `statsmodels`. Describe the dataset and extract the dataframe. Plot an histogram of distance to college.__\n",
    "\n",
    "https://vincentarelbundock.github.io/Rdatasets/datasets.html"
   ]
  },
  {
   "cell_type": "code",
   "execution_count": 84,
   "id": "0f2d34a5",
   "metadata": {},
   "outputs": [],
   "source": [
    "import statsmodels.api as sm\n",
    "ds = sm.datasets.get_rdataset(\"CollegeDistance\", \"AER\")"
   ]
  },
  {
   "cell_type": "code",
   "execution_count": 85,
   "id": "81f66644",
   "metadata": {},
   "outputs": [],
   "source": [
    "# describe dataset"
   ]
  },
  {
   "cell_type": "code",
   "execution_count": 86,
   "id": "8f22ccba",
   "metadata": {},
   "outputs": [],
   "source": [
    "df = ds.data"
   ]
  },
  {
   "cell_type": "code",
   "execution_count": 87,
   "id": "5555df62",
   "metadata": {},
   "outputs": [],
   "source": [
    "# describe dataframe"
   ]
  },
  {
   "cell_type": "markdown",
   "id": "ca8ec743",
   "metadata": {},
   "source": [
    "__Run the naive regression $income=\\beta_0 + \\beta_1 \\text{education} + u$__\n",
    "\n"
   ]
  },
  {
   "cell_type": "code",
   "execution_count": 92,
   "id": "6727849f",
   "metadata": {},
   "outputs": [],
   "source": [
    "from linearmodels import OLS"
   ]
  },
  {
   "cell_type": "code",
   "execution_count": 93,
   "id": "b2d3cf57",
   "metadata": {},
   "outputs": [
    {
     "name": "stderr",
     "output_type": "stream",
     "text": [
      "/home/pablo/.local/opt/micromamba/envs/escp/lib/python3.12/site-packages/linearmodels/shared/linalg.py:64: RuntimeWarning: invalid value encountered in sqrt\n",
      "  return vecs @ np.diag(1 / np.sqrt(vals)) @ vecs.T\n"
     ]
    },
    {
     "ename": "TypeError",
     "evalue": "only length-1 arrays can be converted to Python scalars",
     "output_type": "error",
     "traceback": [
      "\u001b[0;31m---------------------------------------------------------------------------\u001b[0m",
      "\u001b[0;31mTypeError\u001b[0m                                 Traceback (most recent call last)",
      "Cell \u001b[0;32mIn[93], line 2\u001b[0m\n\u001b[1;32m      1\u001b[0m model \u001b[38;5;241m=\u001b[39m OLS\u001b[38;5;241m.\u001b[39mfrom_formula(\u001b[38;5;124m\"\u001b[39m\u001b[38;5;124mC(income) ~ education\u001b[39m\u001b[38;5;124m\"\u001b[39m, df)\n\u001b[0;32m----> 2\u001b[0m res \u001b[38;5;241m=\u001b[39m\u001b[43mmodel\u001b[49m\u001b[38;5;241;43m.\u001b[39;49m\u001b[43mfit\u001b[49m\u001b[43m(\u001b[49m\u001b[43m)\u001b[49m\n\u001b[1;32m      3\u001b[0m res\u001b[38;5;241m.\u001b[39msummary\n",
      "File \u001b[0;32m~/.local/opt/micromamba/envs/escp/lib/python3.12/site-packages/linearmodels/iv/model.py:688\u001b[0m, in \u001b[0;36m_IVLSModelBase.fit\u001b[0;34m(self, cov_type, debiased, **cov_config)\u001b[0m\n\u001b[1;32m    685\u001b[0m cov_estimator_inst \u001b[38;5;241m=\u001b[39m cov_estimator(wx, wy, wz, params, \u001b[38;5;241m*\u001b[39m\u001b[38;5;241m*\u001b[39mcov_config_copy)\n\u001b[1;32m    687\u001b[0m results \u001b[38;5;241m=\u001b[39m {\u001b[38;5;124m\"\u001b[39m\u001b[38;5;124mkappa\u001b[39m\u001b[38;5;124m\"\u001b[39m: est_kappa, \u001b[38;5;124m\"\u001b[39m\u001b[38;5;124mliml_kappa\u001b[39m\u001b[38;5;124m\"\u001b[39m: liml_kappa}\n\u001b[0;32m--> 688\u001b[0m pe \u001b[38;5;241m=\u001b[39m \u001b[38;5;28;43mself\u001b[39;49m\u001b[38;5;241;43m.\u001b[39;49m\u001b[43m_post_estimation\u001b[49m\u001b[43m(\u001b[49m\u001b[43mparams\u001b[49m\u001b[43m,\u001b[49m\u001b[43m \u001b[49m\u001b[43mcov_estimator_inst\u001b[49m\u001b[43m,\u001b[49m\u001b[43m \u001b[49m\u001b[43mcov_type\u001b[49m\u001b[43m)\u001b[49m\n\u001b[1;32m    689\u001b[0m results\u001b[38;5;241m.\u001b[39mupdate(pe)\n\u001b[1;32m    691\u001b[0m \u001b[38;5;28;01mif\u001b[39;00m \u001b[38;5;28mself\u001b[39m\u001b[38;5;241m.\u001b[39mendog\u001b[38;5;241m.\u001b[39mshape[\u001b[38;5;241m1\u001b[39m] \u001b[38;5;241m==\u001b[39m \u001b[38;5;241m0\u001b[39m \u001b[38;5;129;01mand\u001b[39;00m \u001b[38;5;28mself\u001b[39m\u001b[38;5;241m.\u001b[39minstruments\u001b[38;5;241m.\u001b[39mshape[\u001b[38;5;241m1\u001b[39m] \u001b[38;5;241m==\u001b[39m \u001b[38;5;241m0\u001b[39m:\n",
      "File \u001b[0;32m~/.local/opt/micromamba/envs/escp/lib/python3.12/site-packages/linearmodels/iv/model.py:451\u001b[0m, in \u001b[0;36m_IVModelBase._post_estimation\u001b[0;34m(self, params, cov_estimator, cov_type)\u001b[0m\n\u001b[1;32m    448\u001b[0m \u001b[38;5;28;01mif\u001b[39;00m \u001b[38;5;28mself\u001b[39m\u001b[38;5;241m.\u001b[39mhas_constant:\n\u001b[1;32m    449\u001b[0m     e \u001b[38;5;241m=\u001b[39m e \u001b[38;5;241m-\u001b[39m sqrt(\u001b[38;5;28mself\u001b[39m\u001b[38;5;241m.\u001b[39mweights\u001b[38;5;241m.\u001b[39mndarray) \u001b[38;5;241m*\u001b[39m average(\u001b[38;5;28mself\u001b[39m\u001b[38;5;241m.\u001b[39m_y, weights\u001b[38;5;241m=\u001b[39mw)\n\u001b[0;32m--> 451\u001b[0m total_ss \u001b[38;5;241m=\u001b[39m \u001b[38;5;28;43mfloat\u001b[39;49m\u001b[43m(\u001b[49m\u001b[43msqueeze\u001b[49m\u001b[43m(\u001b[49m\u001b[43me\u001b[49m\u001b[38;5;241;43m.\u001b[39;49m\u001b[43mT\u001b[49m\u001b[43m \u001b[49m\u001b[38;5;241;43m@\u001b[39;49m\u001b[43m \u001b[49m\u001b[43me\u001b[49m\u001b[43m)\u001b[49m\u001b[43m)\u001b[49m\n\u001b[1;32m    452\u001b[0m r2 \u001b[38;5;241m=\u001b[39m \u001b[38;5;241m1\u001b[39m \u001b[38;5;241m-\u001b[39m residual_ss \u001b[38;5;241m/\u001b[39m total_ss\n\u001b[1;32m    454\u001b[0m fstat \u001b[38;5;241m=\u001b[39m \u001b[38;5;28mself\u001b[39m\u001b[38;5;241m.\u001b[39m_f_statistic(params, cov, debiased)\n",
      "\u001b[0;31mTypeError\u001b[0m: only length-1 arrays can be converted to Python scalars"
     ]
    }
   ],
   "source": [
    "model = OLS.from_formula(\"C(income) ~ education\", df)\n",
    "res =model.fit()\n",
    "res.summary"
   ]
  },
  {
   "cell_type": "code",
   "execution_count": 94,
   "id": "627e0d2c",
   "metadata": {},
   "outputs": [],
   "source": [
    "# education variable takes string values (\"high\" or \"low\"). \n",
    "# we need to convert them into 1 and 0 first\n",
    "df['income_binary'] = (df['income'] == \"high\")*1"
   ]
  },
  {
   "cell_type": "code",
   "execution_count": 95,
   "id": "566dabaf",
   "metadata": {},
   "outputs": [],
   "source": [
    "model = api.ols(\"income_binary ~ education\", df)\n",
    "result = model.fit()"
   ]
  },
  {
   "cell_type": "code",
   "execution_count": 96,
   "id": "93876006",
   "metadata": {},
   "outputs": [
    {
     "data": {
      "text/html": [
       "<table class=\"simpletable\">\n",
       "<caption>OLS Estimation Summary</caption>\n",
       "<tr>\n",
       "  <th>Dep. Variable:</th>      <td>income_binary</td>  <th>  R-squared:         </th> <td>0.0480</td> \n",
       "</tr>\n",
       "<tr>\n",
       "  <th>Estimator:</th>               <td>OLS</td>       <th>  Adj. R-squared:    </th> <td>0.0478</td> \n",
       "</tr>\n",
       "<tr>\n",
       "  <th>No. Observations:</th>       <td>4739</td>       <th>  F-statistic:       </th> <td>227.43</td> \n",
       "</tr>\n",
       "<tr>\n",
       "  <th>Date:</th>             <td>Tue, Feb 13 2024</td> <th>  P-value (F-stat)   </th> <td>0.0000</td> \n",
       "</tr>\n",
       "<tr>\n",
       "  <th>Time:</th>                 <td>20:00:23</td>     <th>  Distribution:      </th> <td>chi2(1)</td>\n",
       "</tr>\n",
       "<tr>\n",
       "  <th>Cov. Estimator:</th>        <td>robust</td>      <th>                     </th>    <td></td>    \n",
       "</tr>\n",
       "<tr>\n",
       "  <th></th>                          <td></td>         <th>                     </th>    <td></td>    \n",
       "</tr>\n",
       "</table>\n",
       "<table class=\"simpletable\">\n",
       "<caption>Parameter Estimates</caption>\n",
       "<tr>\n",
       "      <td></td>      <th>Parameter</th> <th>Std. Err.</th> <th>T-stat</th>  <th>P-value</th> <th>Lower CI</th> <th>Upper CI</th>\n",
       "</tr>\n",
       "<tr>\n",
       "  <th>Intercept</th>  <td>-0.4780</td>   <td>0.0499</td>   <td>-9.5702</td> <td>0.0000</td>   <td>-0.5759</td>  <td>-0.3801</td>\n",
       "</tr>\n",
       "<tr>\n",
       "  <th>education</th>  <td>0.0555</td>    <td>0.0037</td>   <td>15.081</td>  <td>0.0000</td>   <td>0.0483</td>   <td>0.0627</td> \n",
       "</tr>\n",
       "</table>"
      ],
      "text/latex": [
       "\\begin{center}\n",
       "\\begin{tabular}{lclc}\n",
       "\\toprule\n",
       "\\textbf{Dep. Variable:}    &   income\\_binary   & \\textbf{  R-squared:         } &      0.0480      \\\\\n",
       "\\textbf{Estimator:}        &        OLS         & \\textbf{  Adj. R-squared:    } &      0.0478      \\\\\n",
       "\\textbf{No. Observations:} &        4739        & \\textbf{  F-statistic:       } &      227.43      \\\\\n",
       "\\textbf{Date:}             &  Tue, Feb 13 2024  & \\textbf{  P-value (F-stat)   } &      0.0000      \\\\\n",
       "\\textbf{Time:}             &      20:00:23      & \\textbf{  Distribution:      } &     chi2(1)      \\\\\n",
       "\\textbf{Cov. Estimator:}   &       robust       & \\textbf{                     } &                  \\\\\n",
       "\\textbf{}                  &                    & \\textbf{                     } &                  \\\\\n",
       "\\bottomrule\n",
       "\\end{tabular}\n",
       "\\begin{tabular}{lcccccc}\n",
       "                   & \\textbf{Parameter} & \\textbf{Std. Err.} & \\textbf{T-stat} & \\textbf{P-value} & \\textbf{Lower CI} & \\textbf{Upper CI}  \\\\\n",
       "\\midrule\n",
       "\\textbf{Intercept} &      -0.4780       &       0.0499       &     -9.5702     &      0.0000      &      -0.5759      &      -0.3801       \\\\\n",
       "\\textbf{education} &       0.0555       &       0.0037       &      15.081     &      0.0000      &       0.0483      &       0.0627       \\\\\n",
       "\\bottomrule\n",
       "\\end{tabular}\n",
       "%\\caption{OLS Estimation Summary}\n",
       "\\end{center}"
      ],
      "text/plain": [
       "<class 'linearmodels.compat.statsmodels.Summary'>\n",
       "\"\"\"\n",
       "                            OLS Estimation Summary                            \n",
       "==============================================================================\n",
       "Dep. Variable:          income_binary   R-squared:                      0.0480\n",
       "Estimator:                        OLS   Adj. R-squared:                 0.0478\n",
       "No. Observations:                4739   F-statistic:                    227.43\n",
       "Date:                Tue, Feb 13 2024   P-value (F-stat)                0.0000\n",
       "Time:                        20:00:23   Distribution:                  chi2(1)\n",
       "Cov. Estimator:                robust                                         \n",
       "                                                                              \n",
       "                             Parameter Estimates                              \n",
       "==============================================================================\n",
       "            Parameter  Std. Err.     T-stat    P-value    Lower CI    Upper CI\n",
       "------------------------------------------------------------------------------\n",
       "Intercept     -0.4780     0.0499    -9.5702     0.0000     -0.5759     -0.3801\n",
       "education      0.0555     0.0037     15.081     0.0000      0.0483      0.0627\n",
       "==============================================================================\n",
       "\"\"\""
      ]
     },
     "execution_count": 96,
     "metadata": {},
     "output_type": "execute_result"
    }
   ],
   "source": [
    "model = OLS.from_formula(\"income_binary ~ education\", df)\n",
    "res =model.fit()\n",
    "res.summary"
   ]
  },
  {
   "cell_type": "code",
   "execution_count": 36,
   "id": "cd62b2eb",
   "metadata": {},
   "outputs": [
    {
     "data": {
      "text/html": [
       "<table class=\"simpletable\">\n",
       "<caption>OLS Regression Results</caption>\n",
       "<tr>\n",
       "  <th>Dep. Variable:</th>      <td>income_binary</td>  <th>  R-squared:         </th> <td>   0.048</td>\n",
       "</tr>\n",
       "<tr>\n",
       "  <th>Model:</th>                   <td>OLS</td>       <th>  Adj. R-squared:    </th> <td>   0.048</td>\n",
       "</tr>\n",
       "<tr>\n",
       "  <th>Method:</th>             <td>Least Squares</td>  <th>  F-statistic:       </th> <td>   239.0</td>\n",
       "</tr>\n",
       "<tr>\n",
       "  <th>Date:</th>             <td>Tue, 15 Mar 2022</td> <th>  Prob (F-statistic):</th> <td>1.22e-52</td>\n",
       "</tr>\n",
       "<tr>\n",
       "  <th>Time:</th>                 <td>09:34:48</td>     <th>  Log-Likelihood:    </th> <td> -2853.5</td>\n",
       "</tr>\n",
       "<tr>\n",
       "  <th>No. Observations:</th>      <td>  4739</td>      <th>  AIC:               </th> <td>   5711.</td>\n",
       "</tr>\n",
       "<tr>\n",
       "  <th>Df Residuals:</th>          <td>  4737</td>      <th>  BIC:               </th> <td>   5724.</td>\n",
       "</tr>\n",
       "<tr>\n",
       "  <th>Df Model:</th>              <td>     1</td>      <th>                     </th>     <td> </td>   \n",
       "</tr>\n",
       "<tr>\n",
       "  <th>Covariance Type:</th>      <td>nonrobust</td>    <th>                     </th>     <td> </td>   \n",
       "</tr>\n",
       "</table>\n",
       "<table class=\"simpletable\">\n",
       "<tr>\n",
       "      <td></td>         <th>coef</th>     <th>std err</th>      <th>t</th>      <th>P>|t|</th>  <th>[0.025</th>    <th>0.975]</th>  \n",
       "</tr>\n",
       "<tr>\n",
       "  <th>Intercept</th> <td>   -0.4780</td> <td>    0.050</td> <td>   -9.567</td> <td> 0.000</td> <td>   -0.576</td> <td>   -0.380</td>\n",
       "</tr>\n",
       "<tr>\n",
       "  <th>education</th> <td>    0.0555</td> <td>    0.004</td> <td>   15.460</td> <td> 0.000</td> <td>    0.048</td> <td>    0.063</td>\n",
       "</tr>\n",
       "</table>\n",
       "<table class=\"simpletable\">\n",
       "<tr>\n",
       "  <th>Omnibus:</th>       <td>1510.859</td> <th>  Durbin-Watson:     </th> <td>   1.791</td> \n",
       "</tr>\n",
       "<tr>\n",
       "  <th>Prob(Omnibus):</th>  <td> 0.000</td>  <th>  Jarque-Bera (JB):  </th> <td> 795.036</td> \n",
       "</tr>\n",
       "<tr>\n",
       "  <th>Skew:</th>           <td> 0.871</td>  <th>  Prob(JB):          </th> <td>2.29e-173</td>\n",
       "</tr>\n",
       "<tr>\n",
       "  <th>Kurtosis:</th>       <td> 2.003</td>  <th>  Cond. No.          </th> <td>    109.</td> \n",
       "</tr>\n",
       "</table><br/><br/>Notes:<br/>[1] Standard Errors assume that the covariance matrix of the errors is correctly specified."
      ],
      "text/plain": [
       "<class 'statsmodels.iolib.summary.Summary'>\n",
       "\"\"\"\n",
       "                            OLS Regression Results                            \n",
       "==============================================================================\n",
       "Dep. Variable:          income_binary   R-squared:                       0.048\n",
       "Model:                            OLS   Adj. R-squared:                  0.048\n",
       "Method:                 Least Squares   F-statistic:                     239.0\n",
       "Date:                Tue, 15 Mar 2022   Prob (F-statistic):           1.22e-52\n",
       "Time:                        09:34:48   Log-Likelihood:                -2853.5\n",
       "No. Observations:                4739   AIC:                             5711.\n",
       "Df Residuals:                    4737   BIC:                             5724.\n",
       "Df Model:                           1                                         \n",
       "Covariance Type:            nonrobust                                         \n",
       "==============================================================================\n",
       "                 coef    std err          t      P>|t|      [0.025      0.975]\n",
       "------------------------------------------------------------------------------\n",
       "Intercept     -0.4780      0.050     -9.567      0.000      -0.576      -0.380\n",
       "education      0.0555      0.004     15.460      0.000       0.048       0.063\n",
       "==============================================================================\n",
       "Omnibus:                     1510.859   Durbin-Watson:                   1.791\n",
       "Prob(Omnibus):                  0.000   Jarque-Bera (JB):              795.036\n",
       "Skew:                           0.871   Prob(JB):                    2.29e-173\n",
       "Kurtosis:                       2.003   Cond. No.                         109.\n",
       "==============================================================================\n",
       "\n",
       "Notes:\n",
       "[1] Standard Errors assume that the covariance matrix of the errors is correctly specified.\n",
       "\"\"\""
      ]
     },
     "execution_count": 36,
     "metadata": {},
     "output_type": "execute_result"
    }
   ],
   "source": [
    "result.summary()"
   ]
  },
  {
   "cell_type": "markdown",
   "id": "1657ddec",
   "metadata": {},
   "source": [
    "The p-value associated to the Fisher statistics is negligible: the model is globally significant. \n",
    "Predictive power is very low (R^2 ~ 5%): the effect of education on income is small w.r.t. to the effect of other factors.\n",
    "\n",
    "Coefficients for interecept and education terms are significant at the 0.1% threshold."
   ]
  },
  {
   "cell_type": "code",
   "execution_count": 38,
   "id": "19638a17",
   "metadata": {},
   "outputs": [
    {
     "data": {
      "text/html": [
       "<div>\n",
       "<style scoped>\n",
       "    .dataframe tbody tr th:only-of-type {\n",
       "        vertical-align: middle;\n",
       "    }\n",
       "\n",
       "    .dataframe tbody tr th {\n",
       "        vertical-align: top;\n",
       "    }\n",
       "\n",
       "    .dataframe thead th {\n",
       "        text-align: right;\n",
       "    }\n",
       "</style>\n",
       "<table border=\"1\" class=\"dataframe\">\n",
       "  <thead>\n",
       "    <tr style=\"text-align: right;\">\n",
       "      <th></th>\n",
       "      <th>gender</th>\n",
       "      <th>ethnicity</th>\n",
       "      <th>score</th>\n",
       "      <th>fcollege</th>\n",
       "      <th>mcollege</th>\n",
       "      <th>home</th>\n",
       "      <th>urban</th>\n",
       "      <th>unemp</th>\n",
       "      <th>wage</th>\n",
       "      <th>distance</th>\n",
       "      <th>tuition</th>\n",
       "      <th>education</th>\n",
       "      <th>income</th>\n",
       "      <th>region</th>\n",
       "      <th>income_binary</th>\n",
       "    </tr>\n",
       "  </thead>\n",
       "  <tbody>\n",
       "    <tr>\n",
       "      <th>1</th>\n",
       "      <td>male</td>\n",
       "      <td>other</td>\n",
       "      <td>39.150002</td>\n",
       "      <td>yes</td>\n",
       "      <td>no</td>\n",
       "      <td>yes</td>\n",
       "      <td>yes</td>\n",
       "      <td>6.2</td>\n",
       "      <td>8.09</td>\n",
       "      <td>0.2</td>\n",
       "      <td>0.88915</td>\n",
       "      <td>12</td>\n",
       "      <td>high</td>\n",
       "      <td>other</td>\n",
       "      <td>1</td>\n",
       "    </tr>\n",
       "    <tr>\n",
       "      <th>2</th>\n",
       "      <td>female</td>\n",
       "      <td>other</td>\n",
       "      <td>48.869999</td>\n",
       "      <td>no</td>\n",
       "      <td>no</td>\n",
       "      <td>yes</td>\n",
       "      <td>yes</td>\n",
       "      <td>6.2</td>\n",
       "      <td>8.09</td>\n",
       "      <td>0.2</td>\n",
       "      <td>0.88915</td>\n",
       "      <td>12</td>\n",
       "      <td>low</td>\n",
       "      <td>other</td>\n",
       "      <td>0</td>\n",
       "    </tr>\n",
       "    <tr>\n",
       "      <th>3</th>\n",
       "      <td>male</td>\n",
       "      <td>other</td>\n",
       "      <td>48.740002</td>\n",
       "      <td>no</td>\n",
       "      <td>no</td>\n",
       "      <td>yes</td>\n",
       "      <td>yes</td>\n",
       "      <td>6.2</td>\n",
       "      <td>8.09</td>\n",
       "      <td>0.2</td>\n",
       "      <td>0.88915</td>\n",
       "      <td>12</td>\n",
       "      <td>low</td>\n",
       "      <td>other</td>\n",
       "      <td>0</td>\n",
       "    </tr>\n",
       "    <tr>\n",
       "      <th>4</th>\n",
       "      <td>male</td>\n",
       "      <td>afam</td>\n",
       "      <td>40.400002</td>\n",
       "      <td>no</td>\n",
       "      <td>no</td>\n",
       "      <td>yes</td>\n",
       "      <td>yes</td>\n",
       "      <td>6.2</td>\n",
       "      <td>8.09</td>\n",
       "      <td>0.2</td>\n",
       "      <td>0.88915</td>\n",
       "      <td>12</td>\n",
       "      <td>low</td>\n",
       "      <td>other</td>\n",
       "      <td>0</td>\n",
       "    </tr>\n",
       "    <tr>\n",
       "      <th>5</th>\n",
       "      <td>female</td>\n",
       "      <td>other</td>\n",
       "      <td>40.480000</td>\n",
       "      <td>no</td>\n",
       "      <td>no</td>\n",
       "      <td>no</td>\n",
       "      <td>yes</td>\n",
       "      <td>5.6</td>\n",
       "      <td>8.09</td>\n",
       "      <td>0.4</td>\n",
       "      <td>0.88915</td>\n",
       "      <td>13</td>\n",
       "      <td>low</td>\n",
       "      <td>other</td>\n",
       "      <td>0</td>\n",
       "    </tr>\n",
       "  </tbody>\n",
       "</table>\n",
       "</div>"
      ],
      "text/plain": [
       "   gender ethnicity      score fcollege mcollege home urban  unemp  wage  \\\n",
       "1    male     other  39.150002      yes       no  yes   yes    6.2  8.09   \n",
       "2  female     other  48.869999       no       no  yes   yes    6.2  8.09   \n",
       "3    male     other  48.740002       no       no  yes   yes    6.2  8.09   \n",
       "4    male      afam  40.400002       no       no  yes   yes    6.2  8.09   \n",
       "5  female     other  40.480000       no       no   no   yes    5.6  8.09   \n",
       "\n",
       "   distance  tuition  education income region  income_binary  \n",
       "1       0.2  0.88915         12   high  other              1  \n",
       "2       0.2  0.88915         12    low  other              0  \n",
       "3       0.2  0.88915         12    low  other              0  \n",
       "4       0.2  0.88915         12    low  other              0  \n",
       "5       0.4  0.88915         13    low  other              0  "
      ]
     },
     "execution_count": 38,
     "metadata": {},
     "output_type": "execute_result"
    }
   ],
   "source": [
    "df.head()"
   ]
  },
  {
   "cell_type": "code",
   "execution_count": 40,
   "id": "c0f72ea5",
   "metadata": {},
   "outputs": [
    {
     "data": {
      "text/plain": [
       "array(['other', 'afam', 'hispanic'], dtype=object)"
      ]
     },
     "execution_count": 40,
     "metadata": {},
     "output_type": "execute_result"
    }
   ],
   "source": [
    "df['ethnicity'].unique()"
   ]
  },
  {
   "cell_type": "markdown",
   "id": "bf7a87cd",
   "metadata": {},
   "source": [
    "__Augment the regression with `unemp`, `hispanic`, `af-am`, `female` and `urban`__"
   ]
  },
  {
   "cell_type": "code",
   "execution_count": 46,
   "id": "214c014b",
   "metadata": {},
   "outputs": [],
   "source": [
    "from patsy import Treatment"
   ]
  },
  {
   "cell_type": "code",
   "execution_count": 54,
   "id": "325e7e78",
   "metadata": {},
   "outputs": [],
   "source": [
    "model = api.ols(\"income_binary ~ education + C(gender,Treatment(reference='male')) + C(ethnicity,Treatment(reference='other')) + urban + unemp\", df)\n",
    "result = model.fit()"
   ]
  },
  {
   "cell_type": "code",
   "execution_count": 55,
   "id": "bd33a481",
   "metadata": {},
   "outputs": [
    {
     "data": {
      "text/html": [
       "<table class=\"simpletable\">\n",
       "<caption>OLS Regression Results</caption>\n",
       "<tr>\n",
       "  <th>Dep. Variable:</th>      <td>income_binary</td>  <th>  R-squared:         </th> <td>   0.083</td>\n",
       "</tr>\n",
       "<tr>\n",
       "  <th>Model:</th>                   <td>OLS</td>       <th>  Adj. R-squared:    </th> <td>   0.082</td>\n",
       "</tr>\n",
       "<tr>\n",
       "  <th>Method:</th>             <td>Least Squares</td>  <th>  F-statistic:       </th> <td>   71.34</td>\n",
       "</tr>\n",
       "<tr>\n",
       "  <th>Date:</th>             <td>Tue, 15 Mar 2022</td> <th>  Prob (F-statistic):</th> <td>2.00e-85</td>\n",
       "</tr>\n",
       "<tr>\n",
       "  <th>Time:</th>                 <td>09:51:02</td>     <th>  Log-Likelihood:    </th> <td> -2764.9</td>\n",
       "</tr>\n",
       "<tr>\n",
       "  <th>No. Observations:</th>      <td>  4739</td>      <th>  AIC:               </th> <td>   5544.</td>\n",
       "</tr>\n",
       "<tr>\n",
       "  <th>Df Residuals:</th>          <td>  4732</td>      <th>  BIC:               </th> <td>   5589.</td>\n",
       "</tr>\n",
       "<tr>\n",
       "  <th>Df Model:</th>              <td>     6</td>      <th>                     </th>     <td> </td>   \n",
       "</tr>\n",
       "<tr>\n",
       "  <th>Covariance Type:</th>      <td>nonrobust</td>    <th>                     </th>     <td> </td>   \n",
       "</tr>\n",
       "</table>\n",
       "<table class=\"simpletable\">\n",
       "<tr>\n",
       "                             <td></td>                               <th>coef</th>     <th>std err</th>      <th>t</th>      <th>P>|t|</th>  <th>[0.025</th>    <th>0.975]</th>  \n",
       "</tr>\n",
       "<tr>\n",
       "  <th>Intercept</th>                                              <td>   -0.2433</td> <td>    0.054</td> <td>   -4.528</td> <td> 0.000</td> <td>   -0.349</td> <td>   -0.138</td>\n",
       "</tr>\n",
       "<tr>\n",
       "  <th>C(gender, Treatment(reference='male'))[T.female]</th>       <td>   -0.0490</td> <td>    0.013</td> <td>   -3.861</td> <td> 0.000</td> <td>   -0.074</td> <td>   -0.024</td>\n",
       "</tr>\n",
       "<tr>\n",
       "  <th>C(ethnicity, Treatment(reference='other'))[T.afam]</th>     <td>   -0.1235</td> <td>    0.018</td> <td>   -6.920</td> <td> 0.000</td> <td>   -0.159</td> <td>   -0.089</td>\n",
       "</tr>\n",
       "<tr>\n",
       "  <th>C(ethnicity, Treatment(reference='other'))[T.hispanic]</th> <td>   -0.1532</td> <td>    0.017</td> <td>   -9.197</td> <td> 0.000</td> <td>   -0.186</td> <td>   -0.121</td>\n",
       "</tr>\n",
       "<tr>\n",
       "  <th>urban[T.yes]</th>                                           <td>   -0.0470</td> <td>    0.015</td> <td>   -3.073</td> <td> 0.002</td> <td>   -0.077</td> <td>   -0.017</td>\n",
       "</tr>\n",
       "<tr>\n",
       "  <th>education</th>                                              <td>    0.0511</td> <td>    0.004</td> <td>   14.422</td> <td> 0.000</td> <td>    0.044</td> <td>    0.058</td>\n",
       "</tr>\n",
       "<tr>\n",
       "  <th>unemp</th>                                                  <td>   -0.0115</td> <td>    0.002</td> <td>   -5.006</td> <td> 0.000</td> <td>   -0.016</td> <td>   -0.007</td>\n",
       "</tr>\n",
       "</table>\n",
       "<table class=\"simpletable\">\n",
       "<tr>\n",
       "  <th>Omnibus:</th>       <td>1212.294</td> <th>  Durbin-Watson:     </th> <td>   1.836</td> \n",
       "</tr>\n",
       "<tr>\n",
       "  <th>Prob(Omnibus):</th>  <td> 0.000</td>  <th>  Jarque-Bera (JB):  </th> <td> 697.989</td> \n",
       "</tr>\n",
       "<tr>\n",
       "  <th>Skew:</th>           <td> 0.813</td>  <th>  Prob(JB):          </th> <td>2.71e-152</td>\n",
       "</tr>\n",
       "<tr>\n",
       "  <th>Kurtosis:</th>       <td> 2.055</td>  <th>  Cond. No.          </th> <td>    136.</td> \n",
       "</tr>\n",
       "</table><br/><br/>Notes:<br/>[1] Standard Errors assume that the covariance matrix of the errors is correctly specified."
      ],
      "text/plain": [
       "<class 'statsmodels.iolib.summary.Summary'>\n",
       "\"\"\"\n",
       "                            OLS Regression Results                            \n",
       "==============================================================================\n",
       "Dep. Variable:          income_binary   R-squared:                       0.083\n",
       "Model:                            OLS   Adj. R-squared:                  0.082\n",
       "Method:                 Least Squares   F-statistic:                     71.34\n",
       "Date:                Tue, 15 Mar 2022   Prob (F-statistic):           2.00e-85\n",
       "Time:                        09:51:02   Log-Likelihood:                -2764.9\n",
       "No. Observations:                4739   AIC:                             5544.\n",
       "Df Residuals:                    4732   BIC:                             5589.\n",
       "Df Model:                           6                                         \n",
       "Covariance Type:            nonrobust                                         \n",
       "==========================================================================================================================\n",
       "                                                             coef    std err          t      P>|t|      [0.025      0.975]\n",
       "--------------------------------------------------------------------------------------------------------------------------\n",
       "Intercept                                                 -0.2433      0.054     -4.528      0.000      -0.349      -0.138\n",
       "C(gender, Treatment(reference='male'))[T.female]          -0.0490      0.013     -3.861      0.000      -0.074      -0.024\n",
       "C(ethnicity, Treatment(reference='other'))[T.afam]        -0.1235      0.018     -6.920      0.000      -0.159      -0.089\n",
       "C(ethnicity, Treatment(reference='other'))[T.hispanic]    -0.1532      0.017     -9.197      0.000      -0.186      -0.121\n",
       "urban[T.yes]                                              -0.0470      0.015     -3.073      0.002      -0.077      -0.017\n",
       "education                                                  0.0511      0.004     14.422      0.000       0.044       0.058\n",
       "unemp                                                     -0.0115      0.002     -5.006      0.000      -0.016      -0.007\n",
       "==============================================================================\n",
       "Omnibus:                     1212.294   Durbin-Watson:                   1.836\n",
       "Prob(Omnibus):                  0.000   Jarque-Bera (JB):              697.989\n",
       "Skew:                           0.813   Prob(JB):                    2.71e-152\n",
       "Kurtosis:                       2.055   Cond. No.                         136.\n",
       "==============================================================================\n",
       "\n",
       "Notes:\n",
       "[1] Standard Errors assume that the covariance matrix of the errors is correctly specified.\n",
       "\"\"\""
      ]
     },
     "execution_count": 55,
     "metadata": {},
     "output_type": "execute_result"
    }
   ],
   "source": [
    "result.summary()"
   ]
  },
  {
   "cell_type": "markdown",
   "id": "2fbb99cb",
   "metadata": {},
   "source": [
    "__Comment the results and explain the selection problem__"
   ]
  },
  {
   "cell_type": "markdown",
   "id": "ced8d847",
   "metadata": {},
   "source": [
    "All coefficients are significant at the 1% level. \n",
    "Prediction power is higher : R^2 about 8%."
   ]
  },
  {
   "cell_type": "markdown",
   "id": "7ef245e7",
   "metadata": {},
   "source": [
    "__Explain why distance to college might be used to instrument the effect of schooling.__"
   ]
  },
  {
   "cell_type": "markdown",
   "id": "b032b1a3",
   "metadata": {},
   "source": [
    "We need an instrument that:\n",
    "\n",
    "- is correlated with schooling: \n",
    "    - distance to college affects chances to go to university hence schooling\n",
    "- independent from other factors (gender, ethnicity, ...)\n",
    "    \n",
    "The effect of \"distance to college\" on income, is only through its effect on education."
   ]
  },
  {
   "cell_type": "markdown",
   "id": "1f08a5b4",
   "metadata": {},
   "source": [
    "__Run an IV regression, where `distance` is used to instrument schooling.__"
   ]
  },
  {
   "cell_type": "markdown",
   "id": "7ee16e5c",
   "metadata": {},
   "source": [
    "look at: \n",
    "    https://bashtage.github.io/linearmodels/\n",
    "   (two-stage least squares)"
   ]
  },
  {
   "cell_type": "code",
   "execution_count": null,
   "id": "5a025286",
   "metadata": {},
   "outputs": [],
   "source": [
    "# remember that linearmodels does not include constants by default\n",
    "# we take the same formula and add the constant"
   ]
  },
  {
   "cell_type": "code",
   "execution_count": 62,
   "id": "49e6c26a",
   "metadata": {},
   "outputs": [
    {
     "data": {
      "text/html": [
       "<table class=\"simpletable\">\n",
       "<caption>IV-2SLS Estimation Summary</caption>\n",
       "<tr>\n",
       "  <th>Dep. Variable:</th>      <td>income_binary</td>  <th>  R-squared:         </th> <td>-0.2734</td>\n",
       "</tr>\n",
       "<tr>\n",
       "  <th>Estimator:</th>             <td>IV-2SLS</td>     <th>  Adj. R-squared:    </th> <td>-0.2750</td>\n",
       "</tr>\n",
       "<tr>\n",
       "  <th>No. Observations:</th>       <td>4739</td>       <th>  F-statistic:       </th> <td>213.68</td> \n",
       "</tr>\n",
       "<tr>\n",
       "  <th>Date:</th>             <td>Tue, Mar 15 2022</td> <th>  P-value (F-stat)   </th> <td>0.0000</td> \n",
       "</tr>\n",
       "<tr>\n",
       "  <th>Time:</th>                 <td>10:12:51</td>     <th>  Distribution:      </th> <td>chi2(6)</td>\n",
       "</tr>\n",
       "<tr>\n",
       "  <th>Cov. Estimator:</th>        <td>robust</td>      <th>                     </th>    <td></td>    \n",
       "</tr>\n",
       "<tr>\n",
       "  <th></th>                          <td></td>         <th>                     </th>    <td></td>    \n",
       "</tr>\n",
       "</table>\n",
       "<table class=\"simpletable\">\n",
       "<caption>Parameter Estimates</caption>\n",
       "<tr>\n",
       "                             <td></td>                            <th>Parameter</th> <th>Std. Err.</th> <th>T-stat</th>  <th>P-value</th> <th>Lower CI</th> <th>Upper CI</th>\n",
       "</tr>\n",
       "<tr>\n",
       "  <th>Intercept</th>                                               <td>-2.3763</td>   <td>0.5316</td>   <td>-4.4699</td> <td>0.0000</td>   <td>-3.4182</td>  <td>-1.3343</td>\n",
       "</tr>\n",
       "<tr>\n",
       "  <th>C(gender, Treatment(reference='male'))[T.female]</th>        <td>-0.0456</td>   <td>0.0150</td>   <td>-3.0301</td> <td>0.0024</td>   <td>-0.0750</td>  <td>-0.0161</td>\n",
       "</tr>\n",
       "<tr>\n",
       "  <th>C(ethnicity, Treatment(reference='other'))[T.afam]</th>      <td>-0.0456</td>   <td>0.0283</td>   <td>-1.6123</td> <td>0.1069</td>   <td>-0.1011</td>  <td>0.0098</td> \n",
       "</tr>\n",
       "<tr>\n",
       "  <th>C(ethnicity, Treatment(reference='other'))[T.hispanic]</th>  <td>-0.1075</td>   <td>0.0223</td>   <td>-4.8322</td> <td>0.0000</td>   <td>-0.1511</td>  <td>-0.0639</td>\n",
       "</tr>\n",
       "<tr>\n",
       "  <th>urban[T.yes]</th>                                            <td>-0.0527</td>   <td>0.0182</td>   <td>-2.8947</td> <td>0.0038</td>   <td>-0.0884</td>  <td>-0.0170</td>\n",
       "</tr>\n",
       "<tr>\n",
       "  <th>unemp</th>                                                   <td>-0.0101</td>   <td>0.0027</td>   <td>-3.7771</td> <td>0.0002</td>   <td>-0.0153</td>  <td>-0.0048</td>\n",
       "</tr>\n",
       "<tr>\n",
       "  <th>education</th>                                               <td>0.2032</td>    <td>0.0378</td>   <td>5.3800</td>  <td>0.0000</td>   <td>0.1292</td>   <td>0.2773</td> \n",
       "</tr>\n",
       "</table><br/><br/>Endogenous: education<br/>Instruments: distance<br/>Robust Covariance (Heteroskedastic)<br/>Debiased: False<br/>id: 0x7f3f2323f0d0"
      ],
      "text/plain": [
       "                          IV-2SLS Estimation Summary                          \n",
       "==============================================================================\n",
       "Dep. Variable:          income_binary   R-squared:                     -0.2734\n",
       "Estimator:                    IV-2SLS   Adj. R-squared:                -0.2750\n",
       "No. Observations:                4739   F-statistic:                    213.68\n",
       "Date:                Tue, Mar 15 2022   P-value (F-stat)                0.0000\n",
       "Time:                        10:12:51   Distribution:                  chi2(6)\n",
       "Cov. Estimator:                robust                                         \n",
       "                                                                              \n",
       "                                                   Parameter Estimates                                                    \n",
       "==========================================================================================================================\n",
       "                                                        Parameter  Std. Err.     T-stat    P-value    Lower CI    Upper CI\n",
       "--------------------------------------------------------------------------------------------------------------------------\n",
       "Intercept                                                 -2.3763     0.5316    -4.4699     0.0000     -3.4182     -1.3343\n",
       "C(gender, Treatment(reference='male'))[T.female]          -0.0456     0.0150    -3.0301     0.0024     -0.0750     -0.0161\n",
       "C(ethnicity, Treatment(reference='other'))[T.afam]        -0.0456     0.0283    -1.6123     0.1069     -0.1011      0.0098\n",
       "C(ethnicity, Treatment(reference='other'))[T.hispanic]    -0.1075     0.0223    -4.8322     0.0000     -0.1511     -0.0639\n",
       "urban[T.yes]                                              -0.0527     0.0182    -2.8947     0.0038     -0.0884     -0.0170\n",
       "unemp                                                     -0.0101     0.0027    -3.7771     0.0002     -0.0153     -0.0048\n",
       "education                                                  0.2032     0.0378     5.3800     0.0000      0.1292      0.2773\n",
       "==========================================================================================================================\n",
       "\n",
       "Endogenous: education\n",
       "Instruments: distance\n",
       "Robust Covariance (Heteroskedastic)\n",
       "Debiased: False\n",
       "IVResults, id: 0x7f3f2323f0d0"
      ]
     },
     "execution_count": 62,
     "metadata": {},
     "output_type": "execute_result"
    }
   ],
   "source": [
    "from linearmodels import IV2SLS\n",
    "formula = (\n",
    "\"income_binary ~ 1 + [education~distance] + C(gender,Treatment(reference='male')) + C(ethnicity,Treatment(reference='other')) + urban + unemp\"\n",
    ")\n",
    "mod = IV2SLS.from_formula(formula, df)\n",
    "res = mod.fit()\n",
    "res"
   ]
  },
  {
   "cell_type": "markdown",
   "id": "e10cebf1",
   "metadata": {},
   "source": [
    "__Comment the results. Compare with the R tutorials.__"
   ]
  },
  {
   "cell_type": "markdown",
   "id": "3319e178",
   "metadata": {},
   "source": [
    "R^2 is negative, but we can't compare it with the non-IV regression."
   ]
  },
  {
   "cell_type": "markdown",
   "id": "bdee8852",
   "metadata": {},
   "source": [
    "All coefficients are significant at the 1% level, save for ethnicity (for category \"afam\").\n",
    "With the instrumentation strategy, the effect of education on salary, is 4 times higher than without it."
   ]
  },
  {
   "cell_type": "code",
   "execution_count": null,
   "id": "4d131e8d",
   "metadata": {},
   "outputs": [],
   "source": []
  }
 ],
 "metadata": {
  "kernelspec": {
   "display_name": "Python 3",
   "language": "python",
   "name": "python3"
  },
  "language_info": {
   "codemirror_mode": {
    "name": "ipython",
    "version": 3
   },
   "file_extension": ".py",
   "mimetype": "text/x-python",
   "name": "python",
   "nbconvert_exporter": "python",
   "pygments_lexer": "ipython3",
   "version": "3.12.1"
  }
 },
 "nbformat": 4,
 "nbformat_minor": 5
}
