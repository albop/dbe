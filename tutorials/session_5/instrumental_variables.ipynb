{
 "cells": [
  {
   "cell_type": "markdown",
   "id": "d578e49d",
   "metadata": {},
   "source": [
    "# Instrumental variables"
   ]
  },
  {
   "cell_type": "markdown",
   "id": "160126b4",
   "metadata": {},
   "source": [
    "## IV example on mock dataset"
   ]
  },
  {
   "cell_type": "markdown",
   "id": "5e4e1bb7",
   "metadata": {},
   "source": [
    "### Constructing the dataset\n",
    "\n",
    "Create four random series of length $N=1000$\n",
    "\n",
    "- $x$: education\n",
    "- $y$: salary\n",
    "- $z$: ambition\n",
    "- $q$: early smoking \n",
    "\n",
    "such that:\n",
    "\n",
    "1. $x$ and $z$ cause $y$\n",
    "2. $z$ causes $x$\n",
    "3. $q$ is correlated with $x$, not with $z$\n",
    "\n",
    "\n",
    "A problem arises when the confounding factor $z$ is not observed. In that case, we can estimate the direct effect of $x$ on $y$ by using $q$ as an instrument.\n",
    "\n",
    "Run the follwing code to create a mock dataset."
   ]
  },
  {
   "cell_type": "code",
   "execution_count": 2,
   "id": "c68b9b9d",
   "metadata": {},
   "outputs": [],
   "source": [
    "import numpy as np\n",
    "import pandas as pd"
   ]
  },
  {
   "cell_type": "code",
   "execution_count": 3,
   "id": "77df8dbb",
   "metadata": {},
   "outputs": [],
   "source": [
    "N = 100000\n",
    "ϵ_z = np.random.randn(N)*0.1\n",
    "ϵ_x = np.random.randn(N)*0.1\n",
    "ϵ_q = np.random.randn(N)*0.01\n",
    "ϵ_y = np.random.randn(N)*0.01"
   ]
  },
  {
   "cell_type": "code",
   "execution_count": 4,
   "id": "d069ef85",
   "metadata": {},
   "outputs": [],
   "source": [
    "z = 0.1 + ϵ_z\n",
    "q = 0.5 + 0.1234*ϵ_x + ϵ_q\n",
    "# here we must change the definition so that q affects x:\n",
    "# x = 0.1 + z + ϵ_x\n",
    "x = 0.1 + z + q + ϵ_x\n",
    "y  = 1.0 + 0.9*x + 0.4*z + ϵ_y"
   ]
  },
  {
   "cell_type": "code",
   "execution_count": 5,
   "id": "6907c0e7",
   "metadata": {},
   "outputs": [],
   "source": [
    "df = pd.DataFrame({\n",
    "    \"x\": x,\n",
    "    \"y\": y,\n",
    "    \"z\": z,\n",
    "    \"q\": q\n",
    "})"
   ]
  },
  {
   "cell_type": "markdown",
   "id": "1dd653da",
   "metadata": {},
   "source": [
    "__Describe the dataframe. Compute the correlations between the variables. Are they compatible with the hypotheses for IV?__"
   ]
  },
  {
   "cell_type": "code",
   "execution_count": 6,
   "id": "5ef812b7",
   "metadata": {},
   "outputs": [
    {
     "data": {
      "text/html": [
       "<div>\n",
       "<style scoped>\n",
       "    .dataframe tbody tr th:only-of-type {\n",
       "        vertical-align: middle;\n",
       "    }\n",
       "\n",
       "    .dataframe tbody tr th {\n",
       "        vertical-align: top;\n",
       "    }\n",
       "\n",
       "    .dataframe thead th {\n",
       "        text-align: right;\n",
       "    }\n",
       "</style>\n",
       "<table border=\"1\" class=\"dataframe\">\n",
       "  <thead>\n",
       "    <tr style=\"text-align: right;\">\n",
       "      <th></th>\n",
       "      <th>x</th>\n",
       "      <th>y</th>\n",
       "      <th>z</th>\n",
       "      <th>q</th>\n",
       "    </tr>\n",
       "  </thead>\n",
       "  <tbody>\n",
       "    <tr>\n",
       "      <th>0</th>\n",
       "      <td>0.458958</td>\n",
       "      <td>1.428012</td>\n",
       "      <td>-0.006158</td>\n",
       "      <td>0.489963</td>\n",
       "    </tr>\n",
       "    <tr>\n",
       "      <th>1</th>\n",
       "      <td>0.536544</td>\n",
       "      <td>1.535235</td>\n",
       "      <td>0.119739</td>\n",
       "      <td>0.484211</td>\n",
       "    </tr>\n",
       "    <tr>\n",
       "      <th>2</th>\n",
       "      <td>0.550795</td>\n",
       "      <td>1.561178</td>\n",
       "      <td>0.149119</td>\n",
       "      <td>0.470899</td>\n",
       "    </tr>\n",
       "    <tr>\n",
       "      <th>3</th>\n",
       "      <td>0.774870</td>\n",
       "      <td>1.773310</td>\n",
       "      <td>0.184079</td>\n",
       "      <td>0.501838</td>\n",
       "    </tr>\n",
       "    <tr>\n",
       "      <th>4</th>\n",
       "      <td>0.761371</td>\n",
       "      <td>1.769818</td>\n",
       "      <td>0.197662</td>\n",
       "      <td>0.501622</td>\n",
       "    </tr>\n",
       "  </tbody>\n",
       "</table>\n",
       "</div>"
      ],
      "text/plain": [
       "          x         y         z         q\n",
       "0  0.458958  1.428012 -0.006158  0.489963\n",
       "1  0.536544  1.535235  0.119739  0.484211\n",
       "2  0.550795  1.561178  0.149119  0.470899\n",
       "3  0.774870  1.773310  0.184079  0.501838\n",
       "4  0.761371  1.769818  0.197662  0.501622"
      ]
     },
     "execution_count": 6,
     "metadata": {},
     "output_type": "execute_result"
    }
   ],
   "source": [
    "df.head()"
   ]
  },
  {
   "cell_type": "code",
   "execution_count": 7,
   "id": "23dfaf78-3749-4fc9-a603-de45970f9a12",
   "metadata": {},
   "outputs": [
    {
     "data": {
      "text/html": [
       "<div>\n",
       "<style scoped>\n",
       "    .dataframe tbody tr th:only-of-type {\n",
       "        vertical-align: middle;\n",
       "    }\n",
       "\n",
       "    .dataframe tbody tr th {\n",
       "        vertical-align: top;\n",
       "    }\n",
       "\n",
       "    .dataframe thead th {\n",
       "        text-align: right;\n",
       "    }\n",
       "</style>\n",
       "<table border=\"1\" class=\"dataframe\">\n",
       "  <thead>\n",
       "    <tr style=\"text-align: right;\">\n",
       "      <th></th>\n",
       "      <th>x</th>\n",
       "      <th>y</th>\n",
       "      <th>z</th>\n",
       "      <th>q</th>\n",
       "    </tr>\n",
       "  </thead>\n",
       "  <tbody>\n",
       "    <tr>\n",
       "      <th>count</th>\n",
       "      <td>100000.000000</td>\n",
       "      <td>100000.000000</td>\n",
       "      <td>100000.000000</td>\n",
       "      <td>100000.000000</td>\n",
       "    </tr>\n",
       "    <tr>\n",
       "      <th>mean</th>\n",
       "      <td>0.699704</td>\n",
       "      <td>1.669716</td>\n",
       "      <td>0.099930</td>\n",
       "      <td>0.499973</td>\n",
       "    </tr>\n",
       "    <tr>\n",
       "      <th>std</th>\n",
       "      <td>0.150261</td>\n",
       "      <td>0.164733</td>\n",
       "      <td>0.099805</td>\n",
       "      <td>0.015818</td>\n",
       "    </tr>\n",
       "    <tr>\n",
       "      <th>min</th>\n",
       "      <td>-0.037950</td>\n",
       "      <td>0.874772</td>\n",
       "      <td>-0.301234</td>\n",
       "      <td>0.429432</td>\n",
       "    </tr>\n",
       "    <tr>\n",
       "      <th>25%</th>\n",
       "      <td>0.598491</td>\n",
       "      <td>1.558824</td>\n",
       "      <td>0.032560</td>\n",
       "      <td>0.489285</td>\n",
       "    </tr>\n",
       "    <tr>\n",
       "      <th>50%</th>\n",
       "      <td>0.699121</td>\n",
       "      <td>1.669068</td>\n",
       "      <td>0.099462</td>\n",
       "      <td>0.499978</td>\n",
       "    </tr>\n",
       "    <tr>\n",
       "      <th>75%</th>\n",
       "      <td>0.800179</td>\n",
       "      <td>1.780555</td>\n",
       "      <td>0.167347</td>\n",
       "      <td>0.510695</td>\n",
       "    </tr>\n",
       "    <tr>\n",
       "      <th>max</th>\n",
       "      <td>1.329398</td>\n",
       "      <td>2.349659</td>\n",
       "      <td>0.522942</td>\n",
       "      <td>0.567387</td>\n",
       "    </tr>\n",
       "  </tbody>\n",
       "</table>\n",
       "</div>"
      ],
      "text/plain": [
       "                   x              y              z              q\n",
       "count  100000.000000  100000.000000  100000.000000  100000.000000\n",
       "mean        0.699704       1.669716       0.099930       0.499973\n",
       "std         0.150261       0.164733       0.099805       0.015818\n",
       "min        -0.037950       0.874772      -0.301234       0.429432\n",
       "25%         0.598491       1.558824       0.032560       0.489285\n",
       "50%         0.699121       1.669068       0.099462       0.499978\n",
       "75%         0.800179       1.780555       0.167347       0.510695\n",
       "max         1.329398       2.349659       0.522942       0.567387"
      ]
     },
     "execution_count": 7,
     "metadata": {},
     "output_type": "execute_result"
    }
   ],
   "source": [
    "df.describe()"
   ]
  },
  {
   "cell_type": "code",
   "execution_count": 8,
   "id": "04ca06a0-5ce8-4ad2-a57d-a5e5fa8cdc26",
   "metadata": {},
   "outputs": [
    {
     "data": {
      "text/html": [
       "<div>\n",
       "<style scoped>\n",
       "    .dataframe tbody tr th:only-of-type {\n",
       "        vertical-align: middle;\n",
       "    }\n",
       "\n",
       "    .dataframe tbody tr th {\n",
       "        vertical-align: top;\n",
       "    }\n",
       "\n",
       "    .dataframe thead th {\n",
       "        text-align: right;\n",
       "    }\n",
       "</style>\n",
       "<table border=\"1\" class=\"dataframe\">\n",
       "  <thead>\n",
       "    <tr style=\"text-align: right;\">\n",
       "      <th></th>\n",
       "      <th>x</th>\n",
       "      <th>y</th>\n",
       "      <th>z</th>\n",
       "      <th>q</th>\n",
       "    </tr>\n",
       "  </thead>\n",
       "  <tbody>\n",
       "    <tr>\n",
       "      <th>x</th>\n",
       "      <td>1.000000</td>\n",
       "      <td>0.981526</td>\n",
       "      <td>0.662762</td>\n",
       "      <td>0.618551</td>\n",
       "    </tr>\n",
       "    <tr>\n",
       "      <th>y</th>\n",
       "      <td>0.981526</td>\n",
       "      <td>1.000000</td>\n",
       "      <td>0.786408</td>\n",
       "      <td>0.507140</td>\n",
       "    </tr>\n",
       "    <tr>\n",
       "      <th>z</th>\n",
       "      <td>0.662762</td>\n",
       "      <td>0.786408</td>\n",
       "      <td>1.000000</td>\n",
       "      <td>-0.002547</td>\n",
       "    </tr>\n",
       "    <tr>\n",
       "      <th>q</th>\n",
       "      <td>0.618551</td>\n",
       "      <td>0.507140</td>\n",
       "      <td>-0.002547</td>\n",
       "      <td>1.000000</td>\n",
       "    </tr>\n",
       "  </tbody>\n",
       "</table>\n",
       "</div>"
      ],
      "text/plain": [
       "          x         y         z         q\n",
       "x  1.000000  0.981526  0.662762  0.618551\n",
       "y  0.981526  1.000000  0.786408  0.507140\n",
       "z  0.662762  0.786408  1.000000 -0.002547\n",
       "q  0.618551  0.507140 -0.002547  1.000000"
      ]
     },
     "execution_count": 8,
     "metadata": {},
     "output_type": "execute_result"
    }
   ],
   "source": [
    "df.corr()"
   ]
  },
  {
   "cell_type": "markdown",
   "id": "b47692a7",
   "metadata": {},
   "source": [
    "### OLS Regression\n",
    "\n",
    "Use `linearmodels` to  run a regression estimating the effect of $x$ on $y$ (note the slight API change w.r.t. `statsmodels`). Comment."
   ]
  },
  {
   "cell_type": "code",
   "execution_count": 9,
   "id": "b1d35704",
   "metadata": {},
   "outputs": [],
   "source": [
    "from linearmodels import OLS, IV2SLS"
   ]
  },
  {
   "cell_type": "code",
   "execution_count": 10,
   "id": "7e081a25",
   "metadata": {},
   "outputs": [
    {
     "data": {
      "text/html": [
       "<table class=\"simpletable\">\n",
       "<caption>OLS Estimation Summary</caption>\n",
       "<tr>\n",
       "  <th>Dep. Variable:</th>            <td>y</td>        <th>  R-squared:         </th>  <td>0.9634</td>  \n",
       "</tr>\n",
       "<tr>\n",
       "  <th>Estimator:</th>               <td>OLS</td>       <th>  Adj. R-squared:    </th>  <td>0.9634</td>  \n",
       "</tr>\n",
       "<tr>\n",
       "  <th>No. Observations:</th>      <td>100000</td>      <th>  F-statistic:       </th> <td>2.637e+06</td>\n",
       "</tr>\n",
       "<tr>\n",
       "  <th>Date:</th>             <td>Wed, Feb 21 2024</td> <th>  P-value (F-stat)   </th>  <td>0.0000</td>  \n",
       "</tr>\n",
       "<tr>\n",
       "  <th>Time:</th>                 <td>15:08:54</td>     <th>  Distribution:      </th>  <td>chi2(1)</td> \n",
       "</tr>\n",
       "<tr>\n",
       "  <th>Cov. Estimator:</th>        <td>robust</td>      <th>                     </th>     <td></td>     \n",
       "</tr>\n",
       "<tr>\n",
       "  <th></th>                          <td></td>         <th>                     </th>     <td></td>     \n",
       "</tr>\n",
       "</table>\n",
       "<table class=\"simpletable\">\n",
       "<caption>Parameter Estimates</caption>\n",
       "<tr>\n",
       "      <td></td>      <th>Parameter</th> <th>Std. Err.</th> <th>T-stat</th> <th>P-value</th> <th>Lower CI</th> <th>Upper CI</th>\n",
       "</tr>\n",
       "<tr>\n",
       "  <th>Intercept</th>  <td>0.9168</td>    <td>0.0005</td>   <td>1932.5</td> <td>0.0000</td>   <td>0.9159</td>   <td>0.9177</td> \n",
       "</tr>\n",
       "<tr>\n",
       "  <th>x</th>          <td>1.0761</td>    <td>0.0007</td>   <td>1624.0</td> <td>0.0000</td>   <td>1.0748</td>   <td>1.0774</td> \n",
       "</tr>\n",
       "</table><br/>id: 0x7f79702b7c50"
      ],
      "text/plain": [
       "                            OLS Estimation Summary                            \n",
       "==============================================================================\n",
       "Dep. Variable:                      y   R-squared:                      0.9634\n",
       "Estimator:                        OLS   Adj. R-squared:                 0.9634\n",
       "No. Observations:              100000   F-statistic:                 2.637e+06\n",
       "Date:                Wed, Feb 21 2024   P-value (F-stat)                0.0000\n",
       "Time:                        15:08:54   Distribution:                  chi2(1)\n",
       "Cov. Estimator:                robust                                         \n",
       "                                                                              \n",
       "                             Parameter Estimates                              \n",
       "==============================================================================\n",
       "            Parameter  Std. Err.     T-stat    P-value    Lower CI    Upper CI\n",
       "------------------------------------------------------------------------------\n",
       "Intercept      0.9168     0.0005     1932.5     0.0000      0.9159      0.9177\n",
       "x              1.0761     0.0007     1624.0     0.0000      1.0748      1.0774\n",
       "==============================================================================\n",
       "OLSResults, id: 0x7f79702b7c50"
      ]
     },
     "execution_count": 10,
     "metadata": {},
     "output_type": "execute_result"
    }
   ],
   "source": [
    "model = OLS.from_formula(\"y ~ x\", df)\n",
    "res = model.fit()\n",
    "res      # in statsmodels would be res.summary()"
   ]
  },
  {
   "cell_type": "markdown",
   "id": "794790b0",
   "metadata": {},
   "source": [
    "The regression is globally very significant (p-value < 1.e-5). The predictive power is very high (R^2=0.96).\n",
    "\n",
    "Constants and coefficients are both statistically very significant (p-values<1e-5 for both) and the confidence intervals are very small.\n"
   ]
  },
  {
   "cell_type": "markdown",
   "id": "714ba065",
   "metadata": {},
   "source": [
    "__Assume briefly that `z` is known and control the regression by `z`. What happens?__"
   ]
  },
  {
   "cell_type": "code",
   "execution_count": 11,
   "id": "1519fb03",
   "metadata": {},
   "outputs": [
    {
     "data": {
      "text/html": [
       "<table class=\"simpletable\">\n",
       "<caption>OLS Estimation Summary</caption>\n",
       "<tr>\n",
       "  <th>Dep. Variable:</th>            <td>y</td>        <th>  R-squared:         </th>  <td>0.9963</td>  \n",
       "</tr>\n",
       "<tr>\n",
       "  <th>Estimator:</th>               <td>OLS</td>       <th>  Adj. R-squared:    </th>  <td>0.9963</td>  \n",
       "</tr>\n",
       "<tr>\n",
       "  <th>No. Observations:</th>      <td>100000</td>      <th>  F-statistic:       </th> <td>2.713e+07</td>\n",
       "</tr>\n",
       "<tr>\n",
       "  <th>Date:</th>             <td>Wed, Feb 21 2024</td> <th>  P-value (F-stat)   </th>  <td>0.0000</td>  \n",
       "</tr>\n",
       "<tr>\n",
       "  <th>Time:</th>                 <td>15:08:59</td>     <th>  Distribution:      </th>  <td>chi2(2)</td> \n",
       "</tr>\n",
       "<tr>\n",
       "  <th>Cov. Estimator:</th>        <td>robust</td>      <th>                     </th>     <td></td>     \n",
       "</tr>\n",
       "<tr>\n",
       "  <th></th>                          <td></td>         <th>                     </th>     <td></td>     \n",
       "</tr>\n",
       "</table>\n",
       "<table class=\"simpletable\">\n",
       "<caption>Parameter Estimates</caption>\n",
       "<tr>\n",
       "      <td></td>      <th>Parameter</th> <th>Std. Err.</th> <th>T-stat</th> <th>P-value</th> <th>Lower CI</th> <th>Upper CI</th>\n",
       "</tr>\n",
       "<tr>\n",
       "  <th>Intercept</th>  <td>1.0000</td>    <td>0.0002</td>   <td>5752.0</td> <td>0.0000</td>   <td>0.9997</td>   <td>1.0004</td> \n",
       "</tr>\n",
       "<tr>\n",
       "  <th>x</th>          <td>0.9000</td>    <td>0.0003</td>   <td>3213.3</td> <td>0.0000</td>   <td>0.8994</td>   <td>0.9005</td> \n",
       "</tr>\n",
       "<tr>\n",
       "  <th>z</th>          <td>0.4000</td>    <td>0.0004</td>   <td>944.90</td> <td>0.0000</td>   <td>0.3992</td>   <td>0.4008</td> \n",
       "</tr>\n",
       "</table><br/>id: 0x7f79702eb020"
      ],
      "text/plain": [
       "                            OLS Estimation Summary                            \n",
       "==============================================================================\n",
       "Dep. Variable:                      y   R-squared:                      0.9963\n",
       "Estimator:                        OLS   Adj. R-squared:                 0.9963\n",
       "No. Observations:              100000   F-statistic:                 2.713e+07\n",
       "Date:                Wed, Feb 21 2024   P-value (F-stat)                0.0000\n",
       "Time:                        15:08:59   Distribution:                  chi2(2)\n",
       "Cov. Estimator:                robust                                         \n",
       "                                                                              \n",
       "                             Parameter Estimates                              \n",
       "==============================================================================\n",
       "            Parameter  Std. Err.     T-stat    P-value    Lower CI    Upper CI\n",
       "------------------------------------------------------------------------------\n",
       "Intercept      1.0000     0.0002     5752.0     0.0000      0.9997      1.0004\n",
       "x              0.9000     0.0003     3213.3     0.0000      0.8994      0.9005\n",
       "z              0.4000     0.0004     944.90     0.0000      0.3992      0.4008\n",
       "==============================================================================\n",
       "OLSResults, id: 0x7f79702eb020"
      ]
     },
     "execution_count": 11,
     "metadata": {},
     "output_type": "execute_result"
    }
   ],
   "source": [
    "model = OLS.from_formula(\"y ~ x + z\", df)\n",
    "res = model.fit()\n",
    "res  "
   ]
  },
  {
   "cell_type": "markdown",
   "id": "751b7c06",
   "metadata": {},
   "source": [
    "### Instrumental variable\n",
    "\n",
    "Make a causality graph, summarizing what you know from the equations.\n",
    "\n",
    "Use $q$ to instrument the effect of x on y. Comment."
   ]
  },
  {
   "cell_type": "code",
   "execution_count": 50,
   "id": "adb6c80f",
   "metadata": {},
   "outputs": [
    {
     "data": {
      "text/html": [
       "<table class=\"simpletable\">\n",
       "<caption>IV-2SLS Estimation Summary</caption>\n",
       "<tr>\n",
       "  <th>Dep. Variable:</th>            <td>y</td>        <th>  R-squared:         </th>  <td>0.9389</td>  \n",
       "</tr>\n",
       "<tr>\n",
       "  <th>Estimator:</th>             <td>IV-2SLS</td>     <th>  Adj. R-squared:    </th>  <td>0.9389</td>  \n",
       "</tr>\n",
       "<tr>\n",
       "  <th>No. Observations:</th>      <td>100000</td>      <th>  F-statistic:       </th> <td>4.316e+05</td>\n",
       "</tr>\n",
       "<tr>\n",
       "  <th>Date:</th>             <td>Wed, Feb 14 2024</td> <th>  P-value (F-stat)   </th>  <td>0.0000</td>  \n",
       "</tr>\n",
       "<tr>\n",
       "  <th>Time:</th>                 <td>11:30:43</td>     <th>  Distribution:      </th>  <td>chi2(1)</td> \n",
       "</tr>\n",
       "<tr>\n",
       "  <th>Cov. Estimator:</th>        <td>robust</td>      <th>                     </th>     <td></td>     \n",
       "</tr>\n",
       "<tr>\n",
       "  <th></th>                          <td></td>         <th>                     </th>     <td></td>     \n",
       "</tr>\n",
       "</table>\n",
       "<table class=\"simpletable\">\n",
       "<caption>Parameter Estimates</caption>\n",
       "<tr>\n",
       "      <td></td>      <th>Parameter</th> <th>Std. Err.</th> <th>T-stat</th> <th>P-value</th> <th>Lower CI</th> <th>Upper CI</th>\n",
       "</tr>\n",
       "<tr>\n",
       "  <th>Intercept</th>  <td>1.0383</td>    <td>0.0010</td>   <td>1071.1</td> <td>0.0000</td>   <td>1.0364</td>   <td>1.0402</td> \n",
       "</tr>\n",
       "<tr>\n",
       "  <th>x</th>          <td>0.9022</td>    <td>0.0014</td>   <td>656.96</td> <td>0.0000</td>   <td>0.8995</td>   <td>0.9048</td> \n",
       "</tr>\n",
       "</table><br/><br/>Endogenous: x<br/>Instruments: q<br/>Robust Covariance (Heteroskedastic)<br/>Debiased: False<br/>id: 0x7fcf7dd34d10"
      ],
      "text/plain": [
       "                          IV-2SLS Estimation Summary                          \n",
       "==============================================================================\n",
       "Dep. Variable:                      y   R-squared:                      0.9389\n",
       "Estimator:                    IV-2SLS   Adj. R-squared:                 0.9389\n",
       "No. Observations:              100000   F-statistic:                 4.316e+05\n",
       "Date:                Wed, Feb 14 2024   P-value (F-stat)                0.0000\n",
       "Time:                        11:30:43   Distribution:                  chi2(1)\n",
       "Cov. Estimator:                robust                                         \n",
       "                                                                              \n",
       "                             Parameter Estimates                              \n",
       "==============================================================================\n",
       "            Parameter  Std. Err.     T-stat    P-value    Lower CI    Upper CI\n",
       "------------------------------------------------------------------------------\n",
       "Intercept      1.0383     0.0010     1071.1     0.0000      1.0364      1.0402\n",
       "x              0.9022     0.0014     656.96     0.0000      0.8995      0.9048\n",
       "==============================================================================\n",
       "\n",
       "Endogenous: x\n",
       "Instruments: q\n",
       "Robust Covariance (Heteroskedastic)\n",
       "Debiased: False\n",
       "IVResults, id: 0x7fcf7dd34d10"
      ]
     },
     "execution_count": 50,
     "metadata": {},
     "output_type": "execute_result"
    }
   ],
   "source": [
    "from linearmodels import IV2SLS\n",
    "formula = (\n",
    "    \"y ~ 1 + [x~q]\"   # IV2SLS has no intercept by default\n",
    ")\n",
    "mod = IV2SLS.from_formula(formula, df)\n",
    "res = mod.fit()\n",
    "res"
   ]
  },
  {
   "cell_type": "markdown",
   "id": "d6e2b074",
   "metadata": {},
   "source": [
    "> comment"
   ]
  },
  {
   "cell_type": "markdown",
   "id": "71c81798",
   "metadata": {},
   "source": [
    "## Return on Education"
   ]
  },
  {
   "cell_type": "markdown",
   "id": "a2dbc829",
   "metadata": {},
   "source": [
    "We follow the excellent R [tutorial](https://www.econometrics-with-r.org/12-6-exercises-10.html) from the (excellent) *Econometrics with R* book.\n",
    "\n",
    "The goal is to measure the effect of schooling on earnings, while correcting the endogeneity bias by using distance to college as an instrument."
   ]
  },
  {
   "cell_type": "markdown",
   "id": "f172361f",
   "metadata": {},
   "source": [
    "__Download the college distance dataset with `statsmodels`. Describe the dataset and extract the dataframe.__\n",
    "\n",
    "https://vincentarelbundock.github.io/Rdatasets/datasets.html"
   ]
  },
  {
   "cell_type": "code",
   "execution_count": 72,
   "id": "0f2d34a5",
   "metadata": {},
   "outputs": [],
   "source": [
    "import statsmodels.api as sm\n",
    "ds = sm.datasets.get_rdataset(\"CollegeDistance\", \"AER\")"
   ]
  },
  {
   "cell_type": "code",
   "execution_count": 73,
   "id": "a30cb202-ac42-4880-bc32-f91ca94e2095",
   "metadata": {},
   "outputs": [
    {
     "data": {
      "text/plain": [
       "\u001b[0;31mType:\u001b[0m            Dataset\n",
       "\u001b[0;31mString form:\u001b[0m     <class 'statsmodels.datasets.utils.Dataset'>\n",
       "\u001b[0;31mLength:\u001b[0m          5\n",
       "\u001b[0;31mFile:\u001b[0m            ~/.local/opt/micromamba/envs/escp/lib/python3.12/site-packages/statsmodels/datasets/utils.py\n",
       "\u001b[0;31mDocstring:\u001b[0m      \n",
       ".. container::\n",
       "\n",
       "=============== ===============\n",
       "CollegeDistance R Documentation\n",
       "=============== ===============\n",
       "\n",
       ".. rubric:: College Distance Data\n",
       "   :name: CollegeDistance\n",
       "\n",
       ".. rubric:: Description\n",
       "   :name: description\n",
       "\n",
       "Cross-section data from the High School and Beyond survey conducted\n",
       "by the Department of Education in 1980, with a follow-up in 1986. The\n",
       "survey included students from approximately 1,100 high schools.\n",
       "\n",
       ".. rubric:: Usage\n",
       "   :name: usage\n",
       "\n",
       ".. code:: R\n",
       "\n",
       "   data(\"CollegeDistance\")\n",
       "\n",
       ".. rubric:: Format\n",
       "   :name: format\n",
       "\n",
       "A data frame containing 4,739 observations on 14 variables.\n",
       "\n",
       "gender\n",
       "   factor indicating gender.\n",
       "\n",
       "ethnicity\n",
       "   factor indicating ethnicity (African-American, Hispanic or other).\n",
       "\n",
       "score\n",
       "   base year composite test score. These are achievement tests given\n",
       "   to high school seniors in the sample.\n",
       "\n",
       "fcollege\n",
       "   factor. Is the father a college graduate?\n",
       "\n",
       "mcollege\n",
       "   factor. Is the mother a college graduate?\n",
       "\n",
       "home\n",
       "   factor. Does the family own their home?\n",
       "\n",
       "urban\n",
       "   factor. Is the school in an urban area?\n",
       "\n",
       "unemp\n",
       "   county unemployment rate in 1980.\n",
       "\n",
       "wage\n",
       "   state hourly wage in manufacturing in 1980.\n",
       "\n",
       "distance\n",
       "   distance from 4-year college (in 10 miles).\n",
       "\n",
       "tuition\n",
       "   average state 4-year college tuition (in 1000 USD).\n",
       "\n",
       "education\n",
       "   number of years of education.\n",
       "\n",
       "income\n",
       "   factor. Is the family income above USD 25,000 per year?\n",
       "\n",
       "region\n",
       "   factor indicating region (West or other).\n",
       "\n",
       ".. rubric:: Details\n",
       "   :name: details\n",
       "\n",
       "Rouse (1995) computed years of education by assigning 12 years to all\n",
       "members of the senior class. Each additional year of secondary\n",
       "education counted as a one year. Students with vocational degrees\n",
       "were assigned 13 years, AA degrees were assigned 14 years, BA degrees\n",
       "were assigned 16 years, those with some graduate education were\n",
       "assigned 17 years, and those with a graduate degree were assigned 18\n",
       "years.\n",
       "\n",
       "Stock and Watson (2007) provide separate data files for the students\n",
       "from Western states and the remaining students. ``CollegeDistance``\n",
       "includes both data sets, subsets are easily obtained (see also\n",
       "examples).\n",
       "\n",
       ".. rubric:: Source\n",
       "   :name: source\n",
       "\n",
       "Online complements to Stock and Watson (2007).\n",
       "\n",
       ".. rubric:: References\n",
       "   :name: references\n",
       "\n",
       "Rouse, C.E. (1995). Democratization or Diversion? The Effect of\n",
       "Community Colleges on Educational Attainment. *Journal of Business &\n",
       "Economic Statistics*, **12**, 217–224.\n",
       "\n",
       "Stock, J.H. and Watson, M.W. (2007). *Introduction to Econometrics*,\n",
       "2nd ed. Boston: Addison Wesley.\n",
       "\n",
       ".. rubric:: See Also\n",
       "   :name: see-also\n",
       "\n",
       "``StockWatson2007``\n",
       "\n",
       ".. rubric:: Examples\n",
       "   :name: examples\n",
       "\n",
       ".. code:: R\n",
       "\n",
       "   ## exclude students from Western states\n",
       "   data(\"CollegeDistance\")\n",
       "   cd <- subset(CollegeDistance, region != \"west\")\n",
       "   summary(cd)\n",
       "\u001b[0;31mClass docstring:\u001b[0m\n",
       "dict() -> new empty dictionary\n",
       "dict(mapping) -> new dictionary initialized from a mapping object's\n",
       "    (key, value) pairs\n",
       "dict(iterable) -> new dictionary initialized as if via:\n",
       "    d = {}\n",
       "    for k, v in iterable:\n",
       "        d[k] = v\n",
       "dict(**kwargs) -> new dictionary initialized with the name=value pairs\n",
       "    in the keyword argument list.  For example:  dict(one=1, two=2)"
      ]
     },
     "metadata": {},
     "output_type": "display_data"
    }
   ],
   "source": [
    "ds?"
   ]
  },
  {
   "cell_type": "code",
   "execution_count": 74,
   "id": "81f66644",
   "metadata": {},
   "outputs": [],
   "source": [
    "# describe dataset\n",
    "# print(ds.__doc__)"
   ]
  },
  {
   "cell_type": "code",
   "execution_count": 75,
   "id": "8f22ccba",
   "metadata": {},
   "outputs": [],
   "source": [
    "df = ds.data # dataframe attached to dataset"
   ]
  },
  {
   "cell_type": "code",
   "execution_count": 76,
   "id": "5555df62",
   "metadata": {},
   "outputs": [
    {
     "data": {
      "text/html": [
       "<div>\n",
       "<style scoped>\n",
       "    .dataframe tbody tr th:only-of-type {\n",
       "        vertical-align: middle;\n",
       "    }\n",
       "\n",
       "    .dataframe tbody tr th {\n",
       "        vertical-align: top;\n",
       "    }\n",
       "\n",
       "    .dataframe thead th {\n",
       "        text-align: right;\n",
       "    }\n",
       "</style>\n",
       "<table border=\"1\" class=\"dataframe\">\n",
       "  <thead>\n",
       "    <tr style=\"text-align: right;\">\n",
       "      <th></th>\n",
       "      <th>gender</th>\n",
       "      <th>ethnicity</th>\n",
       "      <th>score</th>\n",
       "      <th>fcollege</th>\n",
       "      <th>mcollege</th>\n",
       "      <th>home</th>\n",
       "      <th>urban</th>\n",
       "      <th>unemp</th>\n",
       "      <th>wage</th>\n",
       "      <th>distance</th>\n",
       "      <th>tuition</th>\n",
       "      <th>education</th>\n",
       "      <th>income</th>\n",
       "      <th>region</th>\n",
       "    </tr>\n",
       "    <tr>\n",
       "      <th>rownames</th>\n",
       "      <th></th>\n",
       "      <th></th>\n",
       "      <th></th>\n",
       "      <th></th>\n",
       "      <th></th>\n",
       "      <th></th>\n",
       "      <th></th>\n",
       "      <th></th>\n",
       "      <th></th>\n",
       "      <th></th>\n",
       "      <th></th>\n",
       "      <th></th>\n",
       "      <th></th>\n",
       "      <th></th>\n",
       "    </tr>\n",
       "  </thead>\n",
       "  <tbody>\n",
       "    <tr>\n",
       "      <th>1</th>\n",
       "      <td>male</td>\n",
       "      <td>other</td>\n",
       "      <td>39.150002</td>\n",
       "      <td>yes</td>\n",
       "      <td>no</td>\n",
       "      <td>yes</td>\n",
       "      <td>yes</td>\n",
       "      <td>6.2</td>\n",
       "      <td>8.09</td>\n",
       "      <td>0.2</td>\n",
       "      <td>0.88915</td>\n",
       "      <td>12</td>\n",
       "      <td>high</td>\n",
       "      <td>other</td>\n",
       "    </tr>\n",
       "    <tr>\n",
       "      <th>2</th>\n",
       "      <td>female</td>\n",
       "      <td>other</td>\n",
       "      <td>48.869999</td>\n",
       "      <td>no</td>\n",
       "      <td>no</td>\n",
       "      <td>yes</td>\n",
       "      <td>yes</td>\n",
       "      <td>6.2</td>\n",
       "      <td>8.09</td>\n",
       "      <td>0.2</td>\n",
       "      <td>0.88915</td>\n",
       "      <td>12</td>\n",
       "      <td>low</td>\n",
       "      <td>other</td>\n",
       "    </tr>\n",
       "    <tr>\n",
       "      <th>3</th>\n",
       "      <td>male</td>\n",
       "      <td>other</td>\n",
       "      <td>48.740002</td>\n",
       "      <td>no</td>\n",
       "      <td>no</td>\n",
       "      <td>yes</td>\n",
       "      <td>yes</td>\n",
       "      <td>6.2</td>\n",
       "      <td>8.09</td>\n",
       "      <td>0.2</td>\n",
       "      <td>0.88915</td>\n",
       "      <td>12</td>\n",
       "      <td>low</td>\n",
       "      <td>other</td>\n",
       "    </tr>\n",
       "    <tr>\n",
       "      <th>4</th>\n",
       "      <td>male</td>\n",
       "      <td>afam</td>\n",
       "      <td>40.400002</td>\n",
       "      <td>no</td>\n",
       "      <td>no</td>\n",
       "      <td>yes</td>\n",
       "      <td>yes</td>\n",
       "      <td>6.2</td>\n",
       "      <td>8.09</td>\n",
       "      <td>0.2</td>\n",
       "      <td>0.88915</td>\n",
       "      <td>12</td>\n",
       "      <td>low</td>\n",
       "      <td>other</td>\n",
       "    </tr>\n",
       "    <tr>\n",
       "      <th>5</th>\n",
       "      <td>female</td>\n",
       "      <td>other</td>\n",
       "      <td>40.480000</td>\n",
       "      <td>no</td>\n",
       "      <td>no</td>\n",
       "      <td>no</td>\n",
       "      <td>yes</td>\n",
       "      <td>5.6</td>\n",
       "      <td>8.09</td>\n",
       "      <td>0.4</td>\n",
       "      <td>0.88915</td>\n",
       "      <td>13</td>\n",
       "      <td>low</td>\n",
       "      <td>other</td>\n",
       "    </tr>\n",
       "  </tbody>\n",
       "</table>\n",
       "</div>"
      ],
      "text/plain": [
       "          gender ethnicity      score fcollege mcollege home urban  unemp  \\\n",
       "rownames                                                                    \n",
       "1           male     other  39.150002      yes       no  yes   yes    6.2   \n",
       "2         female     other  48.869999       no       no  yes   yes    6.2   \n",
       "3           male     other  48.740002       no       no  yes   yes    6.2   \n",
       "4           male      afam  40.400002       no       no  yes   yes    6.2   \n",
       "5         female     other  40.480000       no       no   no   yes    5.6   \n",
       "\n",
       "          wage  distance  tuition  education income region  \n",
       "rownames                                                    \n",
       "1         8.09       0.2  0.88915         12   high  other  \n",
       "2         8.09       0.2  0.88915         12    low  other  \n",
       "3         8.09       0.2  0.88915         12    low  other  \n",
       "4         8.09       0.2  0.88915         12    low  other  \n",
       "5         8.09       0.4  0.88915         13    low  other  "
      ]
     },
     "execution_count": 76,
     "metadata": {},
     "output_type": "execute_result"
    }
   ],
   "source": [
    "# describe dataframe\n",
    "\n",
    "df.head()"
   ]
  },
  {
   "cell_type": "markdown",
   "id": "937a29e4",
   "metadata": {},
   "source": [
    "__How is `income` encoded? Create a binary variable `income_binary` to replace it.__"
   ]
  },
  {
   "cell_type": "code",
   "execution_count": 77,
   "id": "4cbb2a92-6862-42fa-b8a1-c5de45e102cb",
   "metadata": {},
   "outputs": [
    {
     "data": {
      "text/plain": [
       "rownames\n",
       "1       high\n",
       "2        low\n",
       "3        low\n",
       "4        low\n",
       "5        low\n",
       "        ... \n",
       "9391    high\n",
       "9401    high\n",
       "9411    high\n",
       "9421    high\n",
       "9431    high\n",
       "Name: income, Length: 4739, dtype: object"
      ]
     },
     "execution_count": 77,
     "metadata": {},
     "output_type": "execute_result"
    }
   ],
   "source": [
    "df['income'] # takes two values `high` an `low`"
   ]
  },
  {
   "cell_type": "code",
   "execution_count": 78,
   "id": "2da0e016-a12b-4abc-a046-7811cd7758c1",
   "metadata": {},
   "outputs": [
    {
     "data": {
      "text/plain": [
       "array(['high', 'low'], dtype=object)"
      ]
     },
     "execution_count": 78,
     "metadata": {},
     "output_type": "execute_result"
    }
   ],
   "source": [
    "df['income'].unique()"
   ]
  },
  {
   "cell_type": "code",
   "execution_count": 79,
   "id": "4ebfd1da",
   "metadata": {},
   "outputs": [],
   "source": [
    "# define a binary variable `income_binary` : 0 if income is low, 1 otherwise"
   ]
  },
  {
   "cell_type": "code",
   "execution_count": 87,
   "id": "d6fb9bd2-f0f7-419c-9545-f6e4b48c0aab",
   "metadata": {},
   "outputs": [],
   "source": [
    "df['income_binary'] = (df['income'] == 'high')*1.0\n",
    "# multiply by 1.0 to convert booleans into binary"
   ]
  },
  {
   "cell_type": "code",
   "execution_count": 88,
   "id": "16805dc8-d264-45c0-9120-4b646f612c9b",
   "metadata": {},
   "outputs": [
    {
     "data": {
      "text/plain": [
       "rownames\n",
       "1       1.0\n",
       "2       0.0\n",
       "3       0.0\n",
       "4       0.0\n",
       "5       0.0\n",
       "       ... \n",
       "9391    1.0\n",
       "9401    1.0\n",
       "9411    1.0\n",
       "9421    1.0\n",
       "9431    1.0\n",
       "Name: income_binary, Length: 4739, dtype: float64"
      ]
     },
     "execution_count": 88,
     "metadata": {},
     "output_type": "execute_result"
    }
   ],
   "source": [
    "df['income_binary']"
   ]
  },
  {
   "cell_type": "markdown",
   "id": "143e3fbb",
   "metadata": {},
   "source": [
    "__Plot an histogram of distance to college.__"
   ]
  },
  {
   "cell_type": "code",
   "execution_count": 91,
   "id": "29926567",
   "metadata": {},
   "outputs": [
    {
     "data": {
      "text/plain": [
       "count    4739.000000\n",
       "mean        1.802870\n",
       "std         2.297128\n",
       "min         0.000000\n",
       "25%         0.400000\n",
       "50%         1.000000\n",
       "75%         2.500000\n",
       "max        20.000000\n",
       "Name: distance, dtype: float64"
      ]
     },
     "execution_count": 91,
     "metadata": {},
     "output_type": "execute_result"
    }
   ],
   "source": [
    "df['distance'].describe()"
   ]
  },
  {
   "cell_type": "code",
   "execution_count": 93,
   "id": "ff10ac8a-3bfb-4ce6-94b7-4c08b871e2ee",
   "metadata": {},
   "outputs": [
    {
     "data": {
      "text/plain": [
       "<Axes: >"
      ]
     },
     "execution_count": 93,
     "metadata": {},
     "output_type": "execute_result"
    },
    {
     "data": {
      "image/png": "[encoded data removed]",
      "text/plain": [
       "<Figure size 640x480 with 1 Axes>"
      ]
     },
     "metadata": {},
     "output_type": "display_data"
    }
   ],
   "source": [
    "df['distance'].hist()"
   ]
  },
  {
   "cell_type": "code",
   "execution_count": 94,
   "id": "f2983376-261b-4834-91b3-5e66770867b8",
   "metadata": {},
   "outputs": [],
   "source": [
    "# other ways to do a histogram"
   ]
  },
  {
   "cell_type": "code",
   "execution_count": 97,
   "id": "b095b516-2066-4ffd-95cf-fb272d11965d",
   "metadata": {},
   "outputs": [],
   "source": [
    "from matplotlib import pyplot as plt\n",
    "# plt.hist(df['distance']) # same graph"
   ]
  },
  {
   "cell_type": "code",
   "execution_count": 99,
   "id": "aa8dfbd5-a202-42fc-9a88-c95ac2f6d812",
   "metadata": {},
   "outputs": [
    {
     "data": {
      "text/plain": [
       "<Axes: xlabel='distance', ylabel='Count'>"
      ]
     },
     "execution_count": 99,
     "metadata": {},
     "output_type": "execute_result"
    },
    {
     "data": {
      "image/png": "[encoded data removed]",
      "text/plain": [
       "<Figure size 640x480 with 1 Axes>"
      ]
     },
     "metadata": {},
     "output_type": "display_data"
    }
   ],
   "source": [
    "# use seaborn\n",
    "import seaborn as sns\n",
    "sns.histplot(df['distance'])"
   ]
  },
  {
   "cell_type": "markdown",
   "id": "ca8ec743",
   "metadata": {},
   "source": [
    "__Run the naive regression $income_{binary}=\\beta_0 + \\beta_1 \\text{education} + u$.__\n",
    "\n"
   ]
  },
  {
   "cell_type": "code",
   "execution_count": 100,
   "id": "7c51f0b4",
   "metadata": {},
   "outputs": [
    {
     "data": {
      "text/html": [
       "<table class=\"simpletable\">\n",
       "<caption>OLS Estimation Summary</caption>\n",
       "<tr>\n",
       "  <th>Dep. Variable:</th>      <td>income_binary</td>  <th>  R-squared:         </th> <td>0.0480</td> \n",
       "</tr>\n",
       "<tr>\n",
       "  <th>Estimator:</th>               <td>OLS</td>       <th>  Adj. R-squared:    </th> <td>0.0478</td> \n",
       "</tr>\n",
       "<tr>\n",
       "  <th>No. Observations:</th>       <td>4739</td>       <th>  F-statistic:       </th> <td>227.43</td> \n",
       "</tr>\n",
       "<tr>\n",
       "  <th>Date:</th>             <td>Wed, Feb 14 2024</td> <th>  P-value (F-stat)   </th> <td>0.0000</td> \n",
       "</tr>\n",
       "<tr>\n",
       "  <th>Time:</th>                 <td>11:57:29</td>     <th>  Distribution:      </th> <td>chi2(1)</td>\n",
       "</tr>\n",
       "<tr>\n",
       "  <th>Cov. Estimator:</th>        <td>robust</td>      <th>                     </th>    <td></td>    \n",
       "</tr>\n",
       "<tr>\n",
       "  <th></th>                          <td></td>         <th>                     </th>    <td></td>    \n",
       "</tr>\n",
       "</table>\n",
       "<table class=\"simpletable\">\n",
       "<caption>Parameter Estimates</caption>\n",
       "<tr>\n",
       "      <td></td>      <th>Parameter</th> <th>Std. Err.</th> <th>T-stat</th>  <th>P-value</th> <th>Lower CI</th> <th>Upper CI</th>\n",
       "</tr>\n",
       "<tr>\n",
       "  <th>Intercept</th>  <td>-0.4780</td>   <td>0.0499</td>   <td>-9.5702</td> <td>0.0000</td>   <td>-0.5759</td>  <td>-0.3801</td>\n",
       "</tr>\n",
       "<tr>\n",
       "  <th>education</th>  <td>0.0555</td>    <td>0.0037</td>   <td>15.081</td>  <td>0.0000</td>   <td>0.0483</td>   <td>0.0627</td> \n",
       "</tr>\n",
       "</table><br/>id: 0x7fcf62b1dc40"
      ],
      "text/plain": [
       "                            OLS Estimation Summary                            \n",
       "==============================================================================\n",
       "Dep. Variable:          income_binary   R-squared:                      0.0480\n",
       "Estimator:                        OLS   Adj. R-squared:                 0.0478\n",
       "No. Observations:                4739   F-statistic:                    227.43\n",
       "Date:                Wed, Feb 14 2024   P-value (F-stat)                0.0000\n",
       "Time:                        11:57:29   Distribution:                  chi2(1)\n",
       "Cov. Estimator:                robust                                         \n",
       "                                                                              \n",
       "                             Parameter Estimates                              \n",
       "==============================================================================\n",
       "            Parameter  Std. Err.     T-stat    P-value    Lower CI    Upper CI\n",
       "------------------------------------------------------------------------------\n",
       "Intercept     -0.4780     0.0499    -9.5702     0.0000     -0.5759     -0.3801\n",
       "education      0.0555     0.0037     15.081     0.0000      0.0483      0.0627\n",
       "==============================================================================\n",
       "OLSResults, id: 0x7fcf62b1dc40"
      ]
     },
     "execution_count": 100,
     "metadata": {},
     "output_type": "execute_result"
    }
   ],
   "source": [
    "from linearmodels import IV2SLS\n",
    "formula = (\n",
    "    \"income_binary ~ 1 + education\"   # IV2SLS has no intercept by default\n",
    ")\n",
    "mod = IV2SLS.from_formula(formula, df)\n",
    "res = mod.fit()\n",
    "res"
   ]
  },
  {
   "cell_type": "markdown",
   "id": "bf7a87cd",
   "metadata": {},
   "source": [
    "__Augment the regression with `unemp`, `hispanic`, `af-am`, `female` and `urban`. Notice that categorical variables are encoded automatically. What are the treatment values? Change it using the syntax (`C(var,Treatment='ref')`)__"
   ]
  },
  {
   "cell_type": "code",
   "execution_count": 102,
   "id": "9ff06000-876d-421f-8526-60cd1e8f4ed4",
   "metadata": {},
   "outputs": [
    {
     "data": {
      "text/plain": [
       "Index(['gender', 'ethnicity', 'score', 'fcollege', 'mcollege', 'home', 'urban',\n",
       "       'unemp', 'wage', 'distance', 'tuition', 'education', 'income', 'region',\n",
       "       'income_binary'],\n",
       "      dtype='object')"
      ]
     },
     "execution_count": 102,
     "metadata": {},
     "output_type": "execute_result"
    }
   ],
   "source": [
    "df.columns"
   ]
  },
  {
   "cell_type": "code",
   "execution_count": 104,
   "id": "8621b397",
   "metadata": {},
   "outputs": [
    {
     "data": {
      "text/html": [
       "<table class=\"simpletable\">\n",
       "<caption>OLS Estimation Summary</caption>\n",
       "<tr>\n",
       "  <th>Dep. Variable:</th>      <td>income_binary</td>  <th>  R-squared:         </th> <td>0.0830</td> \n",
       "</tr>\n",
       "<tr>\n",
       "  <th>Estimator:</th>               <td>OLS</td>       <th>  Adj. R-squared:    </th> <td>0.0818</td> \n",
       "</tr>\n",
       "<tr>\n",
       "  <th>No. Observations:</th>       <td>4739</td>       <th>  F-statistic:       </th> <td>456.93</td> \n",
       "</tr>\n",
       "<tr>\n",
       "  <th>Date:</th>             <td>Wed, Feb 14 2024</td> <th>  P-value (F-stat)   </th> <td>0.0000</td> \n",
       "</tr>\n",
       "<tr>\n",
       "  <th>Time:</th>                 <td>12:02:32</td>     <th>  Distribution:      </th> <td>chi2(6)</td>\n",
       "</tr>\n",
       "<tr>\n",
       "  <th>Cov. Estimator:</th>        <td>robust</td>      <th>                     </th>    <td></td>    \n",
       "</tr>\n",
       "<tr>\n",
       "  <th></th>                          <td></td>         <th>                     </th>    <td></td>    \n",
       "</tr>\n",
       "</table>\n",
       "<table class=\"simpletable\">\n",
       "<caption>Parameter Estimates</caption>\n",
       "<tr>\n",
       "            <td></td>            <th>Parameter</th> <th>Std. Err.</th> <th>T-stat</th>  <th>P-value</th> <th>Lower CI</th> <th>Upper CI</th>\n",
       "</tr>\n",
       "<tr>\n",
       "  <th>Intercept</th>              <td>-0.4159</td>   <td>0.0538</td>   <td>-7.7362</td> <td>0.0000</td>   <td>-0.5212</td>  <td>-0.3105</td>\n",
       "</tr>\n",
       "<tr>\n",
       "  <th>education</th>              <td>0.0511</td>    <td>0.0036</td>   <td>14.030</td>  <td>0.0000</td>   <td>0.0440</td>   <td>0.0583</td> \n",
       "</tr>\n",
       "<tr>\n",
       "  <th>gender[T.male]</th>         <td>0.0490</td>    <td>0.0128</td>   <td>3.8341</td>  <td>0.0001</td>   <td>0.0239</td>   <td>0.0740</td> \n",
       "</tr>\n",
       "<tr>\n",
       "  <th>ethnicity[T.hispanic]</th>  <td>-0.0296</td>   <td>0.0185</td>   <td>-1.6006</td> <td>0.1095</td>   <td>-0.0660</td>  <td>0.0067</td> \n",
       "</tr>\n",
       "<tr>\n",
       "  <th>ethnicity[T.other]</th>     <td>0.1235</td>    <td>0.0167</td>   <td>7.3992</td>  <td>0.0000</td>   <td>0.0908</td>   <td>0.1563</td> \n",
       "</tr>\n",
       "<tr>\n",
       "  <th>urban[T.yes]</th>           <td>-0.0470</td>   <td>0.0149</td>   <td>-3.1556</td> <td>0.0016</td>   <td>-0.0763</td>  <td>-0.0178</td>\n",
       "</tr>\n",
       "<tr>\n",
       "  <th>unemp</th>                  <td>-0.0115</td>   <td>0.0023</td>   <td>-5.0997</td> <td>0.0000</td>   <td>-0.0159</td>  <td>-0.0071</td>\n",
       "</tr>\n",
       "</table><br/>id: 0x7fcf62a4b4d0"
      ],
      "text/plain": [
       "                            OLS Estimation Summary                            \n",
       "==============================================================================\n",
       "Dep. Variable:          income_binary   R-squared:                      0.0830\n",
       "Estimator:                        OLS   Adj. R-squared:                 0.0818\n",
       "No. Observations:                4739   F-statistic:                    456.93\n",
       "Date:                Wed, Feb 14 2024   P-value (F-stat)                0.0000\n",
       "Time:                        12:02:32   Distribution:                  chi2(6)\n",
       "Cov. Estimator:                robust                                         \n",
       "                                                                              \n",
       "                                   Parameter Estimates                                   \n",
       "=========================================================================================\n",
       "                       Parameter  Std. Err.     T-stat    P-value    Lower CI    Upper CI\n",
       "-----------------------------------------------------------------------------------------\n",
       "Intercept                -0.4159     0.0538    -7.7362     0.0000     -0.5212     -0.3105\n",
       "education                 0.0511     0.0036     14.030     0.0000      0.0440      0.0583\n",
       "gender[T.male]            0.0490     0.0128     3.8341     0.0001      0.0239      0.0740\n",
       "ethnicity[T.hispanic]    -0.0296     0.0185    -1.6006     0.1095     -0.0660      0.0067\n",
       "ethnicity[T.other]        0.1235     0.0167     7.3992     0.0000      0.0908      0.1563\n",
       "urban[T.yes]             -0.0470     0.0149    -3.1556     0.0016     -0.0763     -0.0178\n",
       "unemp                    -0.0115     0.0023    -5.0997     0.0000     -0.0159     -0.0071\n",
       "=========================================================================================\n",
       "OLSResults, id: 0x7fcf62a4b4d0"
      ]
     },
     "execution_count": 104,
     "metadata": {},
     "output_type": "execute_result"
    }
   ],
   "source": [
    "from linearmodels import IV2SLS\n",
    "formula = (\n",
    "    \"income_binary ~ 1 + education + gender + ethnicity + urban + unemp\"   # IV2SLS has no intercept by default\n",
    ")\n",
    "mod = IV2SLS.from_formula(formula, df)\n",
    "res = mod.fit()\n",
    "res"
   ]
  },
  {
   "cell_type": "code",
   "execution_count": 106,
   "id": "9cc0742d-d18c-4070-8647-e8315650ebb8",
   "metadata": {},
   "outputs": [
    {
     "data": {
      "text/plain": [
       "array(['other', 'afam', 'hispanic'], dtype=object)"
      ]
     },
     "execution_count": 106,
     "metadata": {},
     "output_type": "execute_result"
    }
   ],
   "source": [
    "df['ethnicity'].unique()"
   ]
  },
  {
   "cell_type": "markdown",
   "id": "20de84ca-747f-4102-b70f-b60861c9bfdf",
   "metadata": {},
   "source": [
    "The library has created automatically dummy variable for categories.\n",
    "For the `ethnicity` variable, it has used `afam` as reference value.\n",
    "Let's use `other` as reference value."
   ]
  },
  {
   "cell_type": "code",
   "execution_count": null,
   "id": "ad31390c-af03-45d7-a4d6-bccade54da25",
   "metadata": {},
   "outputs": [],
   "source": [
    "#\n",
    "\n",
    "# C(ethnicity) -> flags ethnicity as categorical variable\n",
    "$ C(ethnicity, Treatment(reference='other'))"
   ]
  },
  {
   "cell_type": "code",
   "execution_count": 107,
   "id": "9d196a88-d86c-4db2-98b1-4c428ed6253a",
   "metadata": {},
   "outputs": [
    {
     "data": {
      "text/html": [
       "<table class=\"simpletable\">\n",
       "<caption>OLS Estimation Summary</caption>\n",
       "<tr>\n",
       "  <th>Dep. Variable:</th>      <td>income_binary</td>  <th>  R-squared:         </th> <td>0.0830</td> \n",
       "</tr>\n",
       "<tr>\n",
       "  <th>Estimator:</th>               <td>OLS</td>       <th>  Adj. R-squared:    </th> <td>0.0818</td> \n",
       "</tr>\n",
       "<tr>\n",
       "  <th>No. Observations:</th>       <td>4739</td>       <th>  F-statistic:       </th> <td>456.93</td> \n",
       "</tr>\n",
       "<tr>\n",
       "  <th>Date:</th>             <td>Wed, Feb 14 2024</td> <th>  P-value (F-stat)   </th> <td>0.0000</td> \n",
       "</tr>\n",
       "<tr>\n",
       "  <th>Time:</th>                 <td>12:10:11</td>     <th>  Distribution:      </th> <td>chi2(6)</td>\n",
       "</tr>\n",
       "<tr>\n",
       "  <th>Cov. Estimator:</th>        <td>robust</td>      <th>                     </th>    <td></td>    \n",
       "</tr>\n",
       "<tr>\n",
       "  <th></th>                          <td></td>         <th>                     </th>    <td></td>    \n",
       "</tr>\n",
       "</table>\n",
       "<table class=\"simpletable\">\n",
       "<caption>Parameter Estimates</caption>\n",
       "<tr>\n",
       "                             <td></td>                            <th>Parameter</th> <th>Std. Err.</th> <th>T-stat</th>  <th>P-value</th> <th>Lower CI</th> <th>Upper CI</th>\n",
       "</tr>\n",
       "<tr>\n",
       "  <th>Intercept</th>                                               <td>-0.2923</td>   <td>0.0541</td>   <td>-5.4047</td> <td>0.0000</td>   <td>-0.3983</td>  <td>-0.1863</td>\n",
       "</tr>\n",
       "<tr>\n",
       "  <th>education</th>                                               <td>0.0511</td>    <td>0.0036</td>   <td>14.030</td>  <td>0.0000</td>   <td>0.0440</td>   <td>0.0583</td> \n",
       "</tr>\n",
       "<tr>\n",
       "  <th>gender[T.male]</th>                                          <td>0.0490</td>    <td>0.0128</td>   <td>3.8341</td>  <td>0.0001</td>   <td>0.0239</td>   <td>0.0740</td> \n",
       "</tr>\n",
       "<tr>\n",
       "  <th>C(ethnicity, Treatment(reference='other'))[T.afam]</th>      <td>-0.1235</td>   <td>0.0167</td>   <td>-7.3992</td> <td>0.0000</td>   <td>-0.1563</td>  <td>-0.0908</td>\n",
       "</tr>\n",
       "<tr>\n",
       "  <th>C(ethnicity, Treatment(reference='other'))[T.hispanic]</th>  <td>-0.1532</td>   <td>0.0151</td>   <td>-10.127</td> <td>0.0000</td>   <td>-0.1828</td>  <td>-0.1235</td>\n",
       "</tr>\n",
       "<tr>\n",
       "  <th>urban[T.yes]</th>                                            <td>-0.0470</td>   <td>0.0149</td>   <td>-3.1556</td> <td>0.0016</td>   <td>-0.0763</td>  <td>-0.0178</td>\n",
       "</tr>\n",
       "<tr>\n",
       "  <th>unemp</th>                                                   <td>-0.0115</td>   <td>0.0023</td>   <td>-5.0997</td> <td>0.0000</td>   <td>-0.0159</td>  <td>-0.0071</td>\n",
       "</tr>\n",
       "</table><br/>id: 0x7fcf62b1c5c0"
      ],
      "text/plain": [
       "                            OLS Estimation Summary                            \n",
       "==============================================================================\n",
       "Dep. Variable:          income_binary   R-squared:                      0.0830\n",
       "Estimator:                        OLS   Adj. R-squared:                 0.0818\n",
       "No. Observations:                4739   F-statistic:                    456.93\n",
       "Date:                Wed, Feb 14 2024   P-value (F-stat)                0.0000\n",
       "Time:                        12:10:11   Distribution:                  chi2(6)\n",
       "Cov. Estimator:                robust                                         \n",
       "                                                                              \n",
       "                                                   Parameter Estimates                                                    \n",
       "==========================================================================================================================\n",
       "                                                        Parameter  Std. Err.     T-stat    P-value    Lower CI    Upper CI\n",
       "--------------------------------------------------------------------------------------------------------------------------\n",
       "Intercept                                                 -0.2923     0.0541    -5.4047     0.0000     -0.3983     -0.1863\n",
       "education                                                  0.0511     0.0036     14.030     0.0000      0.0440      0.0583\n",
       "gender[T.male]                                             0.0490     0.0128     3.8341     0.0001      0.0239      0.0740\n",
       "C(ethnicity, Treatment(reference='other'))[T.afam]        -0.1235     0.0167    -7.3992     0.0000     -0.1563     -0.0908\n",
       "C(ethnicity, Treatment(reference='other'))[T.hispanic]    -0.1532     0.0151    -10.127     0.0000     -0.1828     -0.1235\n",
       "urban[T.yes]                                              -0.0470     0.0149    -3.1556     0.0016     -0.0763     -0.0178\n",
       "unemp                                                     -0.0115     0.0023    -5.0997     0.0000     -0.0159     -0.0071\n",
       "==========================================================================================================================\n",
       "OLSResults, id: 0x7fcf62b1c5c0"
      ]
     },
     "execution_count": 107,
     "metadata": {},
     "output_type": "execute_result"
    }
   ],
   "source": [
    "from linearmodels import IV2SLS\n",
    "formula = (\n",
    "    \"income_binary ~ 1 + education + gender + C(ethnicity, Treatment(reference='other')) + urban + unemp\"   # IV2SLS has no intercept by default\n",
    ")\n",
    "mod = IV2SLS.from_formula(formula, df)\n",
    "res = mod.fit()\n",
    "res"
   ]
  },
  {
   "cell_type": "markdown",
   "id": "f7b2b98f-13be-490e-8b20-114143c8e5e6",
   "metadata": {},
   "source": [
    "The regression is highly significant (R^2>0 with p-value < 1e.-5).\n",
    "The predictive power is low, with only 8% of total variance explained by education.\n",
    "\n",
    "All coefficients are significant at a 2% confidence level.\n",
    "\n",
    "According to the results:\n",
    "\n"
   ]
  },
  {
   "cell_type": "markdown",
   "id": "2fbb99cb",
   "metadata": {},
   "source": [
    "__Comment the results and explain the selection problem__"
   ]
  },
  {
   "cell_type": "markdown",
   "id": "ced8d847",
   "metadata": {},
   "source": []
  },
  {
   "cell_type": "markdown",
   "id": "7ef245e7",
   "metadata": {},
   "source": [
    "__Explain why distance to college might be used to instrument the effect of schooling.__"
   ]
  },
  {
   "cell_type": "markdown",
   "id": "b032b1a3",
   "metadata": {},
   "source": []
  },
  {
   "cell_type": "markdown",
   "id": "1f08a5b4",
   "metadata": {},
   "source": [
    "__Run an IV regression, where `distance` is used to instrument schooling.__"
   ]
  },
  {
   "cell_type": "markdown",
   "id": "7ee16e5c",
   "metadata": {},
   "source": [
    "look at: \n",
    "    https://bashtage.github.io/linearmodels/\n",
    "   (two-stage least squares)"
   ]
  },
  {
   "cell_type": "code",
   "execution_count": 108,
   "id": "c813c2cc",
   "metadata": {},
   "outputs": [
    {
     "data": {
      "text/html": [
       "<table class=\"simpletable\">\n",
       "<caption>IV-2SLS Estimation Summary</caption>\n",
       "<tr>\n",
       "  <th>Dep. Variable:</th>      <td>income_binary</td>  <th>  R-squared:         </th> <td>-0.2734</td>\n",
       "</tr>\n",
       "<tr>\n",
       "  <th>Estimator:</th>             <td>IV-2SLS</td>     <th>  Adj. R-squared:    </th> <td>-0.2750</td>\n",
       "</tr>\n",
       "<tr>\n",
       "  <th>No. Observations:</th>       <td>4739</td>       <th>  F-statistic:       </th> <td>213.68</td> \n",
       "</tr>\n",
       "<tr>\n",
       "  <th>Date:</th>             <td>Wed, Feb 14 2024</td> <th>  P-value (F-stat)   </th> <td>0.0000</td> \n",
       "</tr>\n",
       "<tr>\n",
       "  <th>Time:</th>                 <td>12:16:16</td>     <th>  Distribution:      </th> <td>chi2(6)</td>\n",
       "</tr>\n",
       "<tr>\n",
       "  <th>Cov. Estimator:</th>        <td>robust</td>      <th>                     </th>    <td></td>    \n",
       "</tr>\n",
       "<tr>\n",
       "  <th></th>                          <td></td>         <th>                     </th>    <td></td>    \n",
       "</tr>\n",
       "</table>\n",
       "<table class=\"simpletable\">\n",
       "<caption>Parameter Estimates</caption>\n",
       "<tr>\n",
       "                             <td></td>                            <th>Parameter</th> <th>Std. Err.</th> <th>T-stat</th>  <th>P-value</th> <th>Lower CI</th> <th>Upper CI</th>\n",
       "</tr>\n",
       "<tr>\n",
       "  <th>Intercept</th>                                               <td>-2.4218</td>   <td>0.5313</td>   <td>-4.5582</td> <td>0.0000</td>   <td>-3.4631</td>  <td>-1.3805</td>\n",
       "</tr>\n",
       "<tr>\n",
       "  <th>gender[T.male]</th>                                          <td>0.0456</td>    <td>0.0150</td>   <td>3.0301</td>  <td>0.0024</td>   <td>0.0161</td>   <td>0.0750</td> \n",
       "</tr>\n",
       "<tr>\n",
       "  <th>C(ethnicity, Treatment(reference='other'))[T.afam]</th>      <td>-0.0456</td>   <td>0.0283</td>   <td>-1.6123</td> <td>0.1069</td>   <td>-0.1011</td>  <td>0.0098</td> \n",
       "</tr>\n",
       "<tr>\n",
       "  <th>C(ethnicity, Treatment(reference='other'))[T.hispanic]</th>  <td>-0.1075</td>   <td>0.0223</td>   <td>-4.8322</td> <td>0.0000</td>   <td>-0.1511</td>  <td>-0.0639</td>\n",
       "</tr>\n",
       "<tr>\n",
       "  <th>urban[T.yes]</th>                                            <td>-0.0527</td>   <td>0.0182</td>   <td>-2.8947</td> <td>0.0038</td>   <td>-0.0884</td>  <td>-0.0170</td>\n",
       "</tr>\n",
       "<tr>\n",
       "  <th>unemp</th>                                                   <td>-0.0101</td>   <td>0.0027</td>   <td>-3.7771</td> <td>0.0002</td>   <td>-0.0153</td>  <td>-0.0048</td>\n",
       "</tr>\n",
       "<tr>\n",
       "  <th>education</th>                                               <td>0.2032</td>    <td>0.0378</td>   <td>5.3800</td>  <td>0.0000</td>   <td>0.1292</td>   <td>0.2773</td> \n",
       "</tr>\n",
       "</table><br/><br/>Endogenous: education<br/>Instruments: distance<br/>Robust Covariance (Heteroskedastic)<br/>Debiased: False<br/>id: 0x7fcf624aa3f0"
      ],
      "text/plain": [
       "                          IV-2SLS Estimation Summary                          \n",
       "==============================================================================\n",
       "Dep. Variable:          income_binary   R-squared:                     -0.2734\n",
       "Estimator:                    IV-2SLS   Adj. R-squared:                -0.2750\n",
       "No. Observations:                4739   F-statistic:                    213.68\n",
       "Date:                Wed, Feb 14 2024   P-value (F-stat)                0.0000\n",
       "Time:                        12:16:16   Distribution:                  chi2(6)\n",
       "Cov. Estimator:                robust                                         \n",
       "                                                                              \n",
       "                                                   Parameter Estimates                                                    \n",
       "==========================================================================================================================\n",
       "                                                        Parameter  Std. Err.     T-stat    P-value    Lower CI    Upper CI\n",
       "--------------------------------------------------------------------------------------------------------------------------\n",
       "Intercept                                                 -2.4218     0.5313    -4.5582     0.0000     -3.4631     -1.3805\n",
       "gender[T.male]                                             0.0456     0.0150     3.0301     0.0024      0.0161      0.0750\n",
       "C(ethnicity, Treatment(reference='other'))[T.afam]        -0.0456     0.0283    -1.6123     0.1069     -0.1011      0.0098\n",
       "C(ethnicity, Treatment(reference='other'))[T.hispanic]    -0.1075     0.0223    -4.8322     0.0000     -0.1511     -0.0639\n",
       "urban[T.yes]                                              -0.0527     0.0182    -2.8947     0.0038     -0.0884     -0.0170\n",
       "unemp                                                     -0.0101     0.0027    -3.7771     0.0002     -0.0153     -0.0048\n",
       "education                                                  0.2032     0.0378     5.3800     0.0000      0.1292      0.2773\n",
       "==========================================================================================================================\n",
       "\n",
       "Endogenous: education\n",
       "Instruments: distance\n",
       "Robust Covariance (Heteroskedastic)\n",
       "Debiased: False\n",
       "IVResults, id: 0x7fcf624aa3f0"
      ]
     },
     "execution_count": 108,
     "metadata": {},
     "output_type": "execute_result"
    }
   ],
   "source": [
    "from linearmodels import IV2SLS\n",
    "formula = (\n",
    "    \"income_binary ~ 1 + [education~distance] + gender + C(ethnicity, Treatment(reference='other')) + urban + unemp\"   # IV2SLS has no intercept by default\n",
    ")\n",
    "mod = IV2SLS.from_formula(formula, df)\n",
    "res = mod.fit()\n",
    "res"
   ]
  },
  {
   "cell_type": "markdown",
   "id": "e10cebf1",
   "metadata": {},
   "source": [
    "__Comment the results. Compare with the R tutorials.__"
   ]
  },
  {
   "cell_type": "code",
   "execution_count": null,
   "id": "ec56caf9",
   "metadata": {},
   "outputs": [],
   "source": []
  }
 ],
 "metadata": {
  "kernelspec": {
   "display_name": "escp",
   "language": "python",
   "name": "python3"
  },
  "language_info": {
   "codemirror_mode": {
    "name": "ipython",
    "version": 3
   },
   "file_extension": ".py",
   "mimetype": "text/x-python",
   "name": "python",
   "nbconvert_exporter": "python",
   "pygments_lexer": "ipython3",
   "version": "3.12.8"
  }
 },
 "nbformat": 4,
 "nbformat_minor": 5
}
