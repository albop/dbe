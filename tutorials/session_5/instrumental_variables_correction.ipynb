{
 "cells": [
  {
   "cell_type": "markdown",
   "id": "d578e49d",
   "metadata": {},
   "source": [
    "# Instrumental variables"
   ]
  },
  {
   "cell_type": "markdown",
   "id": "160126b4",
   "metadata": {},
   "source": [
    "## Baby example on mock dataset"
   ]
  },
  {
   "cell_type": "markdown",
   "id": "8682ced7",
   "metadata": {},
   "source": [
    "### Constructing the dataset\n",
    "\n",
    "Create four random series of length $N=1000$\n",
    "\n",
    "- $x$: education\n",
    "- $y$: salary\n",
    "- $z$: ambition\n",
    "- $q$: early smoking \n",
    "\n",
    "such that:\n",
    "\n",
    "1. $x$ and $z$ cause $y$\n",
    "2. $z$ causes $x$\n",
    "3. $q$ is correlated with $x$, not with $z$\n",
    "\n",
    "\n",
    "A problem arises when the confounding factor $z$ is not observed. In that case, we can estimate the direct effect of $x$ on $y$ by using $q$ as an instrument.\n",
    "\n",
    "Run the follwing code to create a mock dataset."
   ]
  },
  {
   "cell_type": "code",
   "execution_count": 6,
   "id": "c68b9b9d",
   "metadata": {},
   "outputs": [],
   "source": [
    "import numpy as np\n",
    "import pandas as pd"
   ]
  },
  {
   "cell_type": "code",
   "execution_count": 7,
   "id": "25865e29",
   "metadata": {},
   "outputs": [],
   "source": [
    "N = 100000\n",
    "ϵ_z = np.random.randn(N)*0.1\n",
    "ϵ_x = np.random.randn(N)*0.1\n",
    "ϵ_q = np.random.randn(N)*0.01\n",
    "ϵ_y = np.random.randn(N)*0.01"
   ]
  },
  {
   "cell_type": "code",
   "execution_count": 8,
   "id": "77df8dbb",
   "metadata": {},
   "outputs": [],
   "source": [
    "z = 0.1 + ϵ_z\n",
    "x = 0.1 + z + ϵ_x\n",
    "q = 0.5 + 0.1234*ϵ_x + ϵ_q\n",
    "y  = 1.0 + 0.9*x + 0.4*z + ϵ_y"
   ]
  },
  {
   "cell_type": "code",
   "execution_count": 9,
   "id": "d069ef85",
   "metadata": {},
   "outputs": [],
   "source": [
    "df = pandas.DataFrame({\n",
    "    \"x\": x,\n",
    "    \"y\": y,\n",
    "    \"z\": z,\n",
    "    \"q\": q\n",
    "})"
   ]
  },
  {
   "cell_type": "markdown",
   "id": "9c2a4394",
   "metadata": {},
   "source": [
    "__Describe the dataframe. Compute the correlations between the variables. Are they compatible with the hypotheses for IV?__"
   ]
  },
  {
   "cell_type": "markdown",
   "id": "895ae8aa-822c-4e76-a926-9c89d2539016",
   "metadata": {},
   "source": [
    "Here are the results from the database:"
   ]
  },
  {
   "cell_type": "code",
   "execution_count": 10,
   "id": "6907c0e7",
   "metadata": {},
   "outputs": [
    {
     "data": {
      "text/html": [
       "<div>\n",
       "<style scoped>\n",
       "    .dataframe tbody tr th:only-of-type {\n",
       "        vertical-align: middle;\n",
       "    }\n",
       "\n",
       "    .dataframe tbody tr th {\n",
       "        vertical-align: top;\n",
       "    }\n",
       "\n",
       "    .dataframe thead th {\n",
       "        text-align: right;\n",
       "    }\n",
       "</style>\n",
       "<table border=\"1\" class=\"dataframe\">\n",
       "  <thead>\n",
       "    <tr style=\"text-align: right;\">\n",
       "      <th></th>\n",
       "      <th>x</th>\n",
       "      <th>y</th>\n",
       "      <th>z</th>\n",
       "      <th>q</th>\n",
       "    </tr>\n",
       "  </thead>\n",
       "  <tbody>\n",
       "    <tr>\n",
       "      <th>count</th>\n",
       "      <td>100000.000000</td>\n",
       "      <td>100000.000000</td>\n",
       "      <td>100000.000000</td>\n",
       "      <td>100000.000000</td>\n",
       "    </tr>\n",
       "    <tr>\n",
       "      <th>mean</th>\n",
       "      <td>0.199828</td>\n",
       "      <td>1.219851</td>\n",
       "      <td>0.100136</td>\n",
       "      <td>0.499938</td>\n",
       "    </tr>\n",
       "    <tr>\n",
       "      <th>std</th>\n",
       "      <td>0.140688</td>\n",
       "      <td>0.157459</td>\n",
       "      <td>0.099429</td>\n",
       "      <td>0.015817</td>\n",
       "    </tr>\n",
       "    <tr>\n",
       "      <th>min</th>\n",
       "      <td>-0.428323</td>\n",
       "      <td>0.564264</td>\n",
       "      <td>-0.337928</td>\n",
       "      <td>0.427705</td>\n",
       "    </tr>\n",
       "    <tr>\n",
       "      <th>25%</th>\n",
       "      <td>0.105090</td>\n",
       "      <td>1.114408</td>\n",
       "      <td>0.033333</td>\n",
       "      <td>0.489319</td>\n",
       "    </tr>\n",
       "    <tr>\n",
       "      <th>50%</th>\n",
       "      <td>0.199758</td>\n",
       "      <td>1.219557</td>\n",
       "      <td>0.100052</td>\n",
       "      <td>0.499948</td>\n",
       "    </tr>\n",
       "    <tr>\n",
       "      <th>75%</th>\n",
       "      <td>0.293940</td>\n",
       "      <td>1.324484</td>\n",
       "      <td>0.166898</td>\n",
       "      <td>0.510562</td>\n",
       "    </tr>\n",
       "    <tr>\n",
       "      <th>max</th>\n",
       "      <td>0.793323</td>\n",
       "      <td>1.914595</td>\n",
       "      <td>0.559487</td>\n",
       "      <td>0.574688</td>\n",
       "    </tr>\n",
       "  </tbody>\n",
       "</table>\n",
       "</div>"
      ],
      "text/plain": [
       "                   x              y              z              q\n",
       "count  100000.000000  100000.000000  100000.000000  100000.000000\n",
       "mean        0.199828       1.219851       0.100136       0.499938\n",
       "std         0.140688       0.157459       0.099429       0.015817\n",
       "min        -0.428323       0.564264      -0.337928       0.427705\n",
       "25%         0.105090       1.114408       0.033333       0.489319\n",
       "50%         0.199758       1.219557       0.100052       0.499948\n",
       "75%         0.293940       1.324484       0.166898       0.510562\n",
       "max         0.793323       1.914595       0.559487       0.574688"
      ]
     },
     "execution_count": 10,
     "metadata": {},
     "output_type": "execute_result"
    }
   ],
   "source": [
    "df.describe()"
   ]
  },
  {
   "cell_type": "code",
   "execution_count": 11,
   "id": "e24e3fdf-701b-453f-baaf-1457d0926030",
   "metadata": {},
   "outputs": [
    {
     "data": {
      "text/html": [
       "<div>\n",
       "<style scoped>\n",
       "    .dataframe tbody tr th:only-of-type {\n",
       "        vertical-align: middle;\n",
       "    }\n",
       "\n",
       "    .dataframe tbody tr th {\n",
       "        vertical-align: top;\n",
       "    }\n",
       "\n",
       "    .dataframe thead th {\n",
       "        text-align: right;\n",
       "    }\n",
       "</style>\n",
       "<table border=\"1\" class=\"dataframe\">\n",
       "  <thead>\n",
       "    <tr style=\"text-align: right;\">\n",
       "      <th></th>\n",
       "      <th>x</th>\n",
       "      <th>y</th>\n",
       "      <th>z</th>\n",
       "      <th>q</th>\n",
       "    </tr>\n",
       "  </thead>\n",
       "  <tbody>\n",
       "    <tr>\n",
       "      <th>x</th>\n",
       "      <td>1.000000</td>\n",
       "      <td>0.981771</td>\n",
       "      <td>0.704518</td>\n",
       "      <td>0.551077</td>\n",
       "    </tr>\n",
       "    <tr>\n",
       "      <th>y</th>\n",
       "      <td>0.981771</td>\n",
       "      <td>1.000000</td>\n",
       "      <td>0.818857</td>\n",
       "      <td>0.443053</td>\n",
       "    </tr>\n",
       "    <tr>\n",
       "      <th>z</th>\n",
       "      <td>0.704518</td>\n",
       "      <td>0.818857</td>\n",
       "      <td>1.000000</td>\n",
       "      <td>0.000038</td>\n",
       "    </tr>\n",
       "    <tr>\n",
       "      <th>q</th>\n",
       "      <td>0.551077</td>\n",
       "      <td>0.443053</td>\n",
       "      <td>0.000038</td>\n",
       "      <td>1.000000</td>\n",
       "    </tr>\n",
       "  </tbody>\n",
       "</table>\n",
       "</div>"
      ],
      "text/plain": [
       "          x         y         z         q\n",
       "x  1.000000  0.981771  0.704518  0.551077\n",
       "y  0.981771  1.000000  0.818857  0.443053\n",
       "z  0.704518  0.818857  1.000000  0.000038\n",
       "q  0.551077  0.443053  0.000038  1.000000"
      ]
     },
     "execution_count": 11,
     "metadata": {},
     "output_type": "execute_result"
    }
   ],
   "source": [
    "df.corr()"
   ]
  },
  {
   "cell_type": "markdown",
   "id": "baec1676-b491-40b8-895b-6da8dc9446c5",
   "metadata": {},
   "source": [
    "We observe:\n",
    "- cor(q, x) non zero: the instrument is relevant\n",
    "    - close to zero: might be a weak instrument (we would need to check significance)\n",
    "- cor(q, z) = 0 : the instrument is really exogenous"
   ]
  },
  {
   "cell_type": "markdown",
   "id": "b47692a7",
   "metadata": {},
   "source": [
    "### OLS Regression\n",
    "\n",
    "Use `linearmodels` to  run a regression estimating the effect of $x$ on $y$ (note the slight API change w.r.t. `statsmodels`). Comment.\n",
    "\n",
    "What is the problem with this regression? How can it be detected?\n",
    "\n"
   ]
  },
  {
   "cell_type": "code",
   "execution_count": 12,
   "id": "f288311c",
   "metadata": {},
   "outputs": [
    {
     "data": {
      "text/html": [
       "<table class=\"simpletable\">\n",
       "<caption>OLS Estimation Summary</caption>\n",
       "<tr>\n",
       "  <th>Dep. Variable:</th>            <td>y</td>        <th>  R-squared:         </th>  <td>0.9639</td>  \n",
       "</tr>\n",
       "<tr>\n",
       "  <th>Estimator:</th>               <td>OLS</td>       <th>  Adj. R-squared:    </th>  <td>0.9639</td>  \n",
       "</tr>\n",
       "<tr>\n",
       "  <th>No. Observations:</th>      <td>100000</td>      <th>  F-statistic:       </th> <td>2.655e+06</td>\n",
       "</tr>\n",
       "<tr>\n",
       "  <th>Date:</th>             <td>Tue, Feb 13 2024</td> <th>  P-value (F-stat)   </th>  <td>0.0000</td>  \n",
       "</tr>\n",
       "<tr>\n",
       "  <th>Time:</th>                 <td>22:54:26</td>     <th>  Distribution:      </th>  <td>chi2(1)</td> \n",
       "</tr>\n",
       "<tr>\n",
       "  <th>Cov. Estimator:</th>        <td>robust</td>      <th>                     </th>     <td></td>     \n",
       "</tr>\n",
       "<tr>\n",
       "  <th></th>                          <td></td>         <th>                     </th>     <td></td>     \n",
       "</tr>\n",
       "</table>\n",
       "<table class=\"simpletable\">\n",
       "<caption>Parameter Estimates</caption>\n",
       "<tr>\n",
       "      <td></td>      <th>Parameter</th> <th>Std. Err.</th> <th>T-stat</th> <th>P-value</th> <th>Lower CI</th> <th>Upper CI</th>\n",
       "</tr>\n",
       "<tr>\n",
       "  <th>Intercept</th>  <td>1.0003</td>    <td>0.0002</td>   <td>6087.5</td> <td>0.0000</td>   <td>1.0000</td>   <td>1.0006</td> \n",
       "</tr>\n",
       "<tr>\n",
       "  <th>x</th>          <td>1.0988</td>    <td>0.0007</td>   <td>1629.3</td> <td>0.0000</td>   <td>1.0975</td>   <td>1.1001</td> \n",
       "</tr>\n",
       "</table>"
      ],
      "text/latex": [
       "\\begin{center}\n",
       "\\begin{tabular}{lclc}\n",
       "\\toprule\n",
       "\\textbf{Dep. Variable:}    &         y          & \\textbf{  R-squared:         } &      0.9639      \\\\\n",
       "\\textbf{Estimator:}        &        OLS         & \\textbf{  Adj. R-squared:    } &      0.9639      \\\\\n",
       "\\textbf{No. Observations:} &       100000       & \\textbf{  F-statistic:       } &    2.655e+06     \\\\\n",
       "\\textbf{Date:}             &  Tue, Feb 13 2024  & \\textbf{  P-value (F-stat)   } &      0.0000      \\\\\n",
       "\\textbf{Time:}             &      22:54:26      & \\textbf{  Distribution:      } &     chi2(1)      \\\\\n",
       "\\textbf{Cov. Estimator:}   &       robust       & \\textbf{                     } &                  \\\\\n",
       "\\textbf{}                  &                    & \\textbf{                     } &                  \\\\\n",
       "\\bottomrule\n",
       "\\end{tabular}\n",
       "\\begin{tabular}{lcccccc}\n",
       "                   & \\textbf{Parameter} & \\textbf{Std. Err.} & \\textbf{T-stat} & \\textbf{P-value} & \\textbf{Lower CI} & \\textbf{Upper CI}  \\\\\n",
       "\\midrule\n",
       "\\textbf{Intercept} &       1.0003       &       0.0002       &      6087.5     &      0.0000      &       1.0000      &       1.0006       \\\\\n",
       "\\textbf{x}         &       1.0988       &       0.0007       &      1629.3     &      0.0000      &       1.0975      &       1.1001       \\\\\n",
       "\\bottomrule\n",
       "\\end{tabular}\n",
       "%\\caption{OLS Estimation Summary}\n",
       "\\end{center}"
      ],
      "text/plain": [
       "<class 'linearmodels.compat.statsmodels.Summary'>\n",
       "\"\"\"\n",
       "                            OLS Estimation Summary                            \n",
       "==============================================================================\n",
       "Dep. Variable:                      y   R-squared:                      0.9639\n",
       "Estimator:                        OLS   Adj. R-squared:                 0.9639\n",
       "No. Observations:              100000   F-statistic:                 2.655e+06\n",
       "Date:                Tue, Feb 13 2024   P-value (F-stat)                0.0000\n",
       "Time:                        22:54:26   Distribution:                  chi2(1)\n",
       "Cov. Estimator:                robust                                         \n",
       "                                                                              \n",
       "                             Parameter Estimates                              \n",
       "==============================================================================\n",
       "            Parameter  Std. Err.     T-stat    P-value    Lower CI    Upper CI\n",
       "------------------------------------------------------------------------------\n",
       "Intercept      1.0003     0.0002     6087.5     0.0000      1.0000      1.0006\n",
       "x              1.0988     0.0007     1629.3     0.0000      1.0975      1.1001\n",
       "==============================================================================\n",
       "\"\"\""
      ]
     },
     "execution_count": 12,
     "metadata": {},
     "output_type": "execute_result"
    }
   ],
   "source": [
    "from linearmodels import OLS\n",
    "\n",
    "model = OLS.from_formula(\"y ~ x\", df)\n",
    "res = model.fit()\n",
    "res.summary"
   ]
  },
  {
   "cell_type": "markdown",
   "id": "93f3a0d8",
   "metadata": {},
   "source": [
    "Regression is globally significant (p-value for Fisher test < 0.00001).\n",
    "The coefficient $\\beta=1.0999$ in front of $x$ is also very significant at a 0.001% level but does not match the model (`y  = 1.0 + 0.9*x + 0.4*z + ϵ_y`)"
   ]
  },
  {
   "cell_type": "markdown",
   "id": "f9b969bd-6891-4748-b737-ae0b3bbfbbc5",
   "metadata": {},
   "source": [
    "### Regress again $y$ on $x$, this time controling for missing variable $z$.\n",
    "\n"
   ]
  },
  {
   "cell_type": "code",
   "execution_count": 15,
   "id": "7212388e-6dd8-4b47-bf29-83d4fce56f4a",
   "metadata": {},
   "outputs": [
    {
     "data": {
      "text/html": [
       "<table class=\"simpletable\">\n",
       "<caption>OLS Estimation Summary</caption>\n",
       "<tr>\n",
       "  <th>Dep. Variable:</th>            <td>y</td>        <th>  R-squared:         </th>  <td>0.9960</td>  \n",
       "</tr>\n",
       "<tr>\n",
       "  <th>Estimator:</th>               <td>OLS</td>       <th>  Adj. R-squared:    </th>  <td>0.9960</td>  \n",
       "</tr>\n",
       "<tr>\n",
       "  <th>No. Observations:</th>      <td>100000</td>      <th>  F-statistic:       </th> <td>2.472e+07</td>\n",
       "</tr>\n",
       "<tr>\n",
       "  <th>Date:</th>             <td>Tue, Feb 13 2024</td> <th>  P-value (F-stat)   </th>  <td>0.0000</td>  \n",
       "</tr>\n",
       "<tr>\n",
       "  <th>Time:</th>                 <td>22:54:54</td>     <th>  Distribution:      </th>  <td>chi2(2)</td> \n",
       "</tr>\n",
       "<tr>\n",
       "  <th>Cov. Estimator:</th>        <td>robust</td>      <th>                     </th>     <td></td>     \n",
       "</tr>\n",
       "<tr>\n",
       "  <th></th>                          <td></td>         <th>                     </th>     <td></td>     \n",
       "</tr>\n",
       "</table>\n",
       "<table class=\"simpletable\">\n",
       "<caption>Parameter Estimates</caption>\n",
       "<tr>\n",
       "      <td></td>      <th>Parameter</th> <th>Std. Err.</th>  <th>T-stat</th>   <th>P-value</th> <th>Lower CI</th> <th>Upper CI</th>\n",
       "</tr>\n",
       "<tr>\n",
       "  <th>Intercept</th>  <td>1.0000</td>   <td>5.477e-05</td> <td>1.826e+04</td> <td>0.0000</td>   <td>0.9999</td>   <td>1.0001</td> \n",
       "</tr>\n",
       "<tr>\n",
       "  <th>x</th>          <td>0.8997</td>    <td>0.0003</td>    <td>2842.6</td>   <td>0.0000</td>   <td>0.8991</td>   <td>0.9003</td> \n",
       "</tr>\n",
       "<tr>\n",
       "  <th>z</th>          <td>0.3999</td>    <td>0.0004</td>    <td>893.62</td>   <td>0.0000</td>   <td>0.3990</td>   <td>0.4008</td> \n",
       "</tr>\n",
       "</table><br/>id: 0x7f38288327b0"
      ],
      "text/plain": [
       "                            OLS Estimation Summary                            \n",
       "==============================================================================\n",
       "Dep. Variable:                      y   R-squared:                      0.9960\n",
       "Estimator:                        OLS   Adj. R-squared:                 0.9960\n",
       "No. Observations:              100000   F-statistic:                 2.472e+07\n",
       "Date:                Tue, Feb 13 2024   P-value (F-stat)                0.0000\n",
       "Time:                        22:54:54   Distribution:                  chi2(2)\n",
       "Cov. Estimator:                robust                                         \n",
       "                                                                              \n",
       "                             Parameter Estimates                              \n",
       "==============================================================================\n",
       "            Parameter  Std. Err.     T-stat    P-value    Lower CI    Upper CI\n",
       "------------------------------------------------------------------------------\n",
       "Intercept      1.0000  5.477e-05  1.826e+04     0.0000      0.9999      1.0001\n",
       "x              0.8997     0.0003     2842.6     0.0000      0.8991      0.9003\n",
       "z              0.3999     0.0004     893.62     0.0000      0.3990      0.4008\n",
       "==============================================================================\n",
       "OLSResults, id: 0x7f38288327b0"
      ]
     },
     "execution_count": 15,
     "metadata": {},
     "output_type": "execute_result"
    }
   ],
   "source": [
    "from linearmodels import IV2SLS\n",
    "formula = (\n",
    "    \"y ~ x + z\"\n",
    ")\n",
    "mod = IV2SLS.from_formula(formula, df)\n",
    "res = mod.fit()\n",
    "res"
   ]
  },
  {
   "cell_type": "markdown",
   "id": "34b117ce-d215-4ab5-8fa0-f92980ba8276",
   "metadata": {},
   "source": [
    "Now we see that the coefficient in front of `x` is the correct one (that is 0.9)."
   ]
  },
  {
   "cell_type": "markdown",
   "id": "751b7c06",
   "metadata": {},
   "source": [
    "### Instrumental variable\n",
    "\n",
    "Now we try to run a regression without knowing the value of `z`.\n",
    "\n",
    "Make a causality graph, summarizing what you know from the equations."
   ]
  },
  {
   "cell_type": "markdown",
   "id": "9e412559",
   "metadata": {},
   "source": [
    "\n",
    "\n",
    "\n",
    "Use $q$ to instrument the effect of x on y. Comment."
   ]
  },
  {
   "cell_type": "code",
   "execution_count": 17,
   "id": "d980ed13-69a9-4be2-b002-d6f0047de37e",
   "metadata": {},
   "outputs": [
    {
     "data": {
      "text/html": [
       "<table class=\"simpletable\">\n",
       "<caption>IV-2SLS Estimation Summary</caption>\n",
       "<tr>\n",
       "  <th>Dep. Variable:</th>            <td>y</td>        <th>  R-squared:         </th>  <td>0.9323</td>  \n",
       "</tr>\n",
       "<tr>\n",
       "  <th>Estimator:</th>             <td>IV-2SLS</td>     <th>  Adj. R-squared:    </th>  <td>0.9323</td>  \n",
       "</tr>\n",
       "<tr>\n",
       "  <th>No. Observations:</th>      <td>100000</td>      <th>  F-statistic:       </th> <td>2.898e+05</td>\n",
       "</tr>\n",
       "<tr>\n",
       "  <th>Date:</th>             <td>Tue, Feb 13 2024</td> <th>  P-value (F-stat)   </th>  <td>0.0000</td>  \n",
       "</tr>\n",
       "<tr>\n",
       "  <th>Time:</th>                 <td>22:55:41</td>     <th>  Distribution:      </th>  <td>chi2(1)</td> \n",
       "</tr>\n",
       "<tr>\n",
       "  <th>Cov. Estimator:</th>        <td>robust</td>      <th>                     </th>     <td></td>     \n",
       "</tr>\n",
       "<tr>\n",
       "  <th></th>                          <td></td>         <th>                     </th>     <td></td>     \n",
       "</tr>\n",
       "</table>\n",
       "<table class=\"simpletable\">\n",
       "<caption>Parameter Estimates</caption>\n",
       "<tr>\n",
       "      <td></td>      <th>Parameter</th> <th>Std. Err.</th> <th>T-stat</th> <th>P-value</th> <th>Lower CI</th> <th>Upper CI</th>\n",
       "</tr>\n",
       "<tr>\n",
       "  <th>Intercept</th>  <td>1.0400</td>    <td>0.0004</td>   <td>2903.5</td> <td>0.0000</td>   <td>1.0393</td>   <td>1.0407</td> \n",
       "</tr>\n",
       "<tr>\n",
       "  <th>x</th>          <td>0.8998</td>    <td>0.0017</td>   <td>538.37</td> <td>0.0000</td>   <td>0.8965</td>   <td>0.9031</td> \n",
       "</tr>\n",
       "</table><br/><br/>Endogenous: x<br/>Instruments: q<br/>Robust Covariance (Heteroskedastic)<br/>Debiased: False<br/>id: 0x7f3828838cb0"
      ],
      "text/plain": [
       "                          IV-2SLS Estimation Summary                          \n",
       "==============================================================================\n",
       "Dep. Variable:                      y   R-squared:                      0.9323\n",
       "Estimator:                    IV-2SLS   Adj. R-squared:                 0.9323\n",
       "No. Observations:              100000   F-statistic:                 2.898e+05\n",
       "Date:                Tue, Feb 13 2024   P-value (F-stat)                0.0000\n",
       "Time:                        22:55:41   Distribution:                  chi2(1)\n",
       "Cov. Estimator:                robust                                         \n",
       "                                                                              \n",
       "                             Parameter Estimates                              \n",
       "==============================================================================\n",
       "            Parameter  Std. Err.     T-stat    P-value    Lower CI    Upper CI\n",
       "------------------------------------------------------------------------------\n",
       "Intercept      1.0400     0.0004     2903.5     0.0000      1.0393      1.0407\n",
       "x              0.8998     0.0017     538.37     0.0000      0.8965      0.9031\n",
       "==============================================================================\n",
       "\n",
       "Endogenous: x\n",
       "Instruments: q\n",
       "Robust Covariance (Heteroskedastic)\n",
       "Debiased: False\n",
       "IVResults, id: 0x7f3828838cb0"
      ]
     },
     "execution_count": 17,
     "metadata": {},
     "output_type": "execute_result"
    }
   ],
   "source": [
    "from linearmodels.iv import IV2SLS\n",
    "\n",
    "formula = \"y ~ 1 + [x ~ q]\"\n",
    "model = IV2SLS.from_formula(formula, df)\n",
    "result = model.fit()\n",
    "result"
   ]
  },
  {
   "cell_type": "markdown",
   "id": "7bcd63d4-93aa-43fb-b484-39d11c18ecfb",
   "metadata": {},
   "source": [
    "We observe that the result is, again, the correct one. This is especially impressive since *we didn't have access to the confounding factor `z`* and couldn't add it to the regression. Instead, we had another source of randomness `q` that we used to instrument the regression."
   ]
  },
  {
   "cell_type": "markdown",
   "id": "71c81798",
   "metadata": {},
   "source": [
    "## Return on Education"
   ]
  },
  {
   "cell_type": "markdown",
   "id": "a2dbc829",
   "metadata": {},
   "source": [
    "We follow the excellent R [tutorial](https://www.econometrics-with-r.org/12-6-exercises-10.html) from the (excellent) *Econometrics with R* book.\n",
    "\n",
    "The goal is to measure the effect of schooling on earnings, while correcting the endogeneity bias by using distance to college as an instrument."
   ]
  },
  {
   "cell_type": "markdown",
   "id": "f172361f",
   "metadata": {},
   "source": [
    "__Download the college distance using `get_dataset` function and make a nice dataframe. Describe the dataset. Plot a histogram of distance (you can use `matplotlib`'s `hist` function or `seaborn`).__\n",
    "\n",
    "https://vincentarelbundock.github.io/Rdatasets/datasets.html"
   ]
  },
  {
   "cell_type": "code",
   "execution_count": 18,
   "id": "0f2d34a5",
   "metadata": {},
   "outputs": [],
   "source": [
    "import statsmodels.api as sm\n",
    "ds = sm.datasets.get_rdataset(\"CollegeDistance\", \"AER\")"
   ]
  },
  {
   "cell_type": "code",
   "execution_count": 21,
   "id": "a42a7b24",
   "metadata": {},
   "outputs": [],
   "source": [
    "df = ds.data"
   ]
  },
  {
   "cell_type": "code",
   "execution_count": 22,
   "id": "c30211ea-4b3a-4257-a33e-744f375df2f8",
   "metadata": {},
   "outputs": [
    {
     "data": {
      "text/html": [
       "<div>\n",
       "<style scoped>\n",
       "    .dataframe tbody tr th:only-of-type {\n",
       "        vertical-align: middle;\n",
       "    }\n",
       "\n",
       "    .dataframe tbody tr th {\n",
       "        vertical-align: top;\n",
       "    }\n",
       "\n",
       "    .dataframe thead th {\n",
       "        text-align: right;\n",
       "    }\n",
       "</style>\n",
       "<table border=\"1\" class=\"dataframe\">\n",
       "  <thead>\n",
       "    <tr style=\"text-align: right;\">\n",
       "      <th></th>\n",
       "      <th>gender</th>\n",
       "      <th>ethnicity</th>\n",
       "      <th>score</th>\n",
       "      <th>fcollege</th>\n",
       "      <th>mcollege</th>\n",
       "      <th>home</th>\n",
       "      <th>urban</th>\n",
       "      <th>unemp</th>\n",
       "      <th>wage</th>\n",
       "      <th>distance</th>\n",
       "      <th>tuition</th>\n",
       "      <th>education</th>\n",
       "      <th>income</th>\n",
       "      <th>region</th>\n",
       "    </tr>\n",
       "    <tr>\n",
       "      <th>rownames</th>\n",
       "      <th></th>\n",
       "      <th></th>\n",
       "      <th></th>\n",
       "      <th></th>\n",
       "      <th></th>\n",
       "      <th></th>\n",
       "      <th></th>\n",
       "      <th></th>\n",
       "      <th></th>\n",
       "      <th></th>\n",
       "      <th></th>\n",
       "      <th></th>\n",
       "      <th></th>\n",
       "      <th></th>\n",
       "    </tr>\n",
       "  </thead>\n",
       "  <tbody>\n",
       "    <tr>\n",
       "      <th>1</th>\n",
       "      <td>male</td>\n",
       "      <td>other</td>\n",
       "      <td>39.150002</td>\n",
       "      <td>yes</td>\n",
       "      <td>no</td>\n",
       "      <td>yes</td>\n",
       "      <td>yes</td>\n",
       "      <td>6.2</td>\n",
       "      <td>8.09</td>\n",
       "      <td>0.2</td>\n",
       "      <td>0.88915</td>\n",
       "      <td>12</td>\n",
       "      <td>high</td>\n",
       "      <td>other</td>\n",
       "    </tr>\n",
       "    <tr>\n",
       "      <th>2</th>\n",
       "      <td>female</td>\n",
       "      <td>other</td>\n",
       "      <td>48.869999</td>\n",
       "      <td>no</td>\n",
       "      <td>no</td>\n",
       "      <td>yes</td>\n",
       "      <td>yes</td>\n",
       "      <td>6.2</td>\n",
       "      <td>8.09</td>\n",
       "      <td>0.2</td>\n",
       "      <td>0.88915</td>\n",
       "      <td>12</td>\n",
       "      <td>low</td>\n",
       "      <td>other</td>\n",
       "    </tr>\n",
       "    <tr>\n",
       "      <th>3</th>\n",
       "      <td>male</td>\n",
       "      <td>other</td>\n",
       "      <td>48.740002</td>\n",
       "      <td>no</td>\n",
       "      <td>no</td>\n",
       "      <td>yes</td>\n",
       "      <td>yes</td>\n",
       "      <td>6.2</td>\n",
       "      <td>8.09</td>\n",
       "      <td>0.2</td>\n",
       "      <td>0.88915</td>\n",
       "      <td>12</td>\n",
       "      <td>low</td>\n",
       "      <td>other</td>\n",
       "    </tr>\n",
       "    <tr>\n",
       "      <th>4</th>\n",
       "      <td>male</td>\n",
       "      <td>afam</td>\n",
       "      <td>40.400002</td>\n",
       "      <td>no</td>\n",
       "      <td>no</td>\n",
       "      <td>yes</td>\n",
       "      <td>yes</td>\n",
       "      <td>6.2</td>\n",
       "      <td>8.09</td>\n",
       "      <td>0.2</td>\n",
       "      <td>0.88915</td>\n",
       "      <td>12</td>\n",
       "      <td>low</td>\n",
       "      <td>other</td>\n",
       "    </tr>\n",
       "    <tr>\n",
       "      <th>5</th>\n",
       "      <td>female</td>\n",
       "      <td>other</td>\n",
       "      <td>40.480000</td>\n",
       "      <td>no</td>\n",
       "      <td>no</td>\n",
       "      <td>no</td>\n",
       "      <td>yes</td>\n",
       "      <td>5.6</td>\n",
       "      <td>8.09</td>\n",
       "      <td>0.4</td>\n",
       "      <td>0.88915</td>\n",
       "      <td>13</td>\n",
       "      <td>low</td>\n",
       "      <td>other</td>\n",
       "    </tr>\n",
       "  </tbody>\n",
       "</table>\n",
       "</div>"
      ],
      "text/plain": [
       "          gender ethnicity      score fcollege mcollege home urban  unemp  \\\n",
       "rownames                                                                    \n",
       "1           male     other  39.150002      yes       no  yes   yes    6.2   \n",
       "2         female     other  48.869999       no       no  yes   yes    6.2   \n",
       "3           male     other  48.740002       no       no  yes   yes    6.2   \n",
       "4           male      afam  40.400002       no       no  yes   yes    6.2   \n",
       "5         female     other  40.480000       no       no   no   yes    5.6   \n",
       "\n",
       "          wage  distance  tuition  education income region  \n",
       "rownames                                                    \n",
       "1         8.09       0.2  0.88915         12   high  other  \n",
       "2         8.09       0.2  0.88915         12    low  other  \n",
       "3         8.09       0.2  0.88915         12    low  other  \n",
       "4         8.09       0.2  0.88915         12    low  other  \n",
       "5         8.09       0.4  0.88915         13    low  other  "
      ]
     },
     "execution_count": 22,
     "metadata": {},
     "output_type": "execute_result"
    }
   ],
   "source": [
    "df.head()"
   ]
  },
  {
   "cell_type": "code",
   "execution_count": 23,
   "id": "248b3cd4-c40a-47f4-bd2c-0047cd47fbfd",
   "metadata": {},
   "outputs": [
    {
     "data": {
      "text/html": [
       "<div>\n",
       "<style scoped>\n",
       "    .dataframe tbody tr th:only-of-type {\n",
       "        vertical-align: middle;\n",
       "    }\n",
       "\n",
       "    .dataframe tbody tr th {\n",
       "        vertical-align: top;\n",
       "    }\n",
       "\n",
       "    .dataframe thead th {\n",
       "        text-align: right;\n",
       "    }\n",
       "</style>\n",
       "<table border=\"1\" class=\"dataframe\">\n",
       "  <thead>\n",
       "    <tr style=\"text-align: right;\">\n",
       "      <th></th>\n",
       "      <th>score</th>\n",
       "      <th>unemp</th>\n",
       "      <th>wage</th>\n",
       "      <th>distance</th>\n",
       "      <th>tuition</th>\n",
       "      <th>education</th>\n",
       "    </tr>\n",
       "  </thead>\n",
       "  <tbody>\n",
       "    <tr>\n",
       "      <th>count</th>\n",
       "      <td>4739.000000</td>\n",
       "      <td>4739.000000</td>\n",
       "      <td>4739.000000</td>\n",
       "      <td>4739.000000</td>\n",
       "      <td>4739.000000</td>\n",
       "      <td>4739.000000</td>\n",
       "    </tr>\n",
       "    <tr>\n",
       "      <th>mean</th>\n",
       "      <td>50.889029</td>\n",
       "      <td>7.597215</td>\n",
       "      <td>9.500506</td>\n",
       "      <td>1.802870</td>\n",
       "      <td>0.814608</td>\n",
       "      <td>13.807765</td>\n",
       "    </tr>\n",
       "    <tr>\n",
       "      <th>std</th>\n",
       "      <td>8.701910</td>\n",
       "      <td>2.763581</td>\n",
       "      <td>1.343067</td>\n",
       "      <td>2.297128</td>\n",
       "      <td>0.339504</td>\n",
       "      <td>1.789107</td>\n",
       "    </tr>\n",
       "    <tr>\n",
       "      <th>min</th>\n",
       "      <td>28.950001</td>\n",
       "      <td>1.400000</td>\n",
       "      <td>6.590000</td>\n",
       "      <td>0.000000</td>\n",
       "      <td>0.257510</td>\n",
       "      <td>12.000000</td>\n",
       "    </tr>\n",
       "    <tr>\n",
       "      <th>25%</th>\n",
       "      <td>43.924999</td>\n",
       "      <td>5.900000</td>\n",
       "      <td>8.850000</td>\n",
       "      <td>0.400000</td>\n",
       "      <td>0.484990</td>\n",
       "      <td>12.000000</td>\n",
       "    </tr>\n",
       "    <tr>\n",
       "      <th>50%</th>\n",
       "      <td>51.189999</td>\n",
       "      <td>7.100000</td>\n",
       "      <td>9.680000</td>\n",
       "      <td>1.000000</td>\n",
       "      <td>0.824480</td>\n",
       "      <td>13.000000</td>\n",
       "    </tr>\n",
       "    <tr>\n",
       "      <th>75%</th>\n",
       "      <td>57.769999</td>\n",
       "      <td>8.900000</td>\n",
       "      <td>10.150000</td>\n",
       "      <td>2.500000</td>\n",
       "      <td>1.127020</td>\n",
       "      <td>16.000000</td>\n",
       "    </tr>\n",
       "    <tr>\n",
       "      <th>max</th>\n",
       "      <td>72.809998</td>\n",
       "      <td>24.900000</td>\n",
       "      <td>12.960000</td>\n",
       "      <td>20.000000</td>\n",
       "      <td>1.404160</td>\n",
       "      <td>18.000000</td>\n",
       "    </tr>\n",
       "  </tbody>\n",
       "</table>\n",
       "</div>"
      ],
      "text/plain": [
       "             score        unemp         wage     distance      tuition  \\\n",
       "count  4739.000000  4739.000000  4739.000000  4739.000000  4739.000000   \n",
       "mean     50.889029     7.597215     9.500506     1.802870     0.814608   \n",
       "std       8.701910     2.763581     1.343067     2.297128     0.339504   \n",
       "min      28.950001     1.400000     6.590000     0.000000     0.257510   \n",
       "25%      43.924999     5.900000     8.850000     0.400000     0.484990   \n",
       "50%      51.189999     7.100000     9.680000     1.000000     0.824480   \n",
       "75%      57.769999     8.900000    10.150000     2.500000     1.127020   \n",
       "max      72.809998    24.900000    12.960000    20.000000     1.404160   \n",
       "\n",
       "         education  \n",
       "count  4739.000000  \n",
       "mean     13.807765  \n",
       "std       1.789107  \n",
       "min      12.000000  \n",
       "25%      12.000000  \n",
       "50%      13.000000  \n",
       "75%      16.000000  \n",
       "max      18.000000  "
      ]
     },
     "execution_count": 23,
     "metadata": {},
     "output_type": "execute_result"
    }
   ],
   "source": [
    "df.describe()"
   ]
  },
  {
   "cell_type": "markdown",
   "id": "d188c944",
   "metadata": {},
   "source": [
    "__How is `education` encoded? Create a binary variable `education_binary` to replace it.__"
   ]
  },
  {
   "cell_type": "code",
   "execution_count": 24,
   "id": "8404b3bc",
   "metadata": {},
   "outputs": [
    {
     "data": {
      "text/plain": [
       "array(['high', 'low'], dtype=object)"
      ]
     },
     "execution_count": 24,
     "metadata": {},
     "output_type": "execute_result"
    }
   ],
   "source": [
    "df['income'].unique()\n",
    "# education variable takes string values (\"high\" or \"low\"). "
   ]
  },
  {
   "cell_type": "code",
   "execution_count": 25,
   "id": "dad2914e",
   "metadata": {},
   "outputs": [],
   "source": [
    "# we need to convert them into 1 and 0 first\n",
    "df['income_binary'] = (df['income'] == \"high\")*1"
   ]
  },
  {
   "cell_type": "code",
   "execution_count": 26,
   "id": "a37d74b9-fb2e-4cc9-880a-8a630a302d62",
   "metadata": {},
   "outputs": [],
   "source": [
    "# other option 1\n",
    "df['incomeb'] = df['income'].map({'high' : 1, 'low': 0})"
   ]
  },
  {
   "cell_type": "code",
   "execution_count": 27,
   "id": "a6d728e0-b5a4-472c-a74e-32326147e764",
   "metadata": {},
   "outputs": [],
   "source": [
    "# other option 2\n",
    "df['incomeb'] = (df['income'] == 'high')*1"
   ]
  },
  {
   "cell_type": "markdown",
   "id": "23a45cff",
   "metadata": {},
   "source": [
    "__Plot an histogram of distance to college.__"
   ]
  },
  {
   "cell_type": "code",
   "execution_count": 28,
   "id": "42ee38e6",
   "metadata": {},
   "outputs": [
    {
     "data": {
      "text/plain": [
       "(array([3241.,  831.,  399.,  156.,   45.,   17.,   10.,   19.,   17.,\n",
       "           4.]),\n",
       " array([ 0.,  2.,  4.,  6.,  8., 10., 12., 14., 16., 18., 20.]),\n",
       " <BarContainer object of 10 artists>)"
      ]
     },
     "execution_count": 28,
     "metadata": {},
     "output_type": "execute_result"
    },
    {
     "data": {
      "image/png": "[encoded data removed]",
      "text/plain": [
       "<Figure size 640x480 with 1 Axes>"
      ]
     },
     "metadata": {},
     "output_type": "display_data"
    }
   ],
   "source": [
    "from matplotlib import pyplot as plt\n",
    "plt.hist(df['distance'])"
   ]
  },
  {
   "cell_type": "code",
   "execution_count": 32,
   "id": "cd4926fe",
   "metadata": {},
   "outputs": [
    {
     "data": {
      "text/plain": [
       "<Axes: xlabel='distance', ylabel='Count'>"
      ]
     },
     "execution_count": 32,
     "metadata": {},
     "output_type": "execute_result"
    },
    {
     "data": {
      "image/png": "[encoded data removed]",
      "text/plain": [
       "<Figure size 640x480 with 1 Axes>"
      ]
     },
     "metadata": {},
     "output_type": "display_data"
    }
   ],
   "source": [
    "# same with seaborn\n",
    "import seaborn as sns\n",
    "sns.histplot(df['distance'])"
   ]
  },
  {
   "cell_type": "markdown",
   "id": "ca8ec743",
   "metadata": {},
   "source": [
    "__Run the naive regression $\\text{incomeb}=\\beta_0 + \\beta_1 \\text{education} + u$ using linearmodels. Comment.__\n",
    "\n"
   ]
  },
  {
   "cell_type": "code",
   "execution_count": 33,
   "id": "2cf049ee",
   "metadata": {},
   "outputs": [
    {
     "data": {
      "text/html": [
       "<table class=\"simpletable\">\n",
       "<caption>OLS Estimation Summary</caption>\n",
       "<tr>\n",
       "  <th>Dep. Variable:</th>         <td>incomeb</td>     <th>  R-squared:         </th> <td>0.0480</td> \n",
       "</tr>\n",
       "<tr>\n",
       "  <th>Estimator:</th>               <td>OLS</td>       <th>  Adj. R-squared:    </th> <td>0.0478</td> \n",
       "</tr>\n",
       "<tr>\n",
       "  <th>No. Observations:</th>       <td>4739</td>       <th>  F-statistic:       </th> <td>227.43</td> \n",
       "</tr>\n",
       "<tr>\n",
       "  <th>Date:</th>             <td>Tue, Feb 13 2024</td> <th>  P-value (F-stat)   </th> <td>0.0000</td> \n",
       "</tr>\n",
       "<tr>\n",
       "  <th>Time:</th>                 <td>22:56:43</td>     <th>  Distribution:      </th> <td>chi2(1)</td>\n",
       "</tr>\n",
       "<tr>\n",
       "  <th>Cov. Estimator:</th>        <td>robust</td>      <th>                     </th>    <td></td>    \n",
       "</tr>\n",
       "<tr>\n",
       "  <th></th>                          <td></td>         <th>                     </th>    <td></td>    \n",
       "</tr>\n",
       "</table>\n",
       "<table class=\"simpletable\">\n",
       "<caption>Parameter Estimates</caption>\n",
       "<tr>\n",
       "      <td></td>      <th>Parameter</th> <th>Std. Err.</th> <th>T-stat</th>  <th>P-value</th> <th>Lower CI</th> <th>Upper CI</th>\n",
       "</tr>\n",
       "<tr>\n",
       "  <th>Intercept</th>  <td>-0.4780</td>   <td>0.0499</td>   <td>-9.5702</td> <td>0.0000</td>   <td>-0.5759</td>  <td>-0.3801</td>\n",
       "</tr>\n",
       "<tr>\n",
       "  <th>education</th>  <td>0.0555</td>    <td>0.0037</td>   <td>15.081</td>  <td>0.0000</td>   <td>0.0483</td>   <td>0.0627</td> \n",
       "</tr>\n",
       "</table><br/>id: 0x7f3819703590"
      ],
      "text/plain": [
       "                            OLS Estimation Summary                            \n",
       "==============================================================================\n",
       "Dep. Variable:                incomeb   R-squared:                      0.0480\n",
       "Estimator:                        OLS   Adj. R-squared:                 0.0478\n",
       "No. Observations:                4739   F-statistic:                    227.43\n",
       "Date:                Tue, Feb 13 2024   P-value (F-stat)                0.0000\n",
       "Time:                        22:56:43   Distribution:                  chi2(1)\n",
       "Cov. Estimator:                robust                                         \n",
       "                                                                              \n",
       "                             Parameter Estimates                              \n",
       "==============================================================================\n",
       "            Parameter  Std. Err.     T-stat    P-value    Lower CI    Upper CI\n",
       "------------------------------------------------------------------------------\n",
       "Intercept     -0.4780     0.0499    -9.5702     0.0000     -0.5759     -0.3801\n",
       "education      0.0555     0.0037     15.081     0.0000      0.0483      0.0627\n",
       "==============================================================================\n",
       "OLSResults, id: 0x7f3819703590"
      ]
     },
     "execution_count": 33,
     "metadata": {},
     "output_type": "execute_result"
    }
   ],
   "source": [
    "from linearmodels.iv import IV2SLS # we can use IV2SLS instead of OLS to run regular regressions\n",
    "\n",
    "formula = \"incomeb ~ education\"\n",
    "model = IV2SLS.from_formula(formula, df)\n",
    "result = model.fit()\n",
    "result"
   ]
  },
  {
   "cell_type": "markdown",
   "id": "8c28e076-71b1-4fb3-87fb-dde132a4c35b",
   "metadata": {},
   "source": [
    "We find that education explains higher income with a significant, but low coefficient 0.05.\n"
   ]
  },
  {
   "cell_type": "markdown",
   "id": "bf7a87cd",
   "metadata": {},
   "source": [
    "__Augment the regression with `unemp`, `hispanic`, `af-am`, `female` and `urban`. Notice that categorical variables are encoded automatically. What are the treatment values? Change it using the syntax (`C(var,Treatment='ref')`)__"
   ]
  },
  {
   "cell_type": "code",
   "execution_count": 34,
   "id": "d5687e09",
   "metadata": {},
   "outputs": [
    {
     "data": {
      "text/html": [
       "<table class=\"simpletable\">\n",
       "<caption>OLS Estimation Summary</caption>\n",
       "<tr>\n",
       "  <th>Dep. Variable:</th>         <td>incomeb</td>     <th>  R-squared:         </th> <td>0.0811</td> \n",
       "</tr>\n",
       "<tr>\n",
       "  <th>Estimator:</th>               <td>OLS</td>       <th>  Adj. R-squared:    </th> <td>0.0802</td> \n",
       "</tr>\n",
       "<tr>\n",
       "  <th>No. Observations:</th>       <td>4739</td>       <th>  F-statistic:       </th> <td>443.38</td> \n",
       "</tr>\n",
       "<tr>\n",
       "  <th>Date:</th>             <td>Tue, Feb 13 2024</td> <th>  P-value (F-stat)   </th> <td>0.0000</td> \n",
       "</tr>\n",
       "<tr>\n",
       "  <th>Time:</th>                 <td>22:56:44</td>     <th>  Distribution:      </th> <td>chi2(5)</td>\n",
       "</tr>\n",
       "<tr>\n",
       "  <th>Cov. Estimator:</th>        <td>robust</td>      <th>                     </th>    <td></td>    \n",
       "</tr>\n",
       "<tr>\n",
       "  <th></th>                          <td></td>         <th>                     </th>    <td></td>    \n",
       "</tr>\n",
       "</table>\n",
       "<table class=\"simpletable\">\n",
       "<caption>Parameter Estimates</caption>\n",
       "<tr>\n",
       "            <td></td>            <th>Parameter</th> <th>Std. Err.</th> <th>T-stat</th>  <th>P-value</th> <th>Lower CI</th> <th>Upper CI</th>\n",
       "</tr>\n",
       "<tr>\n",
       "  <th>Intercept</th>              <td>-0.4361</td>   <td>0.0533</td>   <td>-8.1797</td> <td>0.0000</td>   <td>-0.5406</td>  <td>-0.3316</td>\n",
       "</tr>\n",
       "<tr>\n",
       "  <th>education</th>              <td>0.0511</td>    <td>0.0037</td>   <td>13.982</td>  <td>0.0000</td>   <td>0.0439</td>   <td>0.0582</td> \n",
       "</tr>\n",
       "<tr>\n",
       "  <th>unemp</th>                  <td>-0.0111</td>   <td>0.0022</td>   <td>-4.9609</td> <td>0.0000</td>   <td>-0.0155</td>  <td>-0.0067</td>\n",
       "</tr>\n",
       "<tr>\n",
       "  <th>gender[T.male]</th>         <td>0.0484</td>    <td>0.0128</td>   <td>3.7866</td>  <td>0.0002</td>   <td>0.0234</td>   <td>0.0735</td> \n",
       "</tr>\n",
       "<tr>\n",
       "  <th>ethnicity[T.hispanic]</th>  <td>-0.0249</td>   <td>0.0185</td>   <td>-1.3425</td> <td>0.1794</td>   <td>-0.0612</td>  <td>0.0114</td> \n",
       "</tr>\n",
       "<tr>\n",
       "  <th>ethnicity[T.other]</th>     <td>0.1347</td>    <td>0.0163</td>   <td>8.2871</td>  <td>0.0000</td>   <td>0.1029</td>   <td>0.1666</td> \n",
       "</tr>\n",
       "</table><br/>id: 0x7f38195de570"
      ],
      "text/plain": [
       "                            OLS Estimation Summary                            \n",
       "==============================================================================\n",
       "Dep. Variable:                incomeb   R-squared:                      0.0811\n",
       "Estimator:                        OLS   Adj. R-squared:                 0.0802\n",
       "No. Observations:                4739   F-statistic:                    443.38\n",
       "Date:                Tue, Feb 13 2024   P-value (F-stat)                0.0000\n",
       "Time:                        22:56:44   Distribution:                  chi2(5)\n",
       "Cov. Estimator:                robust                                         \n",
       "                                                                              \n",
       "                                   Parameter Estimates                                   \n",
       "=========================================================================================\n",
       "                       Parameter  Std. Err.     T-stat    P-value    Lower CI    Upper CI\n",
       "-----------------------------------------------------------------------------------------\n",
       "Intercept                -0.4361     0.0533    -8.1797     0.0000     -0.5406     -0.3316\n",
       "education                 0.0511     0.0037     13.982     0.0000      0.0439      0.0582\n",
       "unemp                    -0.0111     0.0022    -4.9609     0.0000     -0.0155     -0.0067\n",
       "gender[T.male]            0.0484     0.0128     3.7866     0.0002      0.0234      0.0735\n",
       "ethnicity[T.hispanic]    -0.0249     0.0185    -1.3425     0.1794     -0.0612      0.0114\n",
       "ethnicity[T.other]        0.1347     0.0163     8.2871     0.0000      0.1029      0.1666\n",
       "=========================================================================================\n",
       "OLSResults, id: 0x7f38195de570"
      ]
     },
     "execution_count": 34,
     "metadata": {},
     "output_type": "execute_result"
    }
   ],
   "source": [
    "from linearmodels.iv import IV2SLS\n",
    "\n",
    "formula = \"incomeb ~ education + unemp + gender + ethnicity\"\n",
    "model = IV2SLS.from_formula(formula, df)\n",
    "result = model.fit()\n",
    "result"
   ]
  },
  {
   "cell_type": "code",
   "execution_count": 35,
   "id": "e637f975",
   "metadata": {},
   "outputs": [
    {
     "data": {
      "text/plain": [
       "array(['other', 'afam', 'hispanic'], dtype=object)"
      ]
     },
     "execution_count": 35,
     "metadata": {},
     "output_type": "execute_result"
    }
   ],
   "source": [
    "df['ethnicity'].unique()"
   ]
  },
  {
   "cell_type": "markdown",
   "id": "8ca6e83d",
   "metadata": {},
   "source": [
    "In the regression above, some variables have been created for each value of the categorical vairables (save for the reference value which doesn't appear).\n",
    "In the case of variable `ethnicity`, we see that  `hispanic` and `other` are two of the three values taken by variable `ethnicity`. This means that value `afam` was taken as reference.\n",
    "\n",
    "We can change the reference variable as follows:"
   ]
  },
  {
   "cell_type": "code",
   "execution_count": 36,
   "id": "214c014b",
   "metadata": {},
   "outputs": [
    {
     "data": {
      "text/html": [
       "<table class=\"simpletable\">\n",
       "<caption>OLS Estimation Summary</caption>\n",
       "<tr>\n",
       "  <th>Dep. Variable:</th>         <td>incomeb</td>     <th>  R-squared:         </th> <td>0.0811</td> \n",
       "</tr>\n",
       "<tr>\n",
       "  <th>Estimator:</th>               <td>OLS</td>       <th>  Adj. R-squared:    </th> <td>0.0802</td> \n",
       "</tr>\n",
       "<tr>\n",
       "  <th>No. Observations:</th>       <td>4739</td>       <th>  F-statistic:       </th> <td>443.38</td> \n",
       "</tr>\n",
       "<tr>\n",
       "  <th>Date:</th>             <td>Tue, Feb 13 2024</td> <th>  P-value (F-stat)   </th> <td>0.0000</td> \n",
       "</tr>\n",
       "<tr>\n",
       "  <th>Time:</th>                 <td>22:56:45</td>     <th>  Distribution:      </th> <td>chi2(5)</td>\n",
       "</tr>\n",
       "<tr>\n",
       "  <th>Cov. Estimator:</th>        <td>robust</td>      <th>                     </th>    <td></td>    \n",
       "</tr>\n",
       "<tr>\n",
       "  <th></th>                          <td></td>         <th>                     </th>    <td></td>    \n",
       "</tr>\n",
       "</table>\n",
       "<table class=\"simpletable\">\n",
       "<caption>Parameter Estimates</caption>\n",
       "<tr>\n",
       "                             <td></td>                            <th>Parameter</th> <th>Std. Err.</th> <th>T-stat</th>  <th>P-value</th> <th>Lower CI</th> <th>Upper CI</th>\n",
       "</tr>\n",
       "<tr>\n",
       "  <th>Intercept</th>                                               <td>-0.3014</td>   <td>0.0540</td>   <td>-5.5788</td> <td>0.0000</td>   <td>-0.4073</td>  <td>-0.1955</td>\n",
       "</tr>\n",
       "<tr>\n",
       "  <th>education</th>                                               <td>0.0511</td>    <td>0.0037</td>   <td>13.982</td>  <td>0.0000</td>   <td>0.0439</td>   <td>0.0582</td> \n",
       "</tr>\n",
       "<tr>\n",
       "  <th>unemp</th>                                                   <td>-0.0111</td>   <td>0.0022</td>   <td>-4.9609</td> <td>0.0000</td>   <td>-0.0155</td>  <td>-0.0067</td>\n",
       "</tr>\n",
       "<tr>\n",
       "  <th>C(gender)[T.male]</th>                                       <td>0.0484</td>    <td>0.0128</td>   <td>3.7866</td>  <td>0.0002</td>   <td>0.0234</td>   <td>0.0735</td> \n",
       "</tr>\n",
       "<tr>\n",
       "  <th>C(ethnicity, Treatment(reference='other'))[T.afam]</th>      <td>-0.1347</td>   <td>0.0163</td>   <td>-8.2871</td> <td>0.0000</td>   <td>-0.1666</td>  <td>-0.1029</td>\n",
       "</tr>\n",
       "<tr>\n",
       "  <th>C(ethnicity, Treatment(reference='other'))[T.hispanic]</th>  <td>-0.1596</td>   <td>0.0149</td>   <td>-10.710</td> <td>0.0000</td>   <td>-0.1888</td>  <td>-0.1304</td>\n",
       "</tr>\n",
       "</table><br/>id: 0x7f3819605d90"
      ],
      "text/plain": [
       "                            OLS Estimation Summary                            \n",
       "==============================================================================\n",
       "Dep. Variable:                incomeb   R-squared:                      0.0811\n",
       "Estimator:                        OLS   Adj. R-squared:                 0.0802\n",
       "No. Observations:                4739   F-statistic:                    443.38\n",
       "Date:                Tue, Feb 13 2024   P-value (F-stat)                0.0000\n",
       "Time:                        22:56:45   Distribution:                  chi2(5)\n",
       "Cov. Estimator:                robust                                         \n",
       "                                                                              \n",
       "                                                   Parameter Estimates                                                    \n",
       "==========================================================================================================================\n",
       "                                                        Parameter  Std. Err.     T-stat    P-value    Lower CI    Upper CI\n",
       "--------------------------------------------------------------------------------------------------------------------------\n",
       "Intercept                                                 -0.3014     0.0540    -5.5788     0.0000     -0.4073     -0.1955\n",
       "education                                                  0.0511     0.0037     13.982     0.0000      0.0439      0.0582\n",
       "unemp                                                     -0.0111     0.0022    -4.9609     0.0000     -0.0155     -0.0067\n",
       "C(gender)[T.male]                                          0.0484     0.0128     3.7866     0.0002      0.0234      0.0735\n",
       "C(ethnicity, Treatment(reference='other'))[T.afam]        -0.1347     0.0163    -8.2871     0.0000     -0.1666     -0.1029\n",
       "C(ethnicity, Treatment(reference='other'))[T.hispanic]    -0.1596     0.0149    -10.710     0.0000     -0.1888     -0.1304\n",
       "==========================================================================================================================\n",
       "OLSResults, id: 0x7f3819605d90"
      ]
     },
     "execution_count": 36,
     "metadata": {},
     "output_type": "execute_result"
    }
   ],
   "source": [
    "# needed only if you use the function Treatment in the formulas\n",
    "from linearmodels.iv import IV2SLS\n",
    "\n",
    "formula = \"incomeb ~ education + unemp + C(gender) + C(ethnicity,Treatment(reference='other'))\"\n",
    "model = IV2SLS.from_formula(formula, df)\n",
    "result = model.fit()\n",
    "result"
   ]
  },
  {
   "cell_type": "markdown",
   "id": "2fbb99cb",
   "metadata": {},
   "source": [
    "__Comment the results and explain the endogeneity problem__"
   ]
  },
  {
   "cell_type": "markdown",
   "id": "ced8d847",
   "metadata": {},
   "source": [
    "Adding additional regressors has increased the fit (adj. R^2 from 0.04 to 0.08) without changing the coefficient on the education level. This would imply that regression is robust.\n",
    "\n",
    "However, we might have an endogeneity issue with some potential other factors explaining both income level and salary (cf many discussions in the course)."
   ]
  },
  {
   "cell_type": "markdown",
   "id": "7ef245e7",
   "metadata": {},
   "source": [
    "__Explain why distance to college might be used to instrument the effect of schooling.__"
   ]
  },
  {
   "cell_type": "markdown",
   "id": "7f292d71-0082-4c56-b247-be9a6369426e",
   "metadata": {},
   "source": [
    "Assuming that the decision to live in \n",
    "a given county does not depend on the presence of a college nearby, the distance to college should be exogenous.\n",
    "\n",
    "The distance to college is probably correlated with the decision to go so the instrument should have some power (opposite of weak)\n"
   ]
  },
  {
   "cell_type": "markdown",
   "id": "1f08a5b4",
   "metadata": {},
   "source": [
    "__Run an IV regression, where `distance` is used to instrument schooling.__"
   ]
  },
  {
   "cell_type": "markdown",
   "id": "7ee16e5c",
   "metadata": {},
   "source": [
    "look at: \n",
    "    https://bashtage.github.io/linearmodels/\n",
    "   (two-stage least squares)"
   ]
  },
  {
   "cell_type": "code",
   "execution_count": 37,
   "id": "2bebc433",
   "metadata": {},
   "outputs": [
    {
     "data": {
      "text/html": [
       "<table class=\"simpletable\">\n",
       "<caption>IV-2SLS Estimation Summary</caption>\n",
       "<tr>\n",
       "  <th>Dep. Variable:</th>         <td>incomeb</td>     <th>  R-squared:         </th> <td>-0.1339</td>\n",
       "</tr>\n",
       "<tr>\n",
       "  <th>Estimator:</th>             <td>IV-2SLS</td>     <th>  Adj. R-squared:    </th> <td>-0.1351</td>\n",
       "</tr>\n",
       "<tr>\n",
       "  <th>No. Observations:</th>       <td>4739</td>       <th>  F-statistic:       </th> <td>1748.5</td> \n",
       "</tr>\n",
       "<tr>\n",
       "  <th>Date:</th>             <td>Tue, Feb 13 2024</td> <th>  P-value (F-stat)   </th> <td>0.0000</td> \n",
       "</tr>\n",
       "<tr>\n",
       "  <th>Time:</th>                 <td>22:56:48</td>     <th>  Distribution:      </th> <td>chi2(6)</td>\n",
       "</tr>\n",
       "<tr>\n",
       "  <th>Cov. Estimator:</th>        <td>robust</td>      <th>                     </th>    <td></td>    \n",
       "</tr>\n",
       "<tr>\n",
       "  <th></th>                          <td></td>         <th>                     </th>    <td></td>    \n",
       "</tr>\n",
       "</table>\n",
       "<table class=\"simpletable\">\n",
       "<caption>Parameter Estimates</caption>\n",
       "<tr>\n",
       "                             <td></td>                            <th>Parameter</th> <th>Std. Err.</th> <th>T-stat</th>  <th>P-value</th> <th>Lower CI</th> <th>Upper CI</th>\n",
       "</tr>\n",
       "<tr>\n",
       "  <th>unemp</th>                                                   <td>-0.0100</td>   <td>0.0025</td>   <td>-3.9704</td> <td>0.0001</td>   <td>-0.0149</td>  <td>-0.0051</td>\n",
       "</tr>\n",
       "<tr>\n",
       "  <th>C(gender)[T.female]</th>                                     <td>-1.9566</td>   <td>0.5039</td>   <td>-3.8830</td> <td>0.0001</td>   <td>-2.9441</td>  <td>-0.9690</td>\n",
       "</tr>\n",
       "<tr>\n",
       "  <th>C(gender)[T.male]</th>                                       <td>-1.9109</td>   <td>0.5042</td>   <td>-3.7897</td> <td>0.0002</td>   <td>-2.8991</td>  <td>-0.9226</td>\n",
       "</tr>\n",
       "<tr>\n",
       "  <th>C(ethnicity, Treatment(reference='other'))[T.afam]</th>      <td>-0.0753</td>   <td>0.0259</td>   <td>-2.9005</td> <td>0.0037</td>   <td>-0.1261</td>  <td>-0.0244</td>\n",
       "</tr>\n",
       "<tr>\n",
       "  <th>C(ethnicity, Treatment(reference='other'))[T.hispanic]</th>  <td>-0.1247</td>   <td>0.0203</td>   <td>-6.1432</td> <td>0.0000</td>   <td>-0.1645</td>  <td>-0.0849</td>\n",
       "</tr>\n",
       "<tr>\n",
       "  <th>education</th>                                               <td>0.1692</td>    <td>0.0358</td>   <td>4.7261</td>  <td>0.0000</td>   <td>0.0990</td>   <td>0.2393</td> \n",
       "</tr>\n",
       "</table><br/><br/>Endogenous: education<br/>Instruments: distance<br/>Robust Covariance (Heteroskedastic)<br/>Debiased: False<br/>id: 0x7f38194d20c0"
      ],
      "text/plain": [
       "                          IV-2SLS Estimation Summary                          \n",
       "==============================================================================\n",
       "Dep. Variable:                incomeb   R-squared:                     -0.1339\n",
       "Estimator:                    IV-2SLS   Adj. R-squared:                -0.1351\n",
       "No. Observations:                4739   F-statistic:                    1748.5\n",
       "Date:                Tue, Feb 13 2024   P-value (F-stat)                0.0000\n",
       "Time:                        22:56:48   Distribution:                  chi2(6)\n",
       "Cov. Estimator:                robust                                         \n",
       "                                                                              \n",
       "                                                   Parameter Estimates                                                    \n",
       "==========================================================================================================================\n",
       "                                                        Parameter  Std. Err.     T-stat    P-value    Lower CI    Upper CI\n",
       "--------------------------------------------------------------------------------------------------------------------------\n",
       "unemp                                                     -0.0100     0.0025    -3.9704     0.0001     -0.0149     -0.0051\n",
       "C(gender)[T.female]                                       -1.9566     0.5039    -3.8830     0.0001     -2.9441     -0.9690\n",
       "C(gender)[T.male]                                         -1.9109     0.5042    -3.7897     0.0002     -2.8991     -0.9226\n",
       "C(ethnicity, Treatment(reference='other'))[T.afam]        -0.0753     0.0259    -2.9005     0.0037     -0.1261     -0.0244\n",
       "C(ethnicity, Treatment(reference='other'))[T.hispanic]    -0.1247     0.0203    -6.1432     0.0000     -0.1645     -0.0849\n",
       "education                                                  0.1692     0.0358     4.7261     0.0000      0.0990      0.2393\n",
       "==========================================================================================================================\n",
       "\n",
       "Endogenous: education\n",
       "Instruments: distance\n",
       "Robust Covariance (Heteroskedastic)\n",
       "Debiased: False\n",
       "IVResults, id: 0x7f38194d20c0"
      ]
     },
     "execution_count": 37,
     "metadata": {},
     "output_type": "execute_result"
    }
   ],
   "source": [
    "from linearmodels.iv import IV2SLS\n",
    " \n",
    "formula = \"incomeb ~ [education ~ distance] + unemp + C(gender) + C(ethnicity, Treatment(reference='other'))\"\n",
    "model = IV2SLS.from_formula(formula, df)\n",
    "result = model.fit()\n",
    "result"
   ]
  },
  {
   "cell_type": "markdown",
   "id": "e10cebf1",
   "metadata": {},
   "source": [
    "__Comment the results. Compare with the R tutorials.__"
   ]
  },
  {
   "cell_type": "markdown",
   "id": "0e76ccc1-f514-4e68-bc07-2501ad7f1de8",
   "metadata": {},
   "source": [
    "The estimate we get for the return on education is three times higher and highly significant."
   ]
  }
 ],
 "metadata": {
  "kernelspec": {
   "display_name": "Python 3",
   "language": "python",
   "name": "python3"
  },
  "language_info": {
   "codemirror_mode": {
    "name": "ipython",
    "version": 3
   },
   "file_extension": ".py",
   "mimetype": "text/x-python",
   "name": "python",
   "nbconvert_exporter": "python",
   "pygments_lexer": "ipython3",
   "version": "3.12.1"
  }
 },
 "nbformat": 4,
 "nbformat_minor": 5
}
