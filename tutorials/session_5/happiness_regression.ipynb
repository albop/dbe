{
 "cells": [
  {
   "cell_type": "markdown",
   "id": "6a703fd8-3df1-449a-991d-b2942cd20151",
   "metadata": {},
   "source": [
    "# More Regressions\n",
    "\n",
    "## The World Happiness Report."
   ]
  },
  {
   "cell_type": "markdown",
   "id": "f6c0b117-c6d7-43e7-a008-4d76a9d593a2",
   "metadata": {},
   "source": [
    "We will analyse those data to find relationships between the happiness score and economy, family, health, freedom, trust, perception of\n",
    "corruption, generosity..."
   ]
  },
  {
   "cell_type": "markdown",
   "id": "caba28dd-7395-405c-b878-028b830a3b7b",
   "metadata": {},
   "source": [
    "The dataset contains the following variables:"
   ]
  },
  {
   "cell_type": "markdown",
   "id": "9e7e36ad-80d2-42fe-a63c-4123192c8c08",
   "metadata": {
    "tags": []
   },
   "source": [
    "- Country : Country name\n",
    "- Overall rank : Country ranking based on happiness score\n",
    "- Score : Individual personal happiness rating from 0 to 10.\n",
    "- GDP per capita : GDP per capita of each country in terms of purchasing power parity (PPP) (in USD)\n",
    "- Social support : Individual rating that determines whether, when you have problems, your family or friends would help you. Binary responses (0 or 1).\n",
    "- Healthy life expectancy : Healthy life expectancy at birth is based on data from the World Health Organization (WHO)\n",
    "- Freedom to make life choices : Individual rating that determines whether you are atisfied or dissatisfied with your freedom to choose hat you do with your life. Binary responses (0 or 1).\n",
    "- Generosity : Generosity is the residual from the regression of the national mean of responses to the question \"Have you donated money to a charity in the last month?\" on GDP per capita.\n",
    "- Perceptions of corruption : Average of binary responses to two GWP questions: corruption in government and corruption in business."
   ]
  },
  {
   "cell_type": "markdown",
   "id": "8462b3a9-f41f-46ba-9d47-add8e8ef8ec8",
   "metadata": {},
   "source": [
    "### I) Data exploration"
   ]
  },
  {
   "cell_type": "code",
   "execution_count": 3,
   "id": "e61a3a36-edfd-4592-b14c-3ee805b245be",
   "metadata": {},
   "outputs": [],
   "source": [
    "import pandas as pd\n",
    "import matplotlib.pyplot as plt\n",
    "import seaborn as sns\n",
    "from statsmodels.formula import api as smf"
   ]
  },
  {
   "cell_type": "markdown",
   "id": "6fbc8e6c-4c2a-45f3-b1e2-f3c29359f7c6",
   "metadata": {},
   "source": [
    "Open the csv \"happiness_index_2019\""
   ]
  },
  {
   "cell_type": "code",
   "execution_count": null,
   "id": "74855806",
   "metadata": {},
   "outputs": [],
   "source": []
  },
  {
   "cell_type": "markdown",
   "id": "fbbf61d8-c666-47a6-a751-4d456cf243f5",
   "metadata": {},
   "source": [
    "Explore the dataset by using head function."
   ]
  },
  {
   "cell_type": "code",
   "execution_count": null,
   "id": "10882069",
   "metadata": {},
   "outputs": [],
   "source": []
  },
  {
   "cell_type": "markdown",
   "id": "97b1a330-44ff-4bd7-9815-adbb8f396437",
   "metadata": {},
   "source": [
    "Compute descriptive statistics using a Pandas function"
   ]
  },
  {
   "cell_type": "code",
   "execution_count": null,
   "id": "ad22e70d",
   "metadata": {},
   "outputs": [],
   "source": []
  },
  {
   "cell_type": "markdown",
   "id": "7c65a127-b7c2-401c-a3c7-8eef9f15bbc9",
   "metadata": {},
   "source": [
    "Plot variables that may have a positive correlation using matplotlib"
   ]
  },
  {
   "cell_type": "code",
   "execution_count": null,
   "id": "c4fdc821",
   "metadata": {},
   "outputs": [],
   "source": []
  },
  {
   "cell_type": "markdown",
   "id": "6857c587-08ce-4f1b-b377-b095ed1f63c5",
   "metadata": {},
   "source": [
    "Plot the correlation matrix of the main variables using heatmap function of Seaborn package. It should already be installed on your Nuvolos instance (use escpython kernel)."
   ]
  },
  {
   "cell_type": "code",
   "execution_count": null,
   "id": "8bb965b7",
   "metadata": {},
   "outputs": [],
   "source": []
  },
  {
   "cell_type": "markdown",
   "id": "9a96c2c6",
   "metadata": {},
   "source": [
    "Comment?"
   ]
  },
  {
   "cell_type": "code",
   "execution_count": null,
   "id": "6071ed5b",
   "metadata": {},
   "outputs": [],
   "source": []
  },
  {
   "cell_type": "markdown",
   "id": "2064f738-1b65-4fc2-ae89-491f34190a40",
   "metadata": {},
   "source": [
    "## II) Linear regression"
   ]
  },
  {
   "cell_type": "markdown",
   "id": "ebd670f0-fffe-4c38-8ec4-380712ca1e09",
   "metadata": {},
   "source": [
    "## A) Simple linear regression"
   ]
  },
  {
   "cell_type": "markdown",
   "id": "63fea296-6741-49f6-b737-eaa95669378b",
   "metadata": {},
   "source": [
    "Perform various linear regressions to predict the Happiness score using one of the variables available in the dataset."
   ]
  },
  {
   "cell_type": "code",
   "execution_count": null,
   "id": "358d7c5e",
   "metadata": {},
   "outputs": [],
   "source": []
  },
  {
   "cell_type": "markdown",
   "id": "2c27e752-c6f5-4b6a-b7d0-bca5b1683a1b",
   "metadata": {},
   "source": [
    "## B) Multiple linear regression"
   ]
  },
  {
   "cell_type": "markdown",
   "id": "3e6c4a4b-4c58-44e7-961c-ddd15ad85efa",
   "metadata": {},
   "source": [
    "Perform various linear regressions to predict the Happiness score using several of the variables available in the dataset."
   ]
  },
  {
   "cell_type": "code",
   "execution_count": null,
   "id": "b2317d4b-04d0-4717-9b5d-d292f8aef527",
   "metadata": {},
   "outputs": [],
   "source": []
  },
  {
   "cell_type": "markdown",
   "id": "2d4ddb83",
   "metadata": {},
   "source": [
    "What would be the best model?"
   ]
  },
  {
   "cell_type": "code",
   "execution_count": null,
   "id": "b7f5f649",
   "metadata": {},
   "outputs": [],
   "source": []
  }
 ],
 "metadata": {
  "kernelspec": {
   "display_name": "ESCPython",
   "language": "python",
   "name": "escpython"
  },
  "language_info": {
   "codemirror_mode": {
    "name": "ipython",
    "version": 3
   },
   "file_extension": ".py",
   "mimetype": "text/x-python",
   "name": "python",
   "nbconvert_exporter": "python",
   "pygments_lexer": "ipython3",
   "version": "3.10.9"
  }
 },
 "nbformat": 4,
 "nbformat_minor": 5
}
