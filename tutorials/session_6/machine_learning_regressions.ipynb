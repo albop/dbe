{
 "cells": [
  {
   "attachments": {},
   "cell_type": "markdown",
   "id": "44e40178",
   "metadata": {},
   "source": [
    "# Machine learning: Sparse regressions on the Boston House Price Dataset\n",
    "\n",
    "\n",
    "Objectives:\n",
    "\n",
    "- create a training set and a validation set\n",
    "- train a model with [sklearn]()\n",
    "- perform a validation test\n",
    "\n",
    "The goal of this exercise is to find a way to predict californian house prices, using machine learning regressions.\n"
   ]
  },
  {
   "attachments": {},
   "cell_type": "markdown",
   "id": "8d419464",
   "metadata": {},
   "source": [
    "__Import the California Housing Price Dataset from sklearn.__"
   ]
  },
  {
   "cell_type": "code",
   "execution_count": null,
   "id": "5552b49e",
   "metadata": {},
   "outputs": [],
   "source": [
    "# dataset = sklearn.datasets.load_boston()\n",
    "from sklearn.datasets import fetch_california_housing \n",
    "dataset = fetch_california_housing()"
   ]
  },
  {
   "cell_type": "markdown",
   "id": "4b15bc87",
   "metadata": {},
   "source": [
    "__Explore the data (description, correlations, histograms...)__"
   ]
  },
  {
   "cell_type": "code",
   "execution_count": null,
   "id": "0179151e",
   "metadata": {},
   "outputs": [],
   "source": []
  },
  {
   "cell_type": "markdown",
   "id": "ea3a4343",
   "metadata": {},
   "source": [
    "__Split the dataset into a training set (70%) and a test set (30%).__"
   ]
  },
  {
   "cell_type": "code",
   "execution_count": null,
   "id": "fe0c3ead",
   "metadata": {},
   "outputs": [],
   "source": []
  },
  {
   "cell_type": "markdown",
   "id": "91bdbfa1",
   "metadata": {},
   "source": [
    "__Train  a linear model on the training set (using sklearn).__"
   ]
  },
  {
   "cell_type": "code",
   "execution_count": null,
   "id": "c5ef2a1b",
   "metadata": {},
   "outputs": [],
   "source": []
  },
  {
   "cell_type": "markdown",
   "id": "4e99c613",
   "metadata": {},
   "source": [
    "__Compute the fitting score on the test set. What is the problem? Should we adjust the size of the training set?__"
   ]
  },
  {
   "cell_type": "code",
   "execution_count": null,
   "id": "1096a0f7",
   "metadata": {},
   "outputs": [],
   "source": []
  },
  {
   "cell_type": "markdown",
   "id": "c2a7f35f",
   "metadata": {},
   "source": [
    "__Train a lasso model to predict house prices. Compute the score on the test set.__"
   ]
  },
  {
   "cell_type": "code",
   "execution_count": null,
   "id": "cf980867",
   "metadata": {},
   "outputs": [],
   "source": []
  },
  {
   "cell_type": "markdown",
   "id": "a37cbdd0",
   "metadata": {},
   "source": [
    "__Train a ridge model to predict house prices. Which one is better?__"
   ]
  },
  {
   "cell_type": "code",
   "execution_count": null,
   "id": "c0077e92",
   "metadata": {},
   "outputs": [],
   "source": []
  },
  {
   "cell_type": "markdown",
   "id": "17af7897",
   "metadata": {},
   "source": [
    "__(Bonus): For your preferred regression, implement the k-fold evaluation scheme to validate the model.__"
   ]
  },
  {
   "cell_type": "code",
   "execution_count": null,
   "id": "63f04d7c",
   "metadata": {},
   "outputs": [],
   "source": []
  }
 ],
 "metadata": {
  "kernelspec": {
   "display_name": "Python 3",
   "language": "python",
   "name": "python3"
  },
  "language_info": {
   "codemirror_mode": {
    "name": "ipython",
    "version": 3
   },
   "file_extension": ".py",
   "mimetype": "text/x-python",
   "name": "python",
   "nbconvert_exporter": "python",
   "pygments_lexer": "ipython3",
   "version": "3.8.5"
  }
 },
 "nbformat": 4,
 "nbformat_minor": 5
}
